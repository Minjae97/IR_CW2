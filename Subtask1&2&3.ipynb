{
 "cells": [
  {
   "cell_type": "code",
   "execution_count": 1,
   "id": "fitting-toddler",
   "metadata": {},
   "outputs": [],
   "source": [
    "from IPython.core.interactiveshell import InteractiveShell\n",
    "InteractiveShell.ast_node_interactivity = \"all\""
   ]
  },
  {
   "cell_type": "code",
   "execution_count": 124,
   "id": "color-coral",
   "metadata": {},
   "outputs": [],
   "source": [
    "import re, string, unicodedata\n",
    "import nltk\n",
    "from nltk.corpus import stopwords\n",
    "from nltk.stem import WordNetLemmatizer\n",
    "import pandas as pd\n",
    "import numpy as np\n",
    "import smart_open\n",
    "from tensorflow.keras.preprocessing.text import Tokenizer\n",
    "from tensorflow.keras.preprocessing.sequence import pad_sequences\n",
    "\n",
    "import math\n",
    "from math import log\n",
    "from numpy.random import default_rng, rand\n"
   ]
  },
  {
   "cell_type": "code",
   "execution_count": 3,
   "id": "latter-judges",
   "metadata": {},
   "outputs": [],
   "source": [
    "f = open(\"../dataset/passage_collection_new.txt\", 'r', encoding = 'utf-8') \n",
    "document = f.read()"
   ]
  },
  {
   "cell_type": "code",
   "execution_count": 4,
   "id": "disturbed-cholesterol",
   "metadata": {},
   "outputs": [],
   "source": [
    "header_list = [\"qid\", \"pid\", \"query\", \"passage\"]\n",
    "candidate_passages_top1000 = pd.read_csv(\"../dataset/candidate_passages_top1000.tsv\", sep='\\t', names=header_list)"
   ]
  },
  {
   "cell_type": "code",
   "execution_count": 376,
   "id": "valuable-photography",
   "metadata": {},
   "outputs": [
    {
     "data": {
      "text/html": [
       "<div>\n",
       "<style scoped>\n",
       "    .dataframe tbody tr th:only-of-type {\n",
       "        vertical-align: middle;\n",
       "    }\n",
       "\n",
       "    .dataframe tbody tr th {\n",
       "        vertical-align: top;\n",
       "    }\n",
       "\n",
       "    .dataframe thead th {\n",
       "        text-align: right;\n",
       "    }\n",
       "</style>\n",
       "<table border=\"1\" class=\"dataframe\">\n",
       "  <thead>\n",
       "    <tr style=\"text-align: right;\">\n",
       "      <th></th>\n",
       "      <th>qid</th>\n",
       "      <th>pid</th>\n",
       "      <th>query</th>\n",
       "      <th>passage</th>\n",
       "    </tr>\n",
       "  </thead>\n",
       "  <tbody>\n",
       "    <tr>\n",
       "      <th>0</th>\n",
       "      <td>494835</td>\n",
       "      <td>7130104</td>\n",
       "      <td>sensibilities, definition</td>\n",
       "      <td>This is the definition of RNA along with examp...</td>\n",
       "    </tr>\n",
       "    <tr>\n",
       "      <th>1</th>\n",
       "      <td>1128373</td>\n",
       "      <td>7130104</td>\n",
       "      <td>iur definition</td>\n",
       "      <td>This is the definition of RNA along with examp...</td>\n",
       "    </tr>\n",
       "    <tr>\n",
       "      <th>2</th>\n",
       "      <td>131843</td>\n",
       "      <td>7130104</td>\n",
       "      <td>definition of a sigmet</td>\n",
       "      <td>This is the definition of RNA along with examp...</td>\n",
       "    </tr>\n",
       "    <tr>\n",
       "      <th>3</th>\n",
       "      <td>20455</td>\n",
       "      <td>7130335</td>\n",
       "      <td>ar glasses definition</td>\n",
       "      <td>Best Answer: The AR designation comes from the...</td>\n",
       "    </tr>\n",
       "    <tr>\n",
       "      <th>4</th>\n",
       "      <td>719381</td>\n",
       "      <td>7130335</td>\n",
       "      <td>what is ar balance</td>\n",
       "      <td>Best Answer: The AR designation comes from the...</td>\n",
       "    </tr>\n",
       "    <tr>\n",
       "      <th>...</th>\n",
       "      <td>...</td>\n",
       "      <td>...</td>\n",
       "      <td>...</td>\n",
       "      <td>...</td>\n",
       "    </tr>\n",
       "    <tr>\n",
       "      <th>189872</th>\n",
       "      <td>1056204</td>\n",
       "      <td>79980</td>\n",
       "      <td>who was the first steam boat operator</td>\n",
       "      <td>Other operators with special formats accept mo...</td>\n",
       "    </tr>\n",
       "    <tr>\n",
       "      <th>189873</th>\n",
       "      <td>1132213</td>\n",
       "      <td>7998257</td>\n",
       "      <td>how long to hold bow in yoga</td>\n",
       "      <td>You may be surprised that to learn that yoga t...</td>\n",
       "    </tr>\n",
       "    <tr>\n",
       "      <th>189874</th>\n",
       "      <td>324211</td>\n",
       "      <td>7998651</td>\n",
       "      <td>how much money a united airline get as a capta...</td>\n",
       "      <td>Find cheap airline tickets &amp; deals on flights ...</td>\n",
       "    </tr>\n",
       "    <tr>\n",
       "      <th>189875</th>\n",
       "      <td>1116341</td>\n",
       "      <td>7998709</td>\n",
       "      <td>closed ended mortgage definition</td>\n",
       "      <td>What is a wrap-around mortgage, and who is it ...</td>\n",
       "    </tr>\n",
       "    <tr>\n",
       "      <th>189876</th>\n",
       "      <td>1124145</td>\n",
       "      <td>7998901</td>\n",
       "      <td>truncating meaning</td>\n",
       "      <td>Katie The name Katie is a baby girl name. Mean...</td>\n",
       "    </tr>\n",
       "  </tbody>\n",
       "</table>\n",
       "<p>189877 rows × 4 columns</p>\n",
       "</div>"
      ],
      "text/plain": [
       "            qid      pid                                              query  \\\n",
       "0        494835  7130104                          sensibilities, definition   \n",
       "1       1128373  7130104                                     iur definition   \n",
       "2        131843  7130104                             definition of a sigmet   \n",
       "3         20455  7130335                              ar glasses definition   \n",
       "4        719381  7130335                                 what is ar balance   \n",
       "...         ...      ...                                                ...   \n",
       "189872  1056204    79980              who was the first steam boat operator   \n",
       "189873  1132213  7998257                       how long to hold bow in yoga   \n",
       "189874   324211  7998651  how much money a united airline get as a capta...   \n",
       "189875  1116341  7998709                   closed ended mortgage definition   \n",
       "189876  1124145  7998901                                 truncating meaning   \n",
       "\n",
       "                                                  passage  \n",
       "0       This is the definition of RNA along with examp...  \n",
       "1       This is the definition of RNA along with examp...  \n",
       "2       This is the definition of RNA along with examp...  \n",
       "3       Best Answer: The AR designation comes from the...  \n",
       "4       Best Answer: The AR designation comes from the...  \n",
       "...                                                   ...  \n",
       "189872  Other operators with special formats accept mo...  \n",
       "189873  You may be surprised that to learn that yoga t...  \n",
       "189874  Find cheap airline tickets & deals on flights ...  \n",
       "189875  What is a wrap-around mortgage, and who is it ...  \n",
       "189876  Katie The name Katie is a baby girl name. Mean...  \n",
       "\n",
       "[189877 rows x 4 columns]"
      ]
     },
     "execution_count": 376,
     "metadata": {},
     "output_type": "execute_result"
    }
   ],
   "source": [
    "candidate_passages_top1000"
   ]
  },
  {
   "cell_type": "code",
   "execution_count": 5,
   "id": "ordinary-jumping",
   "metadata": {},
   "outputs": [],
   "source": [
    "header_list = [\"qid\", \"query\"]\n",
    "test_queries = pd.read_csv(\"../dataset/test-queries.tsv\", sep='\\t', names=header_list)"
   ]
  },
  {
   "cell_type": "code",
   "execution_count": 194,
   "id": "reserved-advice",
   "metadata": {},
   "outputs": [],
   "source": [
    "train_data = pd.read_csv(\"../part2/train_data.tsv\", sep='\\t')\n",
    "validation_data = pd.read_csv(\"../part2/validation_data.tsv\", sep='\\t')\n"
   ]
  },
  {
   "cell_type": "code",
   "execution_count": 195,
   "id": "absent-colorado",
   "metadata": {},
   "outputs": [
    {
     "data": {
      "text/html": [
       "<div>\n",
       "<style scoped>\n",
       "    .dataframe tbody tr th:only-of-type {\n",
       "        vertical-align: middle;\n",
       "    }\n",
       "\n",
       "    .dataframe tbody tr th {\n",
       "        vertical-align: top;\n",
       "    }\n",
       "\n",
       "    .dataframe thead th {\n",
       "        text-align: right;\n",
       "    }\n",
       "</style>\n",
       "<table border=\"1\" class=\"dataframe\">\n",
       "  <thead>\n",
       "    <tr style=\"text-align: right;\">\n",
       "      <th></th>\n",
       "      <th>qid</th>\n",
       "      <th>pid</th>\n",
       "      <th>queries</th>\n",
       "      <th>passage</th>\n",
       "      <th>relevancy</th>\n",
       "    </tr>\n",
       "  </thead>\n",
       "  <tbody>\n",
       "    <tr>\n",
       "      <th>0</th>\n",
       "      <td>188714</td>\n",
       "      <td>1000052</td>\n",
       "      <td>foods and supplements to lower blood sugar</td>\n",
       "      <td>Watch portion sizes: ■ Even healthy foods will...</td>\n",
       "      <td>0.0</td>\n",
       "    </tr>\n",
       "    <tr>\n",
       "      <th>1</th>\n",
       "      <td>995526</td>\n",
       "      <td>1000094</td>\n",
       "      <td>where is the federal penitentiary in ind</td>\n",
       "      <td>It takes THOUSANDS of Macy's associates to bri...</td>\n",
       "      <td>0.0</td>\n",
       "    </tr>\n",
       "    <tr>\n",
       "      <th>2</th>\n",
       "      <td>660957</td>\n",
       "      <td>1000115</td>\n",
       "      <td>what foods are good if you have gout?</td>\n",
       "      <td>The good news is that you will discover what g...</td>\n",
       "      <td>0.0</td>\n",
       "    </tr>\n",
       "    <tr>\n",
       "      <th>3</th>\n",
       "      <td>837202</td>\n",
       "      <td>1000252</td>\n",
       "      <td>what is the nutritional value of oatmeal</td>\n",
       "      <td>Oats make an easy, balanced breakfast. One cup...</td>\n",
       "      <td>0.0</td>\n",
       "    </tr>\n",
       "    <tr>\n",
       "      <th>4</th>\n",
       "      <td>130825</td>\n",
       "      <td>1000268</td>\n",
       "      <td>definition for daring</td>\n",
       "      <td>Such a requirement would have three desirable ...</td>\n",
       "      <td>0.0</td>\n",
       "    </tr>\n",
       "    <tr>\n",
       "      <th>5</th>\n",
       "      <td>408149</td>\n",
       "      <td>1000288</td>\n",
       "      <td>is dhgate a scam</td>\n",
       "      <td>If you think you ve been targeted by a counter...</td>\n",
       "      <td>0.0</td>\n",
       "    </tr>\n",
       "    <tr>\n",
       "      <th>6</th>\n",
       "      <td>1019649</td>\n",
       "      <td>1000419</td>\n",
       "      <td>what study for mets to brain</td>\n",
       "      <td>Sorry he's having so much pain. The reason tha...</td>\n",
       "      <td>0.0</td>\n",
       "    </tr>\n",
       "    <tr>\n",
       "      <th>7</th>\n",
       "      <td>1099065</td>\n",
       "      <td>1000436</td>\n",
       "      <td>how far deep to plant beet early wonder</td>\n",
       "      <td>The simplest way, and my preference, is to roa...</td>\n",
       "      <td>0.0</td>\n",
       "    </tr>\n",
       "    <tr>\n",
       "      <th>8</th>\n",
       "      <td>1084910</td>\n",
       "      <td>1000466</td>\n",
       "      <td>what disease do roof rats cause</td>\n",
       "      <td>1 A cage trap baited with peanut butter or a s...</td>\n",
       "      <td>0.0</td>\n",
       "    </tr>\n",
       "    <tr>\n",
       "      <th>9</th>\n",
       "      <td>959083</td>\n",
       "      <td>1000479</td>\n",
       "      <td>when was niagara falls created</td>\n",
       "      <td>Bulbar Onset – ALS. ALS is like Niagara Falls,...</td>\n",
       "      <td>0.0</td>\n",
       "    </tr>\n",
       "  </tbody>\n",
       "</table>\n",
       "</div>"
      ],
      "text/plain": [
       "       qid      pid                                     queries  \\\n",
       "0   188714  1000052  foods and supplements to lower blood sugar   \n",
       "1   995526  1000094    where is the federal penitentiary in ind   \n",
       "2   660957  1000115       what foods are good if you have gout?   \n",
       "3   837202  1000252    what is the nutritional value of oatmeal   \n",
       "4   130825  1000268                       definition for daring   \n",
       "5   408149  1000288                            is dhgate a scam   \n",
       "6  1019649  1000419                what study for mets to brain   \n",
       "7  1099065  1000436     how far deep to plant beet early wonder   \n",
       "8  1084910  1000466             what disease do roof rats cause   \n",
       "9   959083  1000479              when was niagara falls created   \n",
       "\n",
       "                                             passage  relevancy  \n",
       "0  Watch portion sizes: ■ Even healthy foods will...        0.0  \n",
       "1  It takes THOUSANDS of Macy's associates to bri...        0.0  \n",
       "2  The good news is that you will discover what g...        0.0  \n",
       "3  Oats make an easy, balanced breakfast. One cup...        0.0  \n",
       "4  Such a requirement would have three desirable ...        0.0  \n",
       "5  If you think you ve been targeted by a counter...        0.0  \n",
       "6  Sorry he's having so much pain. The reason tha...        0.0  \n",
       "7  The simplest way, and my preference, is to roa...        0.0  \n",
       "8  1 A cage trap baited with peanut butter or a s...        0.0  \n",
       "9  Bulbar Onset – ALS. ALS is like Niagara Falls,...        0.0  "
      ]
     },
     "execution_count": 195,
     "metadata": {},
     "output_type": "execute_result"
    }
   ],
   "source": [
    "train_data.head(10)"
   ]
  },
  {
   "cell_type": "code",
   "execution_count": 196,
   "id": "aerial-representative",
   "metadata": {},
   "outputs": [
    {
     "data": {
      "text/plain": [
       "(4364339, 5)"
      ]
     },
     "execution_count": 196,
     "metadata": {},
     "output_type": "execute_result"
    }
   ],
   "source": [
    "train_data.shape"
   ]
  },
  {
   "cell_type": "code",
   "execution_count": 197,
   "id": "olive-breathing",
   "metadata": {},
   "outputs": [
    {
     "data": {
      "text/html": [
       "<div>\n",
       "<style scoped>\n",
       "    .dataframe tbody tr th:only-of-type {\n",
       "        vertical-align: middle;\n",
       "    }\n",
       "\n",
       "    .dataframe tbody tr th {\n",
       "        vertical-align: top;\n",
       "    }\n",
       "\n",
       "    .dataframe thead th {\n",
       "        text-align: right;\n",
       "    }\n",
       "</style>\n",
       "<table border=\"1\" class=\"dataframe\">\n",
       "  <thead>\n",
       "    <tr style=\"text-align: right;\">\n",
       "      <th></th>\n",
       "      <th>qid</th>\n",
       "      <th>pid</th>\n",
       "      <th>queries</th>\n",
       "      <th>passage</th>\n",
       "      <th>relevancy</th>\n",
       "    </tr>\n",
       "  </thead>\n",
       "  <tbody>\n",
       "    <tr>\n",
       "      <th>0</th>\n",
       "      <td>1082792</td>\n",
       "      <td>1000084</td>\n",
       "      <td>what does the golgi apparatus do to the protei...</td>\n",
       "      <td>Start studying Bonding, Carbs, Proteins, Lipid...</td>\n",
       "      <td>0.0</td>\n",
       "    </tr>\n",
       "    <tr>\n",
       "      <th>1</th>\n",
       "      <td>995825</td>\n",
       "      <td>1000492</td>\n",
       "      <td>where is the graphic card located in the cpu</td>\n",
       "      <td>For example, a “PC Expansion Card” maybe the j...</td>\n",
       "      <td>0.0</td>\n",
       "    </tr>\n",
       "    <tr>\n",
       "      <th>2</th>\n",
       "      <td>995825</td>\n",
       "      <td>1000494</td>\n",
       "      <td>where is the graphic card located in the cpu</td>\n",
       "      <td>The Common Cards &amp; Buses. The most common type...</td>\n",
       "      <td>0.0</td>\n",
       "    </tr>\n",
       "    <tr>\n",
       "      <th>3</th>\n",
       "      <td>1091246</td>\n",
       "      <td>1000522</td>\n",
       "      <td>property premises meaning</td>\n",
       "      <td>The occurrence of since tells us that the firs...</td>\n",
       "      <td>0.0</td>\n",
       "    </tr>\n",
       "    <tr>\n",
       "      <th>4</th>\n",
       "      <td>1047854</td>\n",
       "      <td>1000585</td>\n",
       "      <td>what is printing mechanism</td>\n",
       "      <td>Windows desktop applications Develop Desktop t...</td>\n",
       "      <td>0.0</td>\n",
       "    </tr>\n",
       "    <tr>\n",
       "      <th>5</th>\n",
       "      <td>991832</td>\n",
       "      <td>1000599</td>\n",
       "      <td>who discovered the element carbon</td>\n",
       "      <td>1. 1  a nonmetallic element existing in the th...</td>\n",
       "      <td>0.0</td>\n",
       "    </tr>\n",
       "    <tr>\n",
       "      <th>6</th>\n",
       "      <td>185299</td>\n",
       "      <td>1000647</td>\n",
       "      <td>fastest cell phone processor</td>\n",
       "      <td>Tips for calling a cell phone in Greece: To ca...</td>\n",
       "      <td>0.0</td>\n",
       "    </tr>\n",
       "    <tr>\n",
       "      <th>7</th>\n",
       "      <td>574730</td>\n",
       "      <td>1000663</td>\n",
       "      <td>what are the three monetary policy tools of th...</td>\n",
       "      <td>Federal Reserve updates including rates, news ...</td>\n",
       "      <td>0.0</td>\n",
       "    </tr>\n",
       "    <tr>\n",
       "      <th>8</th>\n",
       "      <td>1085008</td>\n",
       "      <td>1000675</td>\n",
       "      <td>what did maria theresa do for the serfs</td>\n",
       "      <td>In this feudal system, the king awarded land g...</td>\n",
       "      <td>0.0</td>\n",
       "    </tr>\n",
       "    <tr>\n",
       "      <th>9</th>\n",
       "      <td>609628</td>\n",
       "      <td>1000771</td>\n",
       "      <td>what county is mitchell south dakota in</td>\n",
       "      <td>South Dakota: According to our research of Sou...</td>\n",
       "      <td>0.0</td>\n",
       "    </tr>\n",
       "  </tbody>\n",
       "</table>\n",
       "</div>"
      ],
      "text/plain": [
       "       qid      pid                                            queries  \\\n",
       "0  1082792  1000084  what does the golgi apparatus do to the protei...   \n",
       "1   995825  1000492       where is the graphic card located in the cpu   \n",
       "2   995825  1000494       where is the graphic card located in the cpu   \n",
       "3  1091246  1000522                          property premises meaning   \n",
       "4  1047854  1000585                         what is printing mechanism   \n",
       "5   991832  1000599                  who discovered the element carbon   \n",
       "6   185299  1000647                       fastest cell phone processor   \n",
       "7   574730  1000663  what are the three monetary policy tools of th...   \n",
       "8  1085008  1000675            what did maria theresa do for the serfs   \n",
       "9   609628  1000771            what county is mitchell south dakota in   \n",
       "\n",
       "                                             passage  relevancy  \n",
       "0  Start studying Bonding, Carbs, Proteins, Lipid...        0.0  \n",
       "1  For example, a “PC Expansion Card” maybe the j...        0.0  \n",
       "2  The Common Cards & Buses. The most common type...        0.0  \n",
       "3  The occurrence of since tells us that the firs...        0.0  \n",
       "4  Windows desktop applications Develop Desktop t...        0.0  \n",
       "5  1. 1  a nonmetallic element existing in the th...        0.0  \n",
       "6  Tips for calling a cell phone in Greece: To ca...        0.0  \n",
       "7  Federal Reserve updates including rates, news ...        0.0  \n",
       "8  In this feudal system, the king awarded land g...        0.0  \n",
       "9  South Dakota: According to our research of Sou...        0.0  "
      ]
     },
     "execution_count": 197,
     "metadata": {},
     "output_type": "execute_result"
    }
   ],
   "source": [
    "validation_data.head(10)"
   ]
  },
  {
   "cell_type": "code",
   "execution_count": 10,
   "id": "minute-ballet",
   "metadata": {},
   "outputs": [
    {
     "data": {
      "text/plain": [
       "(4364339, 5)"
      ]
     },
     "execution_count": 10,
     "metadata": {},
     "output_type": "execute_result"
    },
    {
     "data": {
      "text/plain": [
       "(1103039, 5)"
      ]
     },
     "execution_count": 10,
     "metadata": {},
     "output_type": "execute_result"
    }
   ],
   "source": [
    "train_data.shape\n",
    "validation_data.shape"
   ]
  },
  {
   "cell_type": "markdown",
   "id": "simple-lodging",
   "metadata": {},
   "source": [
    "# Preprocessing"
   ]
  },
  {
   "cell_type": "code",
   "execution_count": 11,
   "id": "negative-thinking",
   "metadata": {},
   "outputs": [],
   "source": [
    "def remove_punctuation(tokens):\n",
    "    new_tokens = []\n",
    "    for token in tokens:\n",
    "        new_token = re.sub(r'[^\\w\\s]', '', token)\n",
    "        if new_token != '':\n",
    "            new_tokens.append(new_token)\n",
    "    return new_tokens\n",
    "\n",
    "def remove_stopwords(tokens):\n",
    "    new_tokens = []\n",
    "    stopword_set = set(stopwords.words('english'))\n",
    "    for token in tokens:\n",
    "        if token not in stopword_set:\n",
    "            new_tokens.append(token)\n",
    "    return new_tokens\n",
    "\n",
    "def lemmatize_verbs(tokens):\n",
    "    lemmatizer = WordNetLemmatizer()\n",
    "    root_words = []\n",
    "    for token in tokens:\n",
    "        root_word = lemmatizer.lemmatize(token, pos='v')\n",
    "#         root_word = lemmatizer.lemmatize(token, pos='n')\n",
    "#         root_word = lemmatizer.lemmatize(token, pos='a')\n",
    "        root_words.append(root_word)\n",
    "    return root_words\n",
    "\n",
    "def remove_numbers(tokens):\n",
    "    \"\"\"Replace all interger occurrences in list of tokenized words with textual representation\"\"\"\n",
    "    new_tokens = []\n",
    "    for token in tokens:\n",
    "        if token.isdigit():\n",
    "            pass\n",
    "        else:\n",
    "            new_tokens.append(token)\n",
    "    return new_tokens\n",
    "\n",
    "def preprocessing(passage):\n",
    "    passage = passage.lower()\n",
    "    tokens = nltk.word_tokenize(passage)\n",
    "    tokens = remove_punctuation(tokens)\n",
    "    tokens = remove_stopwords(tokens)\n",
    "    tokens = lemmatize_verbs(tokens)\n",
    "    tokens = remove_numbers(tokens)\n",
    "    return tokens"
   ]
  },
  {
   "cell_type": "markdown",
   "id": "blind-grenada",
   "metadata": {},
   "source": [
    "# Subtask 1"
   ]
  },
  {
   "cell_type": "markdown",
   "id": "young-peeing",
   "metadata": {},
   "source": [
    "## BM25"
   ]
  },
  {
   "cell_type": "code",
   "execution_count": 8,
   "id": "dominant-mobile",
   "metadata": {},
   "outputs": [],
   "source": [
    "validation_data_no_dup_passages = validation_data.drop_duplicates(subset=['pid'], inplace=False)\n"
   ]
  },
  {
   "cell_type": "code",
   "execution_count": 9,
   "id": "atlantic-sussex",
   "metadata": {},
   "outputs": [
    {
     "data": {
      "text/plain": [
       "(955211, 5)"
      ]
     },
     "execution_count": 9,
     "metadata": {},
     "output_type": "execute_result"
    }
   ],
   "source": [
    "# validation_data_no_dup_passages.head(20)\n",
    "validation_data_no_dup_passages.shape"
   ]
  },
  {
   "cell_type": "code",
   "execution_count": 10,
   "id": "rural-mission",
   "metadata": {},
   "outputs": [],
   "source": [
    "def get_passage_average_length_and_total_word_occurences_corpus():\n",
    "    number_of_passages = len(validation_data_no_dup_passages)\n",
    "    count_total_length = 0\n",
    "    for idx, row in validation_data_no_dup_passages.iterrows():\n",
    "        count_total_length += len(preprocessing(row['passage']))\n",
    "    return count_total_length, count_total_length/number_of_passages \n"
   ]
  },
  {
   "cell_type": "code",
   "execution_count": 11,
   "id": "thorough-pension",
   "metadata": {},
   "outputs": [],
   "source": [
    "# total_word_occurences, avdl = get_passage_average_length_and_total_word_occurences_corpus()\n",
    "total_word_occurences = 30757932 # for validation data\n",
    "avdl = 32.200144261320276 # for validation data"
   ]
  },
  {
   "cell_type": "code",
   "execution_count": 12,
   "id": "japanese-humanity",
   "metadata": {},
   "outputs": [],
   "source": [
    "# total_word_occurences\n",
    "# avdl"
   ]
  },
  {
   "cell_type": "code",
   "execution_count": 303,
   "id": "lightweight-concert",
   "metadata": {},
   "outputs": [
    {
     "ename": "NameError",
     "evalue": "name 'validation_data_no_dup_passages' is not defined",
     "output_type": "error",
     "traceback": [
      "\u001b[1;31m---------------------------------------------------------------------------\u001b[0m",
      "\u001b[1;31mNameError\u001b[0m                                 Traceback (most recent call last)",
      "\u001b[1;32m<ipython-input-303-b9c8d42b440d>\u001b[0m in \u001b[0;36m<module>\u001b[1;34m\u001b[0m\n\u001b[0;32m      6\u001b[0m \u001b[0mR\u001b[0m \u001b[1;33m=\u001b[0m \u001b[1;36m0\u001b[0m\u001b[1;33m\u001b[0m\u001b[1;33m\u001b[0m\u001b[0m\n\u001b[0;32m      7\u001b[0m \u001b[0mr\u001b[0m \u001b[1;33m=\u001b[0m \u001b[1;36m0\u001b[0m\u001b[1;33m\u001b[0m\u001b[1;33m\u001b[0m\u001b[0m\n\u001b[1;32m----> 8\u001b[1;33m \u001b[0mN\u001b[0m \u001b[1;33m=\u001b[0m \u001b[0mlen\u001b[0m\u001b[1;33m(\u001b[0m\u001b[0mvalidation_data_no_dup_passages\u001b[0m\u001b[1;33m)\u001b[0m\u001b[1;33m\u001b[0m\u001b[1;33m\u001b[0m\u001b[0m\n\u001b[0m\u001b[0;32m      9\u001b[0m \u001b[1;33m\u001b[0m\u001b[0m\n\u001b[0;32m     10\u001b[0m \u001b[1;32mdef\u001b[0m \u001b[0mK_cal\u001b[0m\u001b[1;33m(\u001b[0m\u001b[0mdl\u001b[0m\u001b[1;33m)\u001b[0m\u001b[1;33m:\u001b[0m\u001b[1;33m\u001b[0m\u001b[1;33m\u001b[0m\u001b[0m\n",
      "\u001b[1;31mNameError\u001b[0m: name 'validation_data_no_dup_passages' is not defined"
     ]
    }
   ],
   "source": [
    "from math import log\n",
    "\n",
    "k1 = 1.2\n",
    "k2 = 100\n",
    "b = 0.75\n",
    "R = 0\n",
    "r = 0\n",
    "N = len(validation_data_no_dup_passages)\n",
    "\n",
    "def K_cal(dl):\n",
    "    return k1 * ((1-b) + b * (float(dl)/float(avdl)) )\n",
    "\n",
    "\n",
    "def BM25_cal(query, passage):\n",
    "    query_tokens = preprocessing(query)\n",
    "    passage_tokens = preprocessing(passage)\n",
    "    query_length = len(query_tokens)\n",
    "    query_token_freq_dict = nltk.FreqDist(query_tokens)\n",
    "    passage_token_freq_dict = nltk.FreqDist(passage_tokens)\n",
    "    dl = len(passage_tokens)\n",
    "    K = K_cal(dl)\n",
    "    score = 0\n",
    "    for token in query_tokens:\n",
    "        try:\n",
    "            n = len(inverted_index[token])\n",
    "        except:\n",
    "            n = 0\n",
    "        f = passage_token_freq_dict[token]\n",
    "        qf = query_token_freq_dict[token]\n",
    "        first_term = log( ( (r + 0.5) / (R - r + 0.5) ) / ( (n - r + 0.5) / (N - n - R + r + 0.5)) )\n",
    "        second_term = ((k1 + 1) * f) / (K + f)\n",
    "        third_term = ((k2+1) * qf) / (k2 + qf)\n",
    "        score += first_term * second_term * third_term\n",
    "    return score\n",
    "    "
   ]
  },
  {
   "cell_type": "code",
   "execution_count": 14,
   "id": "accompanied-monster",
   "metadata": {},
   "outputs": [],
   "source": [
    "bm25_rankings = []\n",
    "for idx, row in validation_data.iterrows():\n",
    "#     print('count:', idx+1)\n",
    "    query = row['queries']\n",
    "    passage = row['passage']\n",
    "    bm25_rankings.append(BM25_cal(query, passage))\n",
    "\n",
    "    "
   ]
  },
  {
   "cell_type": "code",
   "execution_count": 15,
   "id": "coastal-winter",
   "metadata": {},
   "outputs": [
    {
     "data": {
      "text/plain": [
       "array([ 218534, 1076853,   95986,   95987,  831065,  725920,  504442,\n",
       "        654647,  341262,  281695,  950916,  586050,  871938,  793356,\n",
       "        944762,  714508,  900185,  206973,  629358,  701682,  248618,\n",
       "        259324,  702792,  286327,  205094,   98221,  519566,  242694,\n",
       "        705667,  922032,  197484,  431189,  419681,  237993,  502543,\n",
       "        793493,  646679,  559150,  303774,  638714,  778563,  155707,\n",
       "         45281,  132857,  213755,  299424,  252540,    9338, 1075869,\n",
       "        139233,  733889,  401291,  373812,  784890, 1008311,  911301,\n",
       "        909449,  558879,  857483,  602553,  171827,  217514,  857646,\n",
       "        539660,  195886, 1078616,  554316,  872234,  346989,   28250,\n",
       "       1026344,  330458, 1026153,  612051,  395691,  530538,  313678,\n",
       "        693646,  175037,  751525,  216400,  663797,   99840,  928996,\n",
       "          5558,  428329,  546185,   46827,  112665,  118094,  752555,\n",
       "       1017110,  455444,  910607,  648719,  793681, 1063650,  212436,\n",
       "        415429,  654277], dtype=int64)"
      ]
     },
     "execution_count": 15,
     "metadata": {},
     "output_type": "execute_result"
    }
   ],
   "source": [
    "ranking_k = 100\n",
    "results_bm25 = np.array(bm25_rankings).argsort()[-ranking_k:][::-1]\n",
    "results_bm25"
   ]
  },
  {
   "cell_type": "code",
   "execution_count": 16,
   "id": "beautiful-joyce",
   "metadata": {},
   "outputs": [
    {
     "data": {
      "text/html": [
       "<div>\n",
       "<style scoped>\n",
       "    .dataframe tbody tr th:only-of-type {\n",
       "        vertical-align: middle;\n",
       "    }\n",
       "\n",
       "    .dataframe tbody tr th {\n",
       "        vertical-align: top;\n",
       "    }\n",
       "\n",
       "    .dataframe thead th {\n",
       "        text-align: right;\n",
       "    }\n",
       "</style>\n",
       "<table border=\"1\" class=\"dataframe\">\n",
       "  <thead>\n",
       "    <tr style=\"text-align: right;\">\n",
       "      <th></th>\n",
       "      <th>qid</th>\n",
       "      <th>pid</th>\n",
       "      <th>queries</th>\n",
       "      <th>passage</th>\n",
       "      <th>relevancy</th>\n",
       "    </tr>\n",
       "  </thead>\n",
       "  <tbody>\n",
       "    <tr>\n",
       "      <th>218534</th>\n",
       "      <td>1007691</td>\n",
       "      <td>7251254</td>\n",
       "      <td>when allocating service department costs, the ...</td>\n",
       "      <td>Direct method allocates each service departmen...</td>\n",
       "      <td>1.0</td>\n",
       "    </tr>\n",
       "    <tr>\n",
       "      <th>1076853</th>\n",
       "      <td>1007691</td>\n",
       "      <td>7251259</td>\n",
       "      <td>when allocating service department costs, the ...</td>\n",
       "      <td>The direct method is the most widely-used meth...</td>\n",
       "      <td>0.0</td>\n",
       "    </tr>\n",
       "    <tr>\n",
       "      <th>95986</th>\n",
       "      <td>1007691</td>\n",
       "      <td>7251251</td>\n",
       "      <td>when allocating service department costs, the ...</td>\n",
       "      <td>service department provides a large amount of ...</td>\n",
       "      <td>0.0</td>\n",
       "    </tr>\n",
       "    <tr>\n",
       "      <th>95987</th>\n",
       "      <td>1007691</td>\n",
       "      <td>7251253</td>\n",
       "      <td>when allocating service department costs, the ...</td>\n",
       "      <td>The rows sum to 100%, so that all services pro...</td>\n",
       "      <td>0.0</td>\n",
       "    </tr>\n",
       "    <tr>\n",
       "      <th>831065</th>\n",
       "      <td>1007691</td>\n",
       "      <td>7251255</td>\n",
       "      <td>when allocating service department costs, the ...</td>\n",
       "      <td>The most defensible sequence is to start with ...</td>\n",
       "      <td>0.0</td>\n",
       "    </tr>\n",
       "    <tr>\n",
       "      <th>...</th>\n",
       "      <td>...</td>\n",
       "      <td>...</td>\n",
       "      <td>...</td>\n",
       "      <td>...</td>\n",
       "      <td>...</td>\n",
       "    </tr>\n",
       "    <tr>\n",
       "      <th>793681</th>\n",
       "      <td>1007691</td>\n",
       "      <td>4814576</td>\n",
       "      <td>when allocating service department costs, the ...</td>\n",
       "      <td>Service Members | Veterans | Both. Military On...</td>\n",
       "      <td>0.0</td>\n",
       "    </tr>\n",
       "    <tr>\n",
       "      <th>1063650</th>\n",
       "      <td>1007691</td>\n",
       "      <td>6395207</td>\n",
       "      <td>when allocating service department costs, the ...</td>\n",
       "      <td>that hospital emergency department services ar...</td>\n",
       "      <td>0.0</td>\n",
       "    </tr>\n",
       "    <tr>\n",
       "      <th>212436</th>\n",
       "      <td>1007691</td>\n",
       "      <td>6872353</td>\n",
       "      <td>when allocating service department costs, the ...</td>\n",
       "      <td>Yelp Customer Service customer service phone n...</td>\n",
       "      <td>0.0</td>\n",
       "    </tr>\n",
       "    <tr>\n",
       "      <th>415429</th>\n",
       "      <td>1007691</td>\n",
       "      <td>4114248</td>\n",
       "      <td>when allocating service department costs, the ...</td>\n",
       "      <td>A service fee, service charge, or surcharge is...</td>\n",
       "      <td>0.0</td>\n",
       "    </tr>\n",
       "    <tr>\n",
       "      <th>654277</th>\n",
       "      <td>1007691</td>\n",
       "      <td>3743546</td>\n",
       "      <td>when allocating service department costs, the ...</td>\n",
       "      <td>A Sub-contractor is liable to pay Service Tax ...</td>\n",
       "      <td>0.0</td>\n",
       "    </tr>\n",
       "  </tbody>\n",
       "</table>\n",
       "<p>100 rows × 5 columns</p>\n",
       "</div>"
      ],
      "text/plain": [
       "             qid      pid                                            queries  \\\n",
       "218534   1007691  7251254  when allocating service department costs, the ...   \n",
       "1076853  1007691  7251259  when allocating service department costs, the ...   \n",
       "95986    1007691  7251251  when allocating service department costs, the ...   \n",
       "95987    1007691  7251253  when allocating service department costs, the ...   \n",
       "831065   1007691  7251255  when allocating service department costs, the ...   \n",
       "...          ...      ...                                                ...   \n",
       "793681   1007691  4814576  when allocating service department costs, the ...   \n",
       "1063650  1007691  6395207  when allocating service department costs, the ...   \n",
       "212436   1007691  6872353  when allocating service department costs, the ...   \n",
       "415429   1007691  4114248  when allocating service department costs, the ...   \n",
       "654277   1007691  3743546  when allocating service department costs, the ...   \n",
       "\n",
       "                                                   passage  relevancy  \n",
       "218534   Direct method allocates each service departmen...        1.0  \n",
       "1076853  The direct method is the most widely-used meth...        0.0  \n",
       "95986    service department provides a large amount of ...        0.0  \n",
       "95987    The rows sum to 100%, so that all services pro...        0.0  \n",
       "831065   The most defensible sequence is to start with ...        0.0  \n",
       "...                                                    ...        ...  \n",
       "793681   Service Members | Veterans | Both. Military On...        0.0  \n",
       "1063650  that hospital emergency department services ar...        0.0  \n",
       "212436   Yelp Customer Service customer service phone n...        0.0  \n",
       "415429   A service fee, service charge, or surcharge is...        0.0  \n",
       "654277   A Sub-contractor is liable to pay Service Tax ...        0.0  \n",
       "\n",
       "[100 rows x 5 columns]"
      ]
     },
     "execution_count": 16,
     "metadata": {},
     "output_type": "execute_result"
    }
   ],
   "source": [
    "ranking_list_df = validation_data.loc[results_bm25]\n",
    "ranking_list_df"
   ]
  },
  {
   "cell_type": "code",
   "execution_count": 17,
   "id": "radical-foundation",
   "metadata": {},
   "outputs": [
    {
     "data": {
      "text/html": [
       "<div>\n",
       "<style scoped>\n",
       "    .dataframe tbody tr th:only-of-type {\n",
       "        vertical-align: middle;\n",
       "    }\n",
       "\n",
       "    .dataframe tbody tr th {\n",
       "        vertical-align: top;\n",
       "    }\n",
       "\n",
       "    .dataframe thead th {\n",
       "        text-align: right;\n",
       "    }\n",
       "</style>\n",
       "<table border=\"1\" class=\"dataframe\">\n",
       "  <thead>\n",
       "    <tr style=\"text-align: right;\">\n",
       "      <th></th>\n",
       "      <th>qid</th>\n",
       "      <th>pid</th>\n",
       "      <th>queries</th>\n",
       "      <th>passage</th>\n",
       "      <th>relevancy</th>\n",
       "    </tr>\n",
       "  </thead>\n",
       "  <tbody>\n",
       "  </tbody>\n",
       "</table>\n",
       "</div>"
      ],
      "text/plain": [
       "Empty DataFrame\n",
       "Columns: [qid, pid, queries, passage, relevancy]\n",
       "Index: []"
      ]
     },
     "execution_count": 17,
     "metadata": {},
     "output_type": "execute_result"
    }
   ],
   "source": [
    "validation_data[(validation_data['relevancy'] < 1.0) & (validation_data['relevancy'] > 0)]\n"
   ]
  },
  {
   "cell_type": "code",
   "execution_count": 18,
   "id": "established-greece",
   "metadata": {},
   "outputs": [],
   "source": [
    "def average_precision_cal(ranking_list_df):\n",
    "    ranking_list_df = ranking_list_df.reset_index(drop=True, inplace=False)\n",
    "    total_relevant_retrieved = 0\n",
    "    precision_sum = 0\n",
    "    for idx, row in ranking_list_df.iterrows():\n",
    "        relevancy = row['relevancy']\n",
    "        if (relevancy):\n",
    "            isRelevant = True\n",
    "            total_relevant_retrieved += 1\n",
    "        precision = total_relevant_retrieved / (idx + 1)\n",
    "        precision_sum += precision\n",
    "    result = precision_sum / len(ranking_list_df)\n",
    "    return result"
   ]
  },
  {
   "cell_type": "code",
   "execution_count": 19,
   "id": "adverse-myrtle",
   "metadata": {},
   "outputs": [
    {
     "data": {
      "text/plain": [
       "0.07445786781310981"
      ]
     },
     "execution_count": 19,
     "metadata": {},
     "output_type": "execute_result"
    }
   ],
   "source": [
    "average_precision_cal(ranking_list_df)"
   ]
  },
  {
   "cell_type": "code",
   "execution_count": 20,
   "id": "acknowledged-touch",
   "metadata": {},
   "outputs": [
    {
     "data": {
      "text/html": [
       "<div>\n",
       "<style scoped>\n",
       "    .dataframe tbody tr th:only-of-type {\n",
       "        vertical-align: middle;\n",
       "    }\n",
       "\n",
       "    .dataframe tbody tr th {\n",
       "        vertical-align: top;\n",
       "    }\n",
       "\n",
       "    .dataframe thead th {\n",
       "        text-align: right;\n",
       "    }\n",
       "</style>\n",
       "<table border=\"1\" class=\"dataframe\">\n",
       "  <thead>\n",
       "    <tr style=\"text-align: right;\">\n",
       "      <th></th>\n",
       "      <th>qid</th>\n",
       "      <th>pid</th>\n",
       "      <th>queries</th>\n",
       "      <th>passage</th>\n",
       "      <th>relevancy</th>\n",
       "    </tr>\n",
       "  </thead>\n",
       "  <tbody>\n",
       "    <tr>\n",
       "      <th>218534</th>\n",
       "      <td>1007691</td>\n",
       "      <td>7251254</td>\n",
       "      <td>when allocating service department costs, the ...</td>\n",
       "      <td>Direct method allocates each service departmen...</td>\n",
       "      <td>1.0</td>\n",
       "    </tr>\n",
       "    <tr>\n",
       "      <th>950916</th>\n",
       "      <td>1089945</td>\n",
       "      <td>7079883</td>\n",
       "      <td>the __________ test is a quick and dirty test ...</td>\n",
       "      <td>• The Smell Test is familiar ground in most bu...</td>\n",
       "      <td>1.0</td>\n",
       "    </tr>\n",
       "    <tr>\n",
       "      <th>539660</th>\n",
       "      <td>1007691</td>\n",
       "      <td>423230</td>\n",
       "      <td>when allocating service department costs, the ...</td>\n",
       "      <td>IT Service (ITILv3): A Service provided to one...</td>\n",
       "      <td>0.0</td>\n",
       "    </tr>\n",
       "    <tr>\n",
       "      <th>612051</th>\n",
       "      <td>1007691</td>\n",
       "      <td>994382</td>\n",
       "      <td>when allocating service department costs, the ...</td>\n",
       "      <td>All UK telephone numbers beginning with the di...</td>\n",
       "      <td>0.0</td>\n",
       "    </tr>\n",
       "    <tr>\n",
       "      <th>1026153</th>\n",
       "      <td>1007691</td>\n",
       "      <td>3941750</td>\n",
       "      <td>when allocating service department costs, the ...</td>\n",
       "      <td>Respite (Out-of-Home) Services [edit]. Respite...</td>\n",
       "      <td>0.0</td>\n",
       "    </tr>\n",
       "    <tr>\n",
       "      <th>...</th>\n",
       "      <td>...</td>\n",
       "      <td>...</td>\n",
       "      <td>...</td>\n",
       "      <td>...</td>\n",
       "      <td>...</td>\n",
       "    </tr>\n",
       "    <tr>\n",
       "      <th>431189</th>\n",
       "      <td>1007691</td>\n",
       "      <td>5146501</td>\n",
       "      <td>when allocating service department costs, the ...</td>\n",
       "      <td>The Department offers service coordination and...</td>\n",
       "      <td>0.0</td>\n",
       "    </tr>\n",
       "    <tr>\n",
       "      <th>197484</th>\n",
       "      <td>1007691</td>\n",
       "      <td>5904987</td>\n",
       "      <td>when allocating service department costs, the ...</td>\n",
       "      <td>If you are a delinquent juror who has been ins...</td>\n",
       "      <td>0.0</td>\n",
       "    </tr>\n",
       "    <tr>\n",
       "      <th>922032</th>\n",
       "      <td>1007691</td>\n",
       "      <td>5220119</td>\n",
       "      <td>when allocating service department costs, the ...</td>\n",
       "      <td>There are different types of customer service ...</td>\n",
       "      <td>0.0</td>\n",
       "    </tr>\n",
       "    <tr>\n",
       "      <th>705667</th>\n",
       "      <td>1007691</td>\n",
       "      <td>7088169</td>\n",
       "      <td>when allocating service department costs, the ...</td>\n",
       "      <td>Us Postal Service Customer Service Phone Numbe...</td>\n",
       "      <td>0.0</td>\n",
       "    </tr>\n",
       "    <tr>\n",
       "      <th>654277</th>\n",
       "      <td>1007691</td>\n",
       "      <td>3743546</td>\n",
       "      <td>when allocating service department costs, the ...</td>\n",
       "      <td>A Sub-contractor is liable to pay Service Tax ...</td>\n",
       "      <td>0.0</td>\n",
       "    </tr>\n",
       "  </tbody>\n",
       "</table>\n",
       "<p>100 rows × 5 columns</p>\n",
       "</div>"
      ],
      "text/plain": [
       "             qid      pid                                            queries  \\\n",
       "218534   1007691  7251254  when allocating service department costs, the ...   \n",
       "950916   1089945  7079883  the __________ test is a quick and dirty test ...   \n",
       "539660   1007691   423230  when allocating service department costs, the ...   \n",
       "612051   1007691   994382  when allocating service department costs, the ...   \n",
       "1026153  1007691  3941750  when allocating service department costs, the ...   \n",
       "...          ...      ...                                                ...   \n",
       "431189   1007691  5146501  when allocating service department costs, the ...   \n",
       "197484   1007691  5904987  when allocating service department costs, the ...   \n",
       "922032   1007691  5220119  when allocating service department costs, the ...   \n",
       "705667   1007691  7088169  when allocating service department costs, the ...   \n",
       "654277   1007691  3743546  when allocating service department costs, the ...   \n",
       "\n",
       "                                                   passage  relevancy  \n",
       "218534   Direct method allocates each service departmen...        1.0  \n",
       "950916   • The Smell Test is familiar ground in most bu...        1.0  \n",
       "539660   IT Service (ITILv3): A Service provided to one...        0.0  \n",
       "612051   All UK telephone numbers beginning with the di...        0.0  \n",
       "1026153  Respite (Out-of-Home) Services [edit]. Respite...        0.0  \n",
       "...                                                    ...        ...  \n",
       "431189   The Department offers service coordination and...        0.0  \n",
       "197484   If you are a delinquent juror who has been ins...        0.0  \n",
       "922032   There are different types of customer service ...        0.0  \n",
       "705667   Us Postal Service Customer Service Phone Numbe...        0.0  \n",
       "654277   A Sub-contractor is liable to pay Service Tax ...        0.0  \n",
       "\n",
       "[100 rows x 5 columns]"
      ]
     },
     "execution_count": 20,
     "metadata": {},
     "output_type": "execute_result"
    }
   ],
   "source": [
    "ranking_list_df.sort_values(by=['relevancy'], ascending=False)\n"
   ]
  },
  {
   "cell_type": "code",
   "execution_count": 21,
   "id": "sharing-chile",
   "metadata": {},
   "outputs": [
    {
     "data": {
      "text/html": [
       "<div>\n",
       "<style scoped>\n",
       "    .dataframe tbody tr th:only-of-type {\n",
       "        vertical-align: middle;\n",
       "    }\n",
       "\n",
       "    .dataframe tbody tr th {\n",
       "        vertical-align: top;\n",
       "    }\n",
       "\n",
       "    .dataframe thead th {\n",
       "        text-align: right;\n",
       "    }\n",
       "</style>\n",
       "<table border=\"1\" class=\"dataframe\">\n",
       "  <thead>\n",
       "    <tr style=\"text-align: right;\">\n",
       "      <th></th>\n",
       "      <th>qid</th>\n",
       "      <th>pid</th>\n",
       "      <th>queries</th>\n",
       "      <th>passage</th>\n",
       "      <th>relevancy</th>\n",
       "    </tr>\n",
       "  </thead>\n",
       "  <tbody>\n",
       "    <tr>\n",
       "      <th>218534</th>\n",
       "      <td>1007691</td>\n",
       "      <td>7251254</td>\n",
       "      <td>when allocating service department costs, the ...</td>\n",
       "      <td>Direct method allocates each service departmen...</td>\n",
       "      <td>1.0</td>\n",
       "    </tr>\n",
       "    <tr>\n",
       "      <th>1076853</th>\n",
       "      <td>1007691</td>\n",
       "      <td>7251259</td>\n",
       "      <td>when allocating service department costs, the ...</td>\n",
       "      <td>The direct method is the most widely-used meth...</td>\n",
       "      <td>0.0</td>\n",
       "    </tr>\n",
       "    <tr>\n",
       "      <th>95986</th>\n",
       "      <td>1007691</td>\n",
       "      <td>7251251</td>\n",
       "      <td>when allocating service department costs, the ...</td>\n",
       "      <td>service department provides a large amount of ...</td>\n",
       "      <td>0.0</td>\n",
       "    </tr>\n",
       "    <tr>\n",
       "      <th>95987</th>\n",
       "      <td>1007691</td>\n",
       "      <td>7251253</td>\n",
       "      <td>when allocating service department costs, the ...</td>\n",
       "      <td>The rows sum to 100%, so that all services pro...</td>\n",
       "      <td>0.0</td>\n",
       "    </tr>\n",
       "    <tr>\n",
       "      <th>831065</th>\n",
       "      <td>1007691</td>\n",
       "      <td>7251255</td>\n",
       "      <td>when allocating service department costs, the ...</td>\n",
       "      <td>The most defensible sequence is to start with ...</td>\n",
       "      <td>0.0</td>\n",
       "    </tr>\n",
       "    <tr>\n",
       "      <th>...</th>\n",
       "      <td>...</td>\n",
       "      <td>...</td>\n",
       "      <td>...</td>\n",
       "      <td>...</td>\n",
       "      <td>...</td>\n",
       "    </tr>\n",
       "    <tr>\n",
       "      <th>793681</th>\n",
       "      <td>1007691</td>\n",
       "      <td>4814576</td>\n",
       "      <td>when allocating service department costs, the ...</td>\n",
       "      <td>Service Members | Veterans | Both. Military On...</td>\n",
       "      <td>0.0</td>\n",
       "    </tr>\n",
       "    <tr>\n",
       "      <th>1063650</th>\n",
       "      <td>1007691</td>\n",
       "      <td>6395207</td>\n",
       "      <td>when allocating service department costs, the ...</td>\n",
       "      <td>that hospital emergency department services ar...</td>\n",
       "      <td>0.0</td>\n",
       "    </tr>\n",
       "    <tr>\n",
       "      <th>212436</th>\n",
       "      <td>1007691</td>\n",
       "      <td>6872353</td>\n",
       "      <td>when allocating service department costs, the ...</td>\n",
       "      <td>Yelp Customer Service customer service phone n...</td>\n",
       "      <td>0.0</td>\n",
       "    </tr>\n",
       "    <tr>\n",
       "      <th>415429</th>\n",
       "      <td>1007691</td>\n",
       "      <td>4114248</td>\n",
       "      <td>when allocating service department costs, the ...</td>\n",
       "      <td>A service fee, service charge, or surcharge is...</td>\n",
       "      <td>0.0</td>\n",
       "    </tr>\n",
       "    <tr>\n",
       "      <th>654277</th>\n",
       "      <td>1007691</td>\n",
       "      <td>3743546</td>\n",
       "      <td>when allocating service department costs, the ...</td>\n",
       "      <td>A Sub-contractor is liable to pay Service Tax ...</td>\n",
       "      <td>0.0</td>\n",
       "    </tr>\n",
       "  </tbody>\n",
       "</table>\n",
       "<p>100 rows × 5 columns</p>\n",
       "</div>"
      ],
      "text/plain": [
       "             qid      pid                                            queries  \\\n",
       "218534   1007691  7251254  when allocating service department costs, the ...   \n",
       "1076853  1007691  7251259  when allocating service department costs, the ...   \n",
       "95986    1007691  7251251  when allocating service department costs, the ...   \n",
       "95987    1007691  7251253  when allocating service department costs, the ...   \n",
       "831065   1007691  7251255  when allocating service department costs, the ...   \n",
       "...          ...      ...                                                ...   \n",
       "793681   1007691  4814576  when allocating service department costs, the ...   \n",
       "1063650  1007691  6395207  when allocating service department costs, the ...   \n",
       "212436   1007691  6872353  when allocating service department costs, the ...   \n",
       "415429   1007691  4114248  when allocating service department costs, the ...   \n",
       "654277   1007691  3743546  when allocating service department costs, the ...   \n",
       "\n",
       "                                                   passage  relevancy  \n",
       "218534   Direct method allocates each service departmen...        1.0  \n",
       "1076853  The direct method is the most widely-used meth...        0.0  \n",
       "95986    service department provides a large amount of ...        0.0  \n",
       "95987    The rows sum to 100%, so that all services pro...        0.0  \n",
       "831065   The most defensible sequence is to start with ...        0.0  \n",
       "...                                                    ...        ...  \n",
       "793681   Service Members | Veterans | Both. Military On...        0.0  \n",
       "1063650  that hospital emergency department services ar...        0.0  \n",
       "212436   Yelp Customer Service customer service phone n...        0.0  \n",
       "415429   A service fee, service charge, or surcharge is...        0.0  \n",
       "654277   A Sub-contractor is liable to pay Service Tax ...        0.0  \n",
       "\n",
       "[100 rows x 5 columns]"
      ]
     },
     "execution_count": 21,
     "metadata": {},
     "output_type": "execute_result"
    }
   ],
   "source": [
    "ranking_list_df"
   ]
  },
  {
   "cell_type": "code",
   "execution_count": 22,
   "id": "oriented-sellers",
   "metadata": {},
   "outputs": [],
   "source": [
    "def get_IDCG(ranking_list_df):\n",
    "    ranking_list_df_sorted = ranking_list_df.sort_values(by=['relevancy'], ascending=False)\n",
    "#     ranking_list_df_sorted = ranking_list_df.reset_index(drop=True, inplace=False)\n",
    "    ranking_list_df_sorted = ranking_list_df_sorted.reset_index().reindex(ranking_list_df_sorted.columns, axis=1)\n",
    "    ideal_discounted_gain_sum = 0\n",
    "    for idx, row in ranking_list_df_sorted.iterrows():\n",
    "        index = idx + 1\n",
    "        relevance_score = row['relevancy']\n",
    "        gain = 2 ** relevance_score - 1\n",
    "        discounted_gain = gain / math.log2(index + 1)\n",
    "        ideal_discounted_gain_sum += discounted_gain\n",
    "    return ideal_discounted_gain_sum"
   ]
  },
  {
   "cell_type": "code",
   "execution_count": 23,
   "id": "hollywood-failure",
   "metadata": {},
   "outputs": [],
   "source": [
    "def get_NDCG(ranking_list_df):\n",
    "    ranking_list_df = ranking_list_df.reset_index(drop=True, inplace=False)\n",
    "    discounted_gain_sum = 0\n",
    "    for idx, row in ranking_list_df.iterrows():\n",
    "        index = idx + 1\n",
    "        relevance_score = row['relevancy']\n",
    "        gain = 2 ** relevance_score - 1\n",
    "        discounted_gain = gain / math.log2(index + 1)\n",
    "        discounted_gain_sum += discounted_gain\n",
    "    IDCG = get_IDCG(ranking_list_df)\n",
    "    \n",
    "    nDCG = discounted_gain_sum / IDCG\n",
    "    return nDCG"
   ]
  },
  {
   "cell_type": "code",
   "execution_count": 24,
   "id": "lonely-seminar",
   "metadata": {},
   "outputs": [
    {
     "data": {
      "text/plain": [
       "0.7841802768331765"
      ]
     },
     "execution_count": 24,
     "metadata": {},
     "output_type": "execute_result"
    }
   ],
   "source": [
    "get_NDCG(ranking_list_df)"
   ]
  },
  {
   "cell_type": "markdown",
   "id": "filled-freedom",
   "metadata": {},
   "source": [
    "# Subtask 2"
   ]
  },
  {
   "cell_type": "code",
   "execution_count": 337,
   "id": "centered-ownership",
   "metadata": {},
   "outputs": [],
   "source": [
    "# train_data = pd.read_csv(\"../part2/train_data.tsv\", sep='\\t')\n",
    "# validation_data = pd.read_csv(\"../part2/validation_data.tsv\", sep='\\t')"
   ]
  },
  {
   "cell_type": "code",
   "execution_count": 338,
   "id": "conservative-adrian",
   "metadata": {},
   "outputs": [],
   "source": [
    "train_data = train_data[:1000] # 일단 1000개만 해봄\n",
    "validation_data = validation_data[:1000] # 일단 1000개만 해봄"
   ]
  },
  {
   "cell_type": "markdown",
   "id": "appreciated-crash",
   "metadata": {},
   "source": [
    "## Preprocessing"
   ]
  },
  {
   "cell_type": "code",
   "execution_count": 339,
   "id": "minus-spice",
   "metadata": {},
   "outputs": [],
   "source": [
    "# passages = validation_data.passage.values[:1000]\n",
    "# validation_data_temp = validation_data[:1000]\n",
    "# validation_data_temp['passage_cleaned']=validation_data_temp.passage.apply(lambda x: preprocessing(x))\n",
    "# validation_data_temp['queries_cleaned']=validation_data_temp.queries.apply(lambda x: preprocessing(x))"
   ]
  },
  {
   "cell_type": "code",
   "execution_count": 340,
   "id": "academic-inspiration",
   "metadata": {},
   "outputs": [],
   "source": [
    "train_data['passage_cleaned']=train_data.passage.apply(lambda x: preprocessing(x))\n",
    "train_data['query_cleaned']=train_data.queries.apply(lambda x: preprocessing(x))"
   ]
  },
  {
   "cell_type": "code",
   "execution_count": 341,
   "id": "seasonal-adrian",
   "metadata": {},
   "outputs": [
    {
     "data": {
      "text/html": [
       "<div>\n",
       "<style scoped>\n",
       "    .dataframe tbody tr th:only-of-type {\n",
       "        vertical-align: middle;\n",
       "    }\n",
       "\n",
       "    .dataframe tbody tr th {\n",
       "        vertical-align: top;\n",
       "    }\n",
       "\n",
       "    .dataframe thead th {\n",
       "        text-align: right;\n",
       "    }\n",
       "</style>\n",
       "<table border=\"1\" class=\"dataframe\">\n",
       "  <thead>\n",
       "    <tr style=\"text-align: right;\">\n",
       "      <th></th>\n",
       "      <th>qid</th>\n",
       "      <th>pid</th>\n",
       "      <th>queries</th>\n",
       "      <th>passage</th>\n",
       "      <th>relevancy</th>\n",
       "      <th>passage_cleaned</th>\n",
       "      <th>query_cleaned</th>\n",
       "    </tr>\n",
       "  </thead>\n",
       "  <tbody>\n",
       "    <tr>\n",
       "      <th>0</th>\n",
       "      <td>188714</td>\n",
       "      <td>1000052</td>\n",
       "      <td>foods and supplements to lower blood sugar</td>\n",
       "      <td>Watch portion sizes: ■ Even healthy foods will...</td>\n",
       "      <td>0.0</td>\n",
       "      <td>[watch, portion, size, even, healthy, foods, c...</td>\n",
       "      <td>[foods, supplement, lower, blood, sugar]</td>\n",
       "    </tr>\n",
       "    <tr>\n",
       "      <th>1</th>\n",
       "      <td>995526</td>\n",
       "      <td>1000094</td>\n",
       "      <td>where is the federal penitentiary in ind</td>\n",
       "      <td>It takes THOUSANDS of Macy's associates to bri...</td>\n",
       "      <td>0.0</td>\n",
       "      <td>[take, thousands, macy, associate, bring, magi...</td>\n",
       "      <td>[federal, penitentiary, ind]</td>\n",
       "    </tr>\n",
       "    <tr>\n",
       "      <th>2</th>\n",
       "      <td>660957</td>\n",
       "      <td>1000115</td>\n",
       "      <td>what foods are good if you have gout?</td>\n",
       "      <td>The good news is that you will discover what g...</td>\n",
       "      <td>0.0</td>\n",
       "      <td>[good, news, discover, go, action, spur, narro...</td>\n",
       "      <td>[foods, good, gout]</td>\n",
       "    </tr>\n",
       "    <tr>\n",
       "      <th>3</th>\n",
       "      <td>837202</td>\n",
       "      <td>1000252</td>\n",
       "      <td>what is the nutritional value of oatmeal</td>\n",
       "      <td>Oats make an easy, balanced breakfast. One cup...</td>\n",
       "      <td>0.0</td>\n",
       "      <td>[oats, make, easy, balance, breakfast, one, cu...</td>\n",
       "      <td>[nutritional, value, oatmeal]</td>\n",
       "    </tr>\n",
       "    <tr>\n",
       "      <th>4</th>\n",
       "      <td>130825</td>\n",
       "      <td>1000268</td>\n",
       "      <td>definition for daring</td>\n",
       "      <td>Such a requirement would have three desirable ...</td>\n",
       "      <td>0.0</td>\n",
       "      <td>[requirement, would, three, desirable, consequ...</td>\n",
       "      <td>[definition, dare]</td>\n",
       "    </tr>\n",
       "    <tr>\n",
       "      <th>...</th>\n",
       "      <td>...</td>\n",
       "      <td>...</td>\n",
       "      <td>...</td>\n",
       "      <td>...</td>\n",
       "      <td>...</td>\n",
       "      <td>...</td>\n",
       "      <td>...</td>\n",
       "    </tr>\n",
       "    <tr>\n",
       "      <th>995</th>\n",
       "      <td>400803</td>\n",
       "      <td>1016366</td>\n",
       "      <td>is a revocable trust a separate legal entity</td>\n",
       "      <td>The income and deductions of the trust are rep...</td>\n",
       "      <td>0.0</td>\n",
       "      <td>[income, deductions, trust, report, income, ta...</td>\n",
       "      <td>[revocable, trust, separate, legal, entity]</td>\n",
       "    </tr>\n",
       "    <tr>\n",
       "      <th>996</th>\n",
       "      <td>400803</td>\n",
       "      <td>1016370</td>\n",
       "      <td>is a revocable trust a separate legal entity</td>\n",
       "      <td>A grantor trust is a living revocable trust in...</td>\n",
       "      <td>0.0</td>\n",
       "      <td>[grantor, trust, live, revocable, trust, grant...</td>\n",
       "      <td>[revocable, trust, separate, legal, entity]</td>\n",
       "    </tr>\n",
       "    <tr>\n",
       "      <th>997</th>\n",
       "      <td>544319</td>\n",
       "      <td>1016449</td>\n",
       "      <td>weather in gig harbor, wa</td>\n",
       "      <td>The gig economy is the collection of markets t...</td>\n",
       "      <td>0.0</td>\n",
       "      <td>[gig, economy, collection, market, match, prov...</td>\n",
       "      <td>[weather, gig, harbor, wa]</td>\n",
       "    </tr>\n",
       "    <tr>\n",
       "      <th>998</th>\n",
       "      <td>617246</td>\n",
       "      <td>1016466</td>\n",
       "      <td>what decisions rules can determine upheld or d...</td>\n",
       "      <td>To claim a tax deduction for business mileage,...</td>\n",
       "      <td>0.0</td>\n",
       "      <td>[claim, tax, deduction, business, mileage, sel...</td>\n",
       "      <td>[decisions, rule, determine, uphold, dismiss, ...</td>\n",
       "    </tr>\n",
       "    <tr>\n",
       "      <th>999</th>\n",
       "      <td>1097069</td>\n",
       "      <td>1016480</td>\n",
       "      <td>average gas costs in kentucky</td>\n",
       "      <td>Over the next 30 months, however, the average ...</td>\n",
       "      <td>0.0</td>\n",
       "      <td>[next, months, however, average, cost, clients...</td>\n",
       "      <td>[average, gas, cost, kentucky]</td>\n",
       "    </tr>\n",
       "  </tbody>\n",
       "</table>\n",
       "<p>1000 rows × 7 columns</p>\n",
       "</div>"
      ],
      "text/plain": [
       "         qid      pid                                            queries  \\\n",
       "0     188714  1000052         foods and supplements to lower blood sugar   \n",
       "1     995526  1000094           where is the federal penitentiary in ind   \n",
       "2     660957  1000115              what foods are good if you have gout?   \n",
       "3     837202  1000252           what is the nutritional value of oatmeal   \n",
       "4     130825  1000268                              definition for daring   \n",
       "..       ...      ...                                                ...   \n",
       "995   400803  1016366       is a revocable trust a separate legal entity   \n",
       "996   400803  1016370       is a revocable trust a separate legal entity   \n",
       "997   544319  1016449                          weather in gig harbor, wa   \n",
       "998   617246  1016466  what decisions rules can determine upheld or d...   \n",
       "999  1097069  1016480                      average gas costs in kentucky   \n",
       "\n",
       "                                               passage  relevancy  \\\n",
       "0    Watch portion sizes: ■ Even healthy foods will...        0.0   \n",
       "1    It takes THOUSANDS of Macy's associates to bri...        0.0   \n",
       "2    The good news is that you will discover what g...        0.0   \n",
       "3    Oats make an easy, balanced breakfast. One cup...        0.0   \n",
       "4    Such a requirement would have three desirable ...        0.0   \n",
       "..                                                 ...        ...   \n",
       "995  The income and deductions of the trust are rep...        0.0   \n",
       "996  A grantor trust is a living revocable trust in...        0.0   \n",
       "997  The gig economy is the collection of markets t...        0.0   \n",
       "998  To claim a tax deduction for business mileage,...        0.0   \n",
       "999  Over the next 30 months, however, the average ...        0.0   \n",
       "\n",
       "                                       passage_cleaned  \\\n",
       "0    [watch, portion, size, even, healthy, foods, c...   \n",
       "1    [take, thousands, macy, associate, bring, magi...   \n",
       "2    [good, news, discover, go, action, spur, narro...   \n",
       "3    [oats, make, easy, balance, breakfast, one, cu...   \n",
       "4    [requirement, would, three, desirable, consequ...   \n",
       "..                                                 ...   \n",
       "995  [income, deductions, trust, report, income, ta...   \n",
       "996  [grantor, trust, live, revocable, trust, grant...   \n",
       "997  [gig, economy, collection, market, match, prov...   \n",
       "998  [claim, tax, deduction, business, mileage, sel...   \n",
       "999  [next, months, however, average, cost, clients...   \n",
       "\n",
       "                                         query_cleaned  \n",
       "0             [foods, supplement, lower, blood, sugar]  \n",
       "1                         [federal, penitentiary, ind]  \n",
       "2                                  [foods, good, gout]  \n",
       "3                        [nutritional, value, oatmeal]  \n",
       "4                                   [definition, dare]  \n",
       "..                                                 ...  \n",
       "995        [revocable, trust, separate, legal, entity]  \n",
       "996        [revocable, trust, separate, legal, entity]  \n",
       "997                         [weather, gig, harbor, wa]  \n",
       "998  [decisions, rule, determine, uphold, dismiss, ...  \n",
       "999                     [average, gas, cost, kentucky]  \n",
       "\n",
       "[1000 rows x 7 columns]"
      ]
     },
     "execution_count": 341,
     "metadata": {},
     "output_type": "execute_result"
    }
   ],
   "source": [
    "train_data"
   ]
  },
  {
   "cell_type": "code",
   "execution_count": 342,
   "id": "aboriginal-accountability",
   "metadata": {},
   "outputs": [],
   "source": [
    "validation_data['passage_cleaned']=validation_data.passage.apply(lambda x: preprocessing(x))\n",
    "validation_data['query_cleaned']=validation_data.queries.apply(lambda x: preprocessing(x))"
   ]
  },
  {
   "cell_type": "markdown",
   "id": "exposed-deviation",
   "metadata": {},
   "source": [
    "## Loading word2vec embedding"
   ]
  },
  {
   "cell_type": "code",
   "execution_count": 343,
   "id": "signal-bronze",
   "metadata": {},
   "outputs": [
    {
     "name": "stderr",
     "output_type": "stream",
     "text": [
      "C:\\Users\\Wen\\miniconda3\\envs\\tensorflow\\lib\\site-packages\\smart_open\\smart_open_lib.py:402: UserWarning: This function is deprecated, use smart_open.open instead. See the migration notes for details: https://github.com/RaRe-Technologies/smart_open/blob/master/README.rst#migrating-to-the-new-open-function\n",
      "  'See the migration notes for details: %s' % _MIGRATION_NOTES_URL\n"
     ]
    }
   ],
   "source": [
    "# loading pre-trained embeddings, each word is represented as a 300 dimensional vector\n",
    "import gensim\n",
    "W2V_PATH=\"../GoogleNews-vectors-negative300.bin\"\n",
    "model_w2v = gensim.models.KeyedVectors.load_word2vec_format(W2V_PATH, binary=True)"
   ]
  },
  {
   "cell_type": "markdown",
   "id": "departmental-birmingham",
   "metadata": {},
   "source": [
    "# Embedding documents and queries"
   ]
  },
  {
   "cell_type": "markdown",
   "id": "designing-setting",
   "metadata": {},
   "source": [
    "## embedding documents"
   ]
  },
  {
   "cell_type": "markdown",
   "id": "modular-lesson",
   "metadata": {},
   "source": [
    "### training data"
   ]
  },
  {
   "cell_type": "code",
   "execution_count": 344,
   "id": "listed-procurement",
   "metadata": {},
   "outputs": [],
   "source": [
    "# tokenize and pad every document to make them of the same size\n",
    "passage_tokenizer=Tokenizer()\n",
    "passage_tokenizer.fit_on_texts(train_data.passage_cleaned)\n",
    "passage_max_length = 128 # document length including padding\n",
    "query_max_length = 64 # query length including padding"
   ]
  },
  {
   "cell_type": "code",
   "execution_count": 345,
   "id": "foreign-census",
   "metadata": {},
   "outputs": [
    {
     "data": {
      "text/plain": [
       "(1000, 128, 300)"
      ]
     },
     "execution_count": 345,
     "metadata": {},
     "output_type": "execute_result"
    }
   ],
   "source": [
    "train_data_length = train_data.shape[0]\n",
    "document_word_embeddings_train=np.zeros((train_data_length, passage_max_length,300)) # 64 == padding\n",
    "passages = train_data.passage_cleaned\n",
    "for i in range(len(passages)):\n",
    "    passage = passages[i]\n",
    "    passage_length = len(passage)\n",
    "    for j in range(passage_length): \n",
    "        word = passage[j]\n",
    "        if word in model_w2v:\n",
    "            document_word_embeddings_train[i][j] = model_w2v[word]\n",
    "document_word_embeddings_train.shape"
   ]
  },
  {
   "cell_type": "code",
   "execution_count": 346,
   "id": "desperate-breakdown",
   "metadata": {},
   "outputs": [
    {
     "data": {
      "text/plain": [
       "(1000, 300)"
      ]
     },
     "execution_count": 346,
     "metadata": {},
     "output_type": "execute_result"
    }
   ],
   "source": [
    "average_vector_list_length = document_word_embeddings_train.shape[0]\n",
    "average_document_vectors_train = np.zeros((average_vector_list_length,300))\n",
    "for i in range(average_vector_list_length):\n",
    "    average_document_vectors_train[i] = np.mean(document_word_embeddings_train[i], axis=0)\n",
    "average_document_vectors_train.shape"
   ]
  },
  {
   "cell_type": "markdown",
   "id": "informal-entity",
   "metadata": {},
   "source": [
    "### validation data"
   ]
  },
  {
   "cell_type": "code",
   "execution_count": 347,
   "id": "exciting-interval",
   "metadata": {},
   "outputs": [],
   "source": [
    "# tokenize and pad every document to make them of the same size\n",
    "passage_tokenizer=Tokenizer()\n",
    "passage_tokenizer.fit_on_texts(validation_data.passage_cleaned)\n"
   ]
  },
  {
   "cell_type": "code",
   "execution_count": 348,
   "id": "institutional-improvement",
   "metadata": {},
   "outputs": [
    {
     "data": {
      "text/plain": [
       "(1000, 128, 300)"
      ]
     },
     "execution_count": 348,
     "metadata": {},
     "output_type": "execute_result"
    }
   ],
   "source": [
    "validation_data_length = validation_data.shape[0]\n",
    "document_word_embeddings_val=np.zeros((validation_data_length, passage_max_length,300)) # 64 == padding\n",
    "passages = validation_data.passage_cleaned\n",
    "for i in range(len(passages)):\n",
    "    passage = passages[i]\n",
    "    passage_length = len(passage)\n",
    "    for j in range(passage_length): \n",
    "        word = passage[j]\n",
    "        if word in model_w2v:\n",
    "            document_word_embeddings_val[i][j] = model_w2v[word]\n",
    "document_word_embeddings_val.shape"
   ]
  },
  {
   "cell_type": "code",
   "execution_count": 349,
   "id": "extra-popularity",
   "metadata": {},
   "outputs": [
    {
     "data": {
      "text/plain": [
       "(1000, 300)"
      ]
     },
     "execution_count": 349,
     "metadata": {},
     "output_type": "execute_result"
    }
   ],
   "source": [
    "average_vector_list_length = document_word_embeddings_val.shape[0]\n",
    "average_document_vectors_val = np.zeros((average_vector_list_length,300))\n",
    "for i in range(average_vector_list_length):\n",
    "    average_document_vectors_val[i] = np.mean(document_word_embeddings_val[i], axis=0)\n",
    "average_document_vectors_val.shape"
   ]
  },
  {
   "cell_type": "markdown",
   "id": "controversial-police",
   "metadata": {},
   "source": [
    "## embedding quries"
   ]
  },
  {
   "cell_type": "markdown",
   "id": "secondary-miller",
   "metadata": {},
   "source": [
    "## 문제점:\n",
    "1. 특정 단어가 word embedding에 없는 경우가 있음\n",
    "-> query_vector 의 모든 entry가 0임\n",
    "\n",
    "-> cosine similarity 계산할 때 nan 이 나옴\n",
    "\n",
    "temp solution:\n",
    "cosine similarity 가 0일떄 결과값에 0 을 넣어줌"
   ]
  },
  {
   "cell_type": "markdown",
   "id": "emerging-contrary",
   "metadata": {},
   "source": [
    "### training data"
   ]
  },
  {
   "cell_type": "code",
   "execution_count": 350,
   "id": "matched-persian",
   "metadata": {},
   "outputs": [],
   "source": [
    "# tokenize and pad every document to make them of the same size\n",
    "query_tokenizer=Tokenizer()\n",
    "query_tokenizer.fit_on_texts(train_data.query_cleaned)\n"
   ]
  },
  {
   "cell_type": "code",
   "execution_count": 351,
   "id": "frank-isaac",
   "metadata": {},
   "outputs": [
    {
     "data": {
      "text/plain": [
       "(1000, 64, 300)"
      ]
     },
     "execution_count": 351,
     "metadata": {},
     "output_type": "execute_result"
    }
   ],
   "source": [
    "train_data_length = train_data.shape[0]\n",
    "query_word_embeddings_train=np.zeros((train_data_length, query_max_length,300)) # 64 == padding\n",
    "queries = train_data.query_cleaned\n",
    "for i in range(len(queries)):\n",
    "    query = queries[i]\n",
    "    query_length = len(query)\n",
    "    for j in range(query_length): \n",
    "        word = query[j]\n",
    "        if word in model_w2v:\n",
    "            query_word_embeddings_train[i][j] = model_w2v[word]\n",
    "query_word_embeddings_train.shape"
   ]
  },
  {
   "cell_type": "code",
   "execution_count": 352,
   "id": "timely-beaver",
   "metadata": {},
   "outputs": [
    {
     "data": {
      "text/plain": [
       "(1000, 300)"
      ]
     },
     "execution_count": 352,
     "metadata": {},
     "output_type": "execute_result"
    }
   ],
   "source": [
    "average_vector_list_length = query_word_embeddings_train.shape[0]\n",
    "average_query_vectors_train = np.zeros((average_vector_list_length,300))\n",
    "for i in range(average_vector_list_length):\n",
    "    average_query_vectors_train[i] = np.mean(query_word_embeddings_train[i], axis=0)\n",
    "average_query_vectors_train.shape"
   ]
  },
  {
   "cell_type": "markdown",
   "id": "great-shape",
   "metadata": {},
   "source": [
    "### validation data"
   ]
  },
  {
   "cell_type": "code",
   "execution_count": 353,
   "id": "constitutional-portugal",
   "metadata": {},
   "outputs": [],
   "source": [
    "# tokenize and pad every document to make them of the same size\n",
    "query_tokenizer=Tokenizer()\n",
    "query_tokenizer.fit_on_texts(validation_data.query_cleaned)\n"
   ]
  },
  {
   "cell_type": "code",
   "execution_count": 354,
   "id": "sapphire-sister",
   "metadata": {},
   "outputs": [
    {
     "data": {
      "text/plain": [
       "(1000, 64, 300)"
      ]
     },
     "execution_count": 354,
     "metadata": {},
     "output_type": "execute_result"
    }
   ],
   "source": [
    "validation_data_length = validation_data.shape[0]\n",
    "query_word_embeddings_val=np.zeros((validation_data_length, query_max_length,300)) # 64 == padding\n",
    "queries = validation_data.query_cleaned\n",
    "for i in range(len(queries)):\n",
    "    query = queries[i]\n",
    "    query_length = len(query)\n",
    "    for j in range(query_length): \n",
    "        word = query[j]\n",
    "        if word in model_w2v:\n",
    "            query_word_embeddings_val[i][j] = model_w2v[word]\n",
    "query_word_embeddings_val.shape"
   ]
  },
  {
   "cell_type": "code",
   "execution_count": 355,
   "id": "superior-statement",
   "metadata": {},
   "outputs": [
    {
     "data": {
      "text/plain": [
       "(1000, 300)"
      ]
     },
     "execution_count": 355,
     "metadata": {},
     "output_type": "execute_result"
    }
   ],
   "source": [
    "average_vector_list_length = query_word_embeddings_val.shape[0]\n",
    "average_query_vectors_val = np.zeros((average_vector_list_length,300))\n",
    "for i in range(average_vector_list_length):\n",
    "    average_query_vectors_val[i] = np.mean(query_word_embeddings_val[i], axis=0)\n",
    "average_query_vectors_val.shape"
   ]
  },
  {
   "cell_type": "markdown",
   "id": "informal-bahrain",
   "metadata": {},
   "source": [
    "## creating training data(adding features)"
   ]
  },
  {
   "cell_type": "code",
   "execution_count": 360,
   "id": "twelve-friendship",
   "metadata": {},
   "outputs": [],
   "source": [
    "num_of_features = 2 # cosine_sim, bm25"
   ]
  },
  {
   "cell_type": "code",
   "execution_count": 361,
   "id": "vertical-notice",
   "metadata": {},
   "outputs": [
    {
     "data": {
      "text/plain": [
       "(1000, 2)"
      ]
     },
     "execution_count": 361,
     "metadata": {},
     "output_type": "execute_result"
    }
   ],
   "source": [
    "x_train = np.zeros((average_query_vectors_train.shape[0], num_of_features))\n",
    "x_val = np.zeros((average_query_vectors_val.shape[0], num_of_features))\n",
    "x_train.shape"
   ]
  },
  {
   "cell_type": "code",
   "execution_count": 362,
   "id": "saved-burst",
   "metadata": {},
   "outputs": [
    {
     "data": {
      "text/plain": [
       "0.0"
      ]
     },
     "execution_count": 362,
     "metadata": {},
     "output_type": "execute_result"
    }
   ],
   "source": [
    "x_train[0][0]"
   ]
  },
  {
   "cell_type": "markdown",
   "id": "immediate-mills",
   "metadata": {},
   "source": [
    "### Cosine Simliarity"
   ]
  },
  {
   "cell_type": "code",
   "execution_count": 363,
   "id": "infectious-terrorism",
   "metadata": {},
   "outputs": [],
   "source": [
    "def cosine_sim_formula(a, b):\n",
    "    cos_sim = np.dot(a, b)/(np.linalg.norm(a)*np.linalg.norm(b))\n",
    "    if np.isnan(cos_sim):\n",
    "        cos_sim = 0\n",
    "    return cos_sim"
   ]
  },
  {
   "cell_type": "code",
   "execution_count": 364,
   "id": "developed-calculator",
   "metadata": {},
   "outputs": [
    {
     "name": "stderr",
     "output_type": "stream",
     "text": [
      "C:\\Users\\Wen\\miniconda3\\envs\\tensorflow\\lib\\site-packages\\ipykernel_launcher.py:2: RuntimeWarning: invalid value encountered in double_scalars\n",
      "  \n"
     ]
    }
   ],
   "source": [
    "for i in range(x_train.shape[0]):\n",
    "    query_vector = average_query_vectors_train[i]\n",
    "    passage_vector = average_document_vectors_train[i]\n",
    "    x_train[i][0] = cosine_sim_formula(query_vector, passage_vector)\n",
    "    if np.isnan(x_train[i][0]):\n",
    "        x_train[i][0] = 0\n"
   ]
  },
  {
   "cell_type": "code",
   "execution_count": 366,
   "id": "stopped-christian",
   "metadata": {},
   "outputs": [],
   "source": [
    "train_data['co_similarity'] = x_train[:,0]"
   ]
  },
  {
   "cell_type": "code",
   "execution_count": 367,
   "id": "driven-production",
   "metadata": {},
   "outputs": [
    {
     "data": {
      "text/html": [
       "<div>\n",
       "<style scoped>\n",
       "    .dataframe tbody tr th:only-of-type {\n",
       "        vertical-align: middle;\n",
       "    }\n",
       "\n",
       "    .dataframe tbody tr th {\n",
       "        vertical-align: top;\n",
       "    }\n",
       "\n",
       "    .dataframe thead th {\n",
       "        text-align: right;\n",
       "    }\n",
       "</style>\n",
       "<table border=\"1\" class=\"dataframe\">\n",
       "  <thead>\n",
       "    <tr style=\"text-align: right;\">\n",
       "      <th></th>\n",
       "      <th>qid</th>\n",
       "      <th>pid</th>\n",
       "      <th>queries</th>\n",
       "      <th>passage</th>\n",
       "      <th>relevancy</th>\n",
       "      <th>passage_cleaned</th>\n",
       "      <th>query_cleaned</th>\n",
       "      <th>co_similarity</th>\n",
       "    </tr>\n",
       "  </thead>\n",
       "  <tbody>\n",
       "    <tr>\n",
       "      <th>0</th>\n",
       "      <td>188714</td>\n",
       "      <td>1000052</td>\n",
       "      <td>foods and supplements to lower blood sugar</td>\n",
       "      <td>Watch portion sizes: ■ Even healthy foods will...</td>\n",
       "      <td>0.0</td>\n",
       "      <td>[watch, portion, size, even, healthy, foods, c...</td>\n",
       "      <td>[foods, supplement, lower, blood, sugar]</td>\n",
       "      <td>0.812210</td>\n",
       "    </tr>\n",
       "    <tr>\n",
       "      <th>1</th>\n",
       "      <td>995526</td>\n",
       "      <td>1000094</td>\n",
       "      <td>where is the federal penitentiary in ind</td>\n",
       "      <td>It takes THOUSANDS of Macy's associates to bri...</td>\n",
       "      <td>0.0</td>\n",
       "      <td>[take, thousands, macy, associate, bring, magi...</td>\n",
       "      <td>[federal, penitentiary, ind]</td>\n",
       "      <td>0.345645</td>\n",
       "    </tr>\n",
       "    <tr>\n",
       "      <th>2</th>\n",
       "      <td>660957</td>\n",
       "      <td>1000115</td>\n",
       "      <td>what foods are good if you have gout?</td>\n",
       "      <td>The good news is that you will discover what g...</td>\n",
       "      <td>0.0</td>\n",
       "      <td>[good, news, discover, go, action, spur, narro...</td>\n",
       "      <td>[foods, good, gout]</td>\n",
       "      <td>0.640991</td>\n",
       "    </tr>\n",
       "    <tr>\n",
       "      <th>3</th>\n",
       "      <td>837202</td>\n",
       "      <td>1000252</td>\n",
       "      <td>what is the nutritional value of oatmeal</td>\n",
       "      <td>Oats make an easy, balanced breakfast. One cup...</td>\n",
       "      <td>0.0</td>\n",
       "      <td>[oats, make, easy, balance, breakfast, one, cu...</td>\n",
       "      <td>[nutritional, value, oatmeal]</td>\n",
       "      <td>0.670880</td>\n",
       "    </tr>\n",
       "    <tr>\n",
       "      <th>4</th>\n",
       "      <td>130825</td>\n",
       "      <td>1000268</td>\n",
       "      <td>definition for daring</td>\n",
       "      <td>Such a requirement would have three desirable ...</td>\n",
       "      <td>0.0</td>\n",
       "      <td>[requirement, would, three, desirable, consequ...</td>\n",
       "      <td>[definition, dare]</td>\n",
       "      <td>0.386194</td>\n",
       "    </tr>\n",
       "    <tr>\n",
       "      <th>...</th>\n",
       "      <td>...</td>\n",
       "      <td>...</td>\n",
       "      <td>...</td>\n",
       "      <td>...</td>\n",
       "      <td>...</td>\n",
       "      <td>...</td>\n",
       "      <td>...</td>\n",
       "      <td>...</td>\n",
       "    </tr>\n",
       "    <tr>\n",
       "      <th>995</th>\n",
       "      <td>400803</td>\n",
       "      <td>1016366</td>\n",
       "      <td>is a revocable trust a separate legal entity</td>\n",
       "      <td>The income and deductions of the trust are rep...</td>\n",
       "      <td>0.0</td>\n",
       "      <td>[income, deductions, trust, report, income, ta...</td>\n",
       "      <td>[revocable, trust, separate, legal, entity]</td>\n",
       "      <td>0.667951</td>\n",
       "    </tr>\n",
       "    <tr>\n",
       "      <th>996</th>\n",
       "      <td>400803</td>\n",
       "      <td>1016370</td>\n",
       "      <td>is a revocable trust a separate legal entity</td>\n",
       "      <td>A grantor trust is a living revocable trust in...</td>\n",
       "      <td>0.0</td>\n",
       "      <td>[grantor, trust, live, revocable, trust, grant...</td>\n",
       "      <td>[revocable, trust, separate, legal, entity]</td>\n",
       "      <td>0.699175</td>\n",
       "    </tr>\n",
       "    <tr>\n",
       "      <th>997</th>\n",
       "      <td>544319</td>\n",
       "      <td>1016449</td>\n",
       "      <td>weather in gig harbor, wa</td>\n",
       "      <td>The gig economy is the collection of markets t...</td>\n",
       "      <td>0.0</td>\n",
       "      <td>[gig, economy, collection, market, match, prov...</td>\n",
       "      <td>[weather, gig, harbor, wa]</td>\n",
       "      <td>0.383561</td>\n",
       "    </tr>\n",
       "    <tr>\n",
       "      <th>998</th>\n",
       "      <td>617246</td>\n",
       "      <td>1016466</td>\n",
       "      <td>what decisions rules can determine upheld or d...</td>\n",
       "      <td>To claim a tax deduction for business mileage,...</td>\n",
       "      <td>0.0</td>\n",
       "      <td>[claim, tax, deduction, business, mileage, sel...</td>\n",
       "      <td>[decisions, rule, determine, uphold, dismiss, ...</td>\n",
       "      <td>0.534107</td>\n",
       "    </tr>\n",
       "    <tr>\n",
       "      <th>999</th>\n",
       "      <td>1097069</td>\n",
       "      <td>1016480</td>\n",
       "      <td>average gas costs in kentucky</td>\n",
       "      <td>Over the next 30 months, however, the average ...</td>\n",
       "      <td>0.0</td>\n",
       "      <td>[next, months, however, average, cost, clients...</td>\n",
       "      <td>[average, gas, cost, kentucky]</td>\n",
       "      <td>0.577678</td>\n",
       "    </tr>\n",
       "  </tbody>\n",
       "</table>\n",
       "<p>1000 rows × 8 columns</p>\n",
       "</div>"
      ],
      "text/plain": [
       "         qid      pid                                            queries  \\\n",
       "0     188714  1000052         foods and supplements to lower blood sugar   \n",
       "1     995526  1000094           where is the federal penitentiary in ind   \n",
       "2     660957  1000115              what foods are good if you have gout?   \n",
       "3     837202  1000252           what is the nutritional value of oatmeal   \n",
       "4     130825  1000268                              definition for daring   \n",
       "..       ...      ...                                                ...   \n",
       "995   400803  1016366       is a revocable trust a separate legal entity   \n",
       "996   400803  1016370       is a revocable trust a separate legal entity   \n",
       "997   544319  1016449                          weather in gig harbor, wa   \n",
       "998   617246  1016466  what decisions rules can determine upheld or d...   \n",
       "999  1097069  1016480                      average gas costs in kentucky   \n",
       "\n",
       "                                               passage  relevancy  \\\n",
       "0    Watch portion sizes: ■ Even healthy foods will...        0.0   \n",
       "1    It takes THOUSANDS of Macy's associates to bri...        0.0   \n",
       "2    The good news is that you will discover what g...        0.0   \n",
       "3    Oats make an easy, balanced breakfast. One cup...        0.0   \n",
       "4    Such a requirement would have three desirable ...        0.0   \n",
       "..                                                 ...        ...   \n",
       "995  The income and deductions of the trust are rep...        0.0   \n",
       "996  A grantor trust is a living revocable trust in...        0.0   \n",
       "997  The gig economy is the collection of markets t...        0.0   \n",
       "998  To claim a tax deduction for business mileage,...        0.0   \n",
       "999  Over the next 30 months, however, the average ...        0.0   \n",
       "\n",
       "                                       passage_cleaned  \\\n",
       "0    [watch, portion, size, even, healthy, foods, c...   \n",
       "1    [take, thousands, macy, associate, bring, magi...   \n",
       "2    [good, news, discover, go, action, spur, narro...   \n",
       "3    [oats, make, easy, balance, breakfast, one, cu...   \n",
       "4    [requirement, would, three, desirable, consequ...   \n",
       "..                                                 ...   \n",
       "995  [income, deductions, trust, report, income, ta...   \n",
       "996  [grantor, trust, live, revocable, trust, grant...   \n",
       "997  [gig, economy, collection, market, match, prov...   \n",
       "998  [claim, tax, deduction, business, mileage, sel...   \n",
       "999  [next, months, however, average, cost, clients...   \n",
       "\n",
       "                                         query_cleaned  co_similarity  \n",
       "0             [foods, supplement, lower, blood, sugar]       0.812210  \n",
       "1                         [federal, penitentiary, ind]       0.345645  \n",
       "2                                  [foods, good, gout]       0.640991  \n",
       "3                        [nutritional, value, oatmeal]       0.670880  \n",
       "4                                   [definition, dare]       0.386194  \n",
       "..                                                 ...            ...  \n",
       "995        [revocable, trust, separate, legal, entity]       0.667951  \n",
       "996        [revocable, trust, separate, legal, entity]       0.699175  \n",
       "997                         [weather, gig, harbor, wa]       0.383561  \n",
       "998  [decisions, rule, determine, uphold, dismiss, ...       0.534107  \n",
       "999                     [average, gas, cost, kentucky]       0.577678  \n",
       "\n",
       "[1000 rows x 8 columns]"
      ]
     },
     "execution_count": 367,
     "metadata": {},
     "output_type": "execute_result"
    }
   ],
   "source": [
    "train_data"
   ]
  },
  {
   "cell_type": "code",
   "execution_count": 368,
   "id": "second-nothing",
   "metadata": {},
   "outputs": [],
   "source": [
    "for i in range(len(x_val)):\n",
    "    query_vector = average_query_vectors_val[i]\n",
    "    passage_vector = average_document_vectors_val[i]\n",
    "    x_val[i][0] = cosine_sim_formula(query_vector, passage_vector)\n",
    "    if np.isnan(x_val[i][0]):\n",
    "        x_val[i][0] = 0"
   ]
  },
  {
   "cell_type": "code",
   "execution_count": 369,
   "id": "intellectual-subdivision",
   "metadata": {},
   "outputs": [],
   "source": [
    "validation_data['co_similarity'] = x_val[:,0]"
   ]
  },
  {
   "cell_type": "code",
   "execution_count": 370,
   "id": "atlantic-length",
   "metadata": {},
   "outputs": [
    {
     "data": {
      "text/html": [
       "<div>\n",
       "<style scoped>\n",
       "    .dataframe tbody tr th:only-of-type {\n",
       "        vertical-align: middle;\n",
       "    }\n",
       "\n",
       "    .dataframe tbody tr th {\n",
       "        vertical-align: top;\n",
       "    }\n",
       "\n",
       "    .dataframe thead th {\n",
       "        text-align: right;\n",
       "    }\n",
       "</style>\n",
       "<table border=\"1\" class=\"dataframe\">\n",
       "  <thead>\n",
       "    <tr style=\"text-align: right;\">\n",
       "      <th></th>\n",
       "      <th>qid</th>\n",
       "      <th>pid</th>\n",
       "      <th>queries</th>\n",
       "      <th>passage</th>\n",
       "      <th>relevancy</th>\n",
       "      <th>passage_cleaned</th>\n",
       "      <th>query_cleaned</th>\n",
       "      <th>co_similarity</th>\n",
       "    </tr>\n",
       "  </thead>\n",
       "  <tbody>\n",
       "    <tr>\n",
       "      <th>0</th>\n",
       "      <td>1082792</td>\n",
       "      <td>1000084</td>\n",
       "      <td>what does the golgi apparatus do to the protei...</td>\n",
       "      <td>Start studying Bonding, Carbs, Proteins, Lipid...</td>\n",
       "      <td>0.0</td>\n",
       "      <td>[start, study, bond, carbs, proteins, lipids, ...</td>\n",
       "      <td>[golgi, apparatus, proteins, lipids, arrive]</td>\n",
       "      <td>0.609541</td>\n",
       "    </tr>\n",
       "    <tr>\n",
       "      <th>1</th>\n",
       "      <td>995825</td>\n",
       "      <td>1000492</td>\n",
       "      <td>where is the graphic card located in the cpu</td>\n",
       "      <td>For example, a “PC Expansion Card” maybe the j...</td>\n",
       "      <td>0.0</td>\n",
       "      <td>[example, pc, expansion, card, maybe, jargon, ...</td>\n",
       "      <td>[graphic, card, locate, cpu]</td>\n",
       "      <td>0.675188</td>\n",
       "    </tr>\n",
       "    <tr>\n",
       "      <th>2</th>\n",
       "      <td>995825</td>\n",
       "      <td>1000494</td>\n",
       "      <td>where is the graphic card located in the cpu</td>\n",
       "      <td>The Common Cards &amp; Buses. The most common type...</td>\n",
       "      <td>0.0</td>\n",
       "      <td>[common, card, bus, common, type, expansion, c...</td>\n",
       "      <td>[graphic, card, locate, cpu]</td>\n",
       "      <td>0.762009</td>\n",
       "    </tr>\n",
       "    <tr>\n",
       "      <th>3</th>\n",
       "      <td>1091246</td>\n",
       "      <td>1000522</td>\n",
       "      <td>property premises meaning</td>\n",
       "      <td>The occurrence of since tells us that the firs...</td>\n",
       "      <td>0.0</td>\n",
       "      <td>[occurrence, since, tell, us, first, statement...</td>\n",
       "      <td>[property, premise, mean]</td>\n",
       "      <td>0.561729</td>\n",
       "    </tr>\n",
       "    <tr>\n",
       "      <th>4</th>\n",
       "      <td>1047854</td>\n",
       "      <td>1000585</td>\n",
       "      <td>what is printing mechanism</td>\n",
       "      <td>Windows desktop applications Develop Desktop t...</td>\n",
       "      <td>0.0</td>\n",
       "      <td>[windows, desktop, applications, develop, desk...</td>\n",
       "      <td>[print, mechanism]</td>\n",
       "      <td>0.612431</td>\n",
       "    </tr>\n",
       "    <tr>\n",
       "      <th>...</th>\n",
       "      <td>...</td>\n",
       "      <td>...</td>\n",
       "      <td>...</td>\n",
       "      <td>...</td>\n",
       "      <td>...</td>\n",
       "      <td>...</td>\n",
       "      <td>...</td>\n",
       "      <td>...</td>\n",
       "    </tr>\n",
       "    <tr>\n",
       "      <th>995</th>\n",
       "      <td>1069028</td>\n",
       "      <td>1063432</td>\n",
       "      <td>what is a preliminary source</td>\n",
       "      <td>In September 22 1862, after the Union's victor...</td>\n",
       "      <td>0.0</td>\n",
       "      <td>[september, union, victory, antietam, lincoln,...</td>\n",
       "      <td>[preliminary, source]</td>\n",
       "      <td>0.296364</td>\n",
       "    </tr>\n",
       "    <tr>\n",
       "      <th>996</th>\n",
       "      <td>14947</td>\n",
       "      <td>1063503</td>\n",
       "      <td>airport code mont tremblant</td>\n",
       "      <td>Cities &gt; Norway &gt; Airports near Ølen. The clos...</td>\n",
       "      <td>0.0</td>\n",
       "      <td>[cities, norway, airports, near, ølen, closest...</td>\n",
       "      <td>[airport, code, mont, tremblant]</td>\n",
       "      <td>0.559477</td>\n",
       "    </tr>\n",
       "    <tr>\n",
       "      <th>997</th>\n",
       "      <td>1036002</td>\n",
       "      <td>1063567</td>\n",
       "      <td>who is melvin booker</td>\n",
       "      <td>Double or Nothing, a song by B.o.B and Big Boi...</td>\n",
       "      <td>0.0</td>\n",
       "      <td>[double, nothing, song, bob, big, boi, album, ...</td>\n",
       "      <td>[melvin, booker]</td>\n",
       "      <td>0.396677</td>\n",
       "    </tr>\n",
       "    <tr>\n",
       "      <th>998</th>\n",
       "      <td>731736</td>\n",
       "      <td>1063649</td>\n",
       "      <td>what is coastal erosion</td>\n",
       "      <td>1.1 DEFINING COASTAL AREAS. Coastal areas are ...</td>\n",
       "      <td>0.0</td>\n",
       "      <td>[define, coastal, areas, coastal, areas, commo...</td>\n",
       "      <td>[coastal, erosion]</td>\n",
       "      <td>0.570154</td>\n",
       "    </tr>\n",
       "    <tr>\n",
       "      <th>999</th>\n",
       "      <td>1056726</td>\n",
       "      <td>1063656</td>\n",
       "      <td>what is diagnosis of engineering</td>\n",
       "      <td>Structural engineers often specialize in parti...</td>\n",
       "      <td>0.0</td>\n",
       "      <td>[structural, engineer, often, specialize, part...</td>\n",
       "      <td>[diagnosis, engineer]</td>\n",
       "      <td>0.556620</td>\n",
       "    </tr>\n",
       "  </tbody>\n",
       "</table>\n",
       "<p>1000 rows × 8 columns</p>\n",
       "</div>"
      ],
      "text/plain": [
       "         qid      pid                                            queries  \\\n",
       "0    1082792  1000084  what does the golgi apparatus do to the protei...   \n",
       "1     995825  1000492       where is the graphic card located in the cpu   \n",
       "2     995825  1000494       where is the graphic card located in the cpu   \n",
       "3    1091246  1000522                          property premises meaning   \n",
       "4    1047854  1000585                         what is printing mechanism   \n",
       "..       ...      ...                                                ...   \n",
       "995  1069028  1063432                       what is a preliminary source   \n",
       "996    14947  1063503                        airport code mont tremblant   \n",
       "997  1036002  1063567                               who is melvin booker   \n",
       "998   731736  1063649                            what is coastal erosion   \n",
       "999  1056726  1063656                   what is diagnosis of engineering   \n",
       "\n",
       "                                               passage  relevancy  \\\n",
       "0    Start studying Bonding, Carbs, Proteins, Lipid...        0.0   \n",
       "1    For example, a “PC Expansion Card” maybe the j...        0.0   \n",
       "2    The Common Cards & Buses. The most common type...        0.0   \n",
       "3    The occurrence of since tells us that the firs...        0.0   \n",
       "4    Windows desktop applications Develop Desktop t...        0.0   \n",
       "..                                                 ...        ...   \n",
       "995  In September 22 1862, after the Union's victor...        0.0   \n",
       "996  Cities > Norway > Airports near Ølen. The clos...        0.0   \n",
       "997  Double or Nothing, a song by B.o.B and Big Boi...        0.0   \n",
       "998  1.1 DEFINING COASTAL AREAS. Coastal areas are ...        0.0   \n",
       "999  Structural engineers often specialize in parti...        0.0   \n",
       "\n",
       "                                       passage_cleaned  \\\n",
       "0    [start, study, bond, carbs, proteins, lipids, ...   \n",
       "1    [example, pc, expansion, card, maybe, jargon, ...   \n",
       "2    [common, card, bus, common, type, expansion, c...   \n",
       "3    [occurrence, since, tell, us, first, statement...   \n",
       "4    [windows, desktop, applications, develop, desk...   \n",
       "..                                                 ...   \n",
       "995  [september, union, victory, antietam, lincoln,...   \n",
       "996  [cities, norway, airports, near, ølen, closest...   \n",
       "997  [double, nothing, song, bob, big, boi, album, ...   \n",
       "998  [define, coastal, areas, coastal, areas, commo...   \n",
       "999  [structural, engineer, often, specialize, part...   \n",
       "\n",
       "                                    query_cleaned  co_similarity  \n",
       "0    [golgi, apparatus, proteins, lipids, arrive]       0.609541  \n",
       "1                    [graphic, card, locate, cpu]       0.675188  \n",
       "2                    [graphic, card, locate, cpu]       0.762009  \n",
       "3                       [property, premise, mean]       0.561729  \n",
       "4                              [print, mechanism]       0.612431  \n",
       "..                                            ...            ...  \n",
       "995                         [preliminary, source]       0.296364  \n",
       "996              [airport, code, mont, tremblant]       0.559477  \n",
       "997                              [melvin, booker]       0.396677  \n",
       "998                            [coastal, erosion]       0.570154  \n",
       "999                         [diagnosis, engineer]       0.556620  \n",
       "\n",
       "[1000 rows x 8 columns]"
      ]
     },
     "execution_count": 370,
     "metadata": {},
     "output_type": "execute_result"
    }
   ],
   "source": [
    "validation_data"
   ]
  },
  {
   "cell_type": "code",
   "execution_count": 371,
   "id": "opened-resistance",
   "metadata": {},
   "outputs": [],
   "source": [
    "y_train = train_data.relevancy.values\n",
    "y_val = validation_data.relevancy.values"
   ]
  },
  {
   "cell_type": "markdown",
   "id": "trying-understanding",
   "metadata": {},
   "source": [
    "### BM25"
   ]
  },
  {
   "cell_type": "code",
   "execution_count": 372,
   "id": "unsigned-establishment",
   "metadata": {},
   "outputs": [],
   "source": [
    "train_data_no_dup_passages = train_data.drop_duplicates(subset=['pid'], inplace=False)\n",
    "validation_data_no_dup_passages = validation_data.drop_duplicates(subset=['pid'], inplace=False)"
   ]
  },
  {
   "cell_type": "code",
   "execution_count": 373,
   "id": "scientific-insulin",
   "metadata": {},
   "outputs": [
    {
     "data": {
      "text/plain": [
       "(701, 8)"
      ]
     },
     "execution_count": 373,
     "metadata": {},
     "output_type": "execute_result"
    },
    {
     "data": {
      "text/plain": [
       "(878, 8)"
      ]
     },
     "execution_count": 373,
     "metadata": {},
     "output_type": "execute_result"
    }
   ],
   "source": [
    "train_data_no_dup_passages.shape\n",
    "validation_data_no_dup_passages.shape\n",
    "N_train = train_data_no_dup_passages.shape[0]\n",
    "N_val = validation_data_no_dup_passages.shape[0]"
   ]
  },
  {
   "cell_type": "code",
   "execution_count": 378,
   "id": "considered-imperial",
   "metadata": {},
   "outputs": [],
   "source": [
    "def get_passage_average_length(dataframe_no_dup_passages):\n",
    "    number_of_passages = validation_data_no_dup_passages.shape[0]\n",
    "    count_total_length = 0\n",
    "    for idx, row in dataframe_no_dup_passages.iterrows():\n",
    "        count_total_length += len(row['passage_cleaned'])\n",
    "    return count_total_length/number_of_passages \n"
   ]
  },
  {
   "cell_type": "code",
   "execution_count": 379,
   "id": "phantom-scout",
   "metadata": {},
   "outputs": [],
   "source": [
    "# total_word_occurences, avdl = get_passage_average_length_and_total_word_occurences_corpus()\n",
    "avdl_train = get_passage_average_length(train_data_no_dup_passages)\n",
    "avdl_val = get_passage_average_length(validation_data_no_dup_passages)"
   ]
  },
  {
   "cell_type": "code",
   "execution_count": 381,
   "id": "lonely-action",
   "metadata": {},
   "outputs": [],
   "source": [
    "from math import log\n",
    "\n",
    "k1 = 1.2\n",
    "k2 = 100\n",
    "b = 0.75\n",
    "R = 0\n",
    "r = 0\n",
    "# N = len(validation_data_no_dup_passages)\n",
    "\n",
    "def K_cal(dl, avdl):\n",
    "    return k1 * ((1-b) + b * (float(dl)/float(avdl)) )\n",
    "\n",
    "\n",
    "def BM25_cal_for_preprocessed_words(query_tokens, passage_tokens, N, avdl):\n",
    "    query_length = len(query_tokens)\n",
    "    query_token_freq_dict = nltk.FreqDist(query_tokens)\n",
    "    passage_token_freq_dict = nltk.FreqDist(passage_tokens)\n",
    "    dl = len(passage_tokens)\n",
    "    K = K_cal(dl, avdl)\n",
    "    score = 0\n",
    "    for token in query_tokens:\n",
    "        try:\n",
    "            n = len(inverted_index[token])\n",
    "        except:\n",
    "            n = 0\n",
    "        f = passage_token_freq_dict[token]\n",
    "        qf = query_token_freq_dict[token]\n",
    "        first_term = log( ( (r + 0.5) / (R - r + 0.5) ) / ( (n - r + 0.5) / (N - n - R + r + 0.5)) )\n",
    "        second_term = ((k1 + 1) * f) / (K + f)\n",
    "        third_term = ((k2+1) * qf) / (k2 + qf)\n",
    "        score += first_term * second_term * third_term\n",
    "    return score\n",
    "    "
   ]
  },
  {
   "cell_type": "code",
   "execution_count": 387,
   "id": "choice-things",
   "metadata": {},
   "outputs": [],
   "source": [
    "for idx, row in train_data.iterrows():\n",
    "    query_cleaned = row['query_cleaned']\n",
    "    passage_cleaned = row['passage_cleaned']\n",
    "    bm25_score = BM25_cal_for_preprocessed_words(query_cleaned, passage_cleaned, N_train, avdl_train)\n",
    "    x_train[idx][1] = bm25_score"
   ]
  },
  {
   "cell_type": "code",
   "execution_count": 388,
   "id": "virgin-scheme",
   "metadata": {},
   "outputs": [],
   "source": [
    "for idx, row in validation_data.iterrows():\n",
    "    query_cleaned = row['query_cleaned']\n",
    "    passage_cleaned = row['passage_cleaned']\n",
    "    bm25_score = BM25_cal_for_preprocessed_words(query_cleaned, passage_cleaned, N_val, avdl_val)\n",
    "    x_val[idx][1] = bm25_score"
   ]
  },
  {
   "cell_type": "code",
   "execution_count": 452,
   "id": "union-bahrain",
   "metadata": {},
   "outputs": [],
   "source": [
    "train_data['bm25'] = x_train[:,1]\n",
    "validation_data['bm25'] = x_val[:,1]"
   ]
  },
  {
   "cell_type": "code",
   "execution_count": 390,
   "id": "stable-wireless",
   "metadata": {},
   "outputs": [
    {
     "data": {
      "text/html": [
       "<div>\n",
       "<style scoped>\n",
       "    .dataframe tbody tr th:only-of-type {\n",
       "        vertical-align: middle;\n",
       "    }\n",
       "\n",
       "    .dataframe tbody tr th {\n",
       "        vertical-align: top;\n",
       "    }\n",
       "\n",
       "    .dataframe thead th {\n",
       "        text-align: right;\n",
       "    }\n",
       "</style>\n",
       "<table border=\"1\" class=\"dataframe\">\n",
       "  <thead>\n",
       "    <tr style=\"text-align: right;\">\n",
       "      <th></th>\n",
       "      <th>qid</th>\n",
       "      <th>pid</th>\n",
       "      <th>queries</th>\n",
       "      <th>passage</th>\n",
       "      <th>relevancy</th>\n",
       "      <th>passage_cleaned</th>\n",
       "      <th>query_cleaned</th>\n",
       "      <th>co_similarity</th>\n",
       "      <th>bm25</th>\n",
       "    </tr>\n",
       "  </thead>\n",
       "  <tbody>\n",
       "    <tr>\n",
       "      <th>0</th>\n",
       "      <td>188714</td>\n",
       "      <td>1000052</td>\n",
       "      <td>foods and supplements to lower blood sugar</td>\n",
       "      <td>Watch portion sizes: ■ Even healthy foods will...</td>\n",
       "      <td>0.0</td>\n",
       "      <td>[watch, portion, size, even, healthy, foods, c...</td>\n",
       "      <td>[foods, supplement, lower, blood, sugar]</td>\n",
       "      <td>0.812210</td>\n",
       "      <td>28.648708</td>\n",
       "    </tr>\n",
       "    <tr>\n",
       "      <th>1</th>\n",
       "      <td>995526</td>\n",
       "      <td>1000094</td>\n",
       "      <td>where is the federal penitentiary in ind</td>\n",
       "      <td>It takes THOUSANDS of Macy's associates to bri...</td>\n",
       "      <td>0.0</td>\n",
       "      <td>[take, thousands, macy, associate, bring, magi...</td>\n",
       "      <td>[federal, penitentiary, ind]</td>\n",
       "      <td>0.345645</td>\n",
       "      <td>8.308349</td>\n",
       "    </tr>\n",
       "    <tr>\n",
       "      <th>2</th>\n",
       "      <td>660957</td>\n",
       "      <td>1000115</td>\n",
       "      <td>what foods are good if you have gout?</td>\n",
       "      <td>The good news is that you will discover what g...</td>\n",
       "      <td>0.0</td>\n",
       "      <td>[good, news, discover, go, action, spur, narro...</td>\n",
       "      <td>[foods, good, gout]</td>\n",
       "      <td>0.640991</td>\n",
       "      <td>21.800407</td>\n",
       "    </tr>\n",
       "    <tr>\n",
       "      <th>3</th>\n",
       "      <td>837202</td>\n",
       "      <td>1000252</td>\n",
       "      <td>what is the nutritional value of oatmeal</td>\n",
       "      <td>Oats make an easy, balanced breakfast. One cup...</td>\n",
       "      <td>0.0</td>\n",
       "      <td>[oats, make, easy, balance, breakfast, one, cu...</td>\n",
       "      <td>[nutritional, value, oatmeal]</td>\n",
       "      <td>0.670880</td>\n",
       "      <td>9.377437</td>\n",
       "    </tr>\n",
       "    <tr>\n",
       "      <th>4</th>\n",
       "      <td>130825</td>\n",
       "      <td>1000268</td>\n",
       "      <td>definition for daring</td>\n",
       "      <td>Such a requirement would have three desirable ...</td>\n",
       "      <td>0.0</td>\n",
       "      <td>[requirement, would, three, desirable, consequ...</td>\n",
       "      <td>[definition, dare]</td>\n",
       "      <td>0.386194</td>\n",
       "      <td>5.959412</td>\n",
       "    </tr>\n",
       "    <tr>\n",
       "      <th>...</th>\n",
       "      <td>...</td>\n",
       "      <td>...</td>\n",
       "      <td>...</td>\n",
       "      <td>...</td>\n",
       "      <td>...</td>\n",
       "      <td>...</td>\n",
       "      <td>...</td>\n",
       "      <td>...</td>\n",
       "      <td>...</td>\n",
       "    </tr>\n",
       "    <tr>\n",
       "      <th>995</th>\n",
       "      <td>400803</td>\n",
       "      <td>1016366</td>\n",
       "      <td>is a revocable trust a separate legal entity</td>\n",
       "      <td>The income and deductions of the trust are rep...</td>\n",
       "      <td>0.0</td>\n",
       "      <td>[income, deductions, trust, report, income, ta...</td>\n",
       "      <td>[revocable, trust, separate, legal, entity]</td>\n",
       "      <td>0.667951</td>\n",
       "      <td>21.828710</td>\n",
       "    </tr>\n",
       "    <tr>\n",
       "      <th>996</th>\n",
       "      <td>400803</td>\n",
       "      <td>1016370</td>\n",
       "      <td>is a revocable trust a separate legal entity</td>\n",
       "      <td>A grantor trust is a living revocable trust in...</td>\n",
       "      <td>0.0</td>\n",
       "      <td>[grantor, trust, live, revocable, trust, grant...</td>\n",
       "      <td>[revocable, trust, separate, legal, entity]</td>\n",
       "      <td>0.699175</td>\n",
       "      <td>22.962073</td>\n",
       "    </tr>\n",
       "    <tr>\n",
       "      <th>997</th>\n",
       "      <td>544319</td>\n",
       "      <td>1016449</td>\n",
       "      <td>weather in gig harbor, wa</td>\n",
       "      <td>The gig economy is the collection of markets t...</td>\n",
       "      <td>0.0</td>\n",
       "      <td>[gig, economy, collection, market, match, prov...</td>\n",
       "      <td>[weather, gig, harbor, wa]</td>\n",
       "      <td>0.383561</td>\n",
       "      <td>11.130238</td>\n",
       "    </tr>\n",
       "    <tr>\n",
       "      <th>998</th>\n",
       "      <td>617246</td>\n",
       "      <td>1016466</td>\n",
       "      <td>what decisions rules can determine upheld or d...</td>\n",
       "      <td>To claim a tax deduction for business mileage,...</td>\n",
       "      <td>0.0</td>\n",
       "      <td>[claim, tax, deduction, business, mileage, sel...</td>\n",
       "      <td>[decisions, rule, determine, uphold, dismiss, ...</td>\n",
       "      <td>0.534107</td>\n",
       "      <td>17.704609</td>\n",
       "    </tr>\n",
       "    <tr>\n",
       "      <th>999</th>\n",
       "      <td>1097069</td>\n",
       "      <td>1016480</td>\n",
       "      <td>average gas costs in kentucky</td>\n",
       "      <td>Over the next 30 months, however, the average ...</td>\n",
       "      <td>0.0</td>\n",
       "      <td>[next, months, however, average, cost, clients...</td>\n",
       "      <td>[average, gas, cost, kentucky]</td>\n",
       "      <td>0.577678</td>\n",
       "      <td>22.996400</td>\n",
       "    </tr>\n",
       "  </tbody>\n",
       "</table>\n",
       "<p>1000 rows × 9 columns</p>\n",
       "</div>"
      ],
      "text/plain": [
       "         qid      pid                                            queries  \\\n",
       "0     188714  1000052         foods and supplements to lower blood sugar   \n",
       "1     995526  1000094           where is the federal penitentiary in ind   \n",
       "2     660957  1000115              what foods are good if you have gout?   \n",
       "3     837202  1000252           what is the nutritional value of oatmeal   \n",
       "4     130825  1000268                              definition for daring   \n",
       "..       ...      ...                                                ...   \n",
       "995   400803  1016366       is a revocable trust a separate legal entity   \n",
       "996   400803  1016370       is a revocable trust a separate legal entity   \n",
       "997   544319  1016449                          weather in gig harbor, wa   \n",
       "998   617246  1016466  what decisions rules can determine upheld or d...   \n",
       "999  1097069  1016480                      average gas costs in kentucky   \n",
       "\n",
       "                                               passage  relevancy  \\\n",
       "0    Watch portion sizes: ■ Even healthy foods will...        0.0   \n",
       "1    It takes THOUSANDS of Macy's associates to bri...        0.0   \n",
       "2    The good news is that you will discover what g...        0.0   \n",
       "3    Oats make an easy, balanced breakfast. One cup...        0.0   \n",
       "4    Such a requirement would have three desirable ...        0.0   \n",
       "..                                                 ...        ...   \n",
       "995  The income and deductions of the trust are rep...        0.0   \n",
       "996  A grantor trust is a living revocable trust in...        0.0   \n",
       "997  The gig economy is the collection of markets t...        0.0   \n",
       "998  To claim a tax deduction for business mileage,...        0.0   \n",
       "999  Over the next 30 months, however, the average ...        0.0   \n",
       "\n",
       "                                       passage_cleaned  \\\n",
       "0    [watch, portion, size, even, healthy, foods, c...   \n",
       "1    [take, thousands, macy, associate, bring, magi...   \n",
       "2    [good, news, discover, go, action, spur, narro...   \n",
       "3    [oats, make, easy, balance, breakfast, one, cu...   \n",
       "4    [requirement, would, three, desirable, consequ...   \n",
       "..                                                 ...   \n",
       "995  [income, deductions, trust, report, income, ta...   \n",
       "996  [grantor, trust, live, revocable, trust, grant...   \n",
       "997  [gig, economy, collection, market, match, prov...   \n",
       "998  [claim, tax, deduction, business, mileage, sel...   \n",
       "999  [next, months, however, average, cost, clients...   \n",
       "\n",
       "                                         query_cleaned  co_similarity  \\\n",
       "0             [foods, supplement, lower, blood, sugar]       0.812210   \n",
       "1                         [federal, penitentiary, ind]       0.345645   \n",
       "2                                  [foods, good, gout]       0.640991   \n",
       "3                        [nutritional, value, oatmeal]       0.670880   \n",
       "4                                   [definition, dare]       0.386194   \n",
       "..                                                 ...            ...   \n",
       "995        [revocable, trust, separate, legal, entity]       0.667951   \n",
       "996        [revocable, trust, separate, legal, entity]       0.699175   \n",
       "997                         [weather, gig, harbor, wa]       0.383561   \n",
       "998  [decisions, rule, determine, uphold, dismiss, ...       0.534107   \n",
       "999                     [average, gas, cost, kentucky]       0.577678   \n",
       "\n",
       "          bm25  \n",
       "0    28.648708  \n",
       "1     8.308349  \n",
       "2    21.800407  \n",
       "3     9.377437  \n",
       "4     5.959412  \n",
       "..         ...  \n",
       "995  21.828710  \n",
       "996  22.962073  \n",
       "997  11.130238  \n",
       "998  17.704609  \n",
       "999  22.996400  \n",
       "\n",
       "[1000 rows x 9 columns]"
      ]
     },
     "execution_count": 390,
     "metadata": {},
     "output_type": "execute_result"
    }
   ],
   "source": [
    "train_data"
   ]
  },
  {
   "cell_type": "markdown",
   "id": "physical-evolution",
   "metadata": {},
   "source": [
    "## tf-idf"
   ]
  },
  {
   "cell_type": "code",
   "execution_count": 495,
   "id": "aggregate-graph",
   "metadata": {},
   "outputs": [],
   "source": [
    "from sklearn.feature_extraction.text import TfidfVectorizer"
   ]
  },
  {
   "cell_type": "markdown",
   "id": "upset-system",
   "metadata": {},
   "source": [
    "word embedding cosine similarity 보다 정확하지 않을 가능성이 있고, time consuming 한 작업이라, 이 feature는 추가하지 않았다."
   ]
  },
  {
   "cell_type": "markdown",
   "id": "mighty-seminar",
   "metadata": {},
   "source": [
    "## Convert data into metrics form"
   ]
  },
  {
   "cell_type": "code",
   "execution_count": 457,
   "id": "competent-gateway",
   "metadata": {},
   "outputs": [],
   "source": [
    "x_train = x_train.reshape(x_train.shape[0],x_train.shape[1], 1)\n",
    "x_val = x_val.reshape(x_val.shape[0],x_val.shape[1], 1)"
   ]
  },
  {
   "cell_type": "markdown",
   "id": "overall-chinese",
   "metadata": {},
   "source": [
    "## Logisitc Regression"
   ]
  },
  {
   "cell_type": "markdown",
   "id": "vulnerable-telescope",
   "metadata": {},
   "source": [
    "## 현재 문제 \n",
    "1. 딥러닝 과제처럼, 한 data씩 처리 할건지, 아니면 인터넷 예제처럼 모든 value를 metrics 에 넣어서 한번에 처리할건지\n",
    "2. 딥러닝 과제처럼 처리했을 경우, gradient descent function은 무엇인지, 인터넷 예제처럼 했을 때도, 인터넷에 있는 gradient descent function 이 어떻게 derive 됬는지 알기\n",
    "\n",
    "A: 결국엔 둘다 똑같은 방법인데, metrics 로 처리하는 경우는 한번에 모든 데이터를 처리하는 경우이고, 딥러닝 과제는 한 data sampling 을 하나씩 처리하는 방법이다. 결국엔 둘 다 똑같다."
   ]
  },
  {
   "cell_type": "code",
   "execution_count": 454,
   "id": "indonesian-neighborhood",
   "metadata": {},
   "outputs": [
    {
     "data": {
      "text/plain": [
       "array([[28.64870805, 28.64870805],\n",
       "       [ 0.34564488,  8.30834856],\n",
       "       [ 0.64099141, 21.80040673],\n",
       "       ...,\n",
       "       [ 0.38356136, 11.13023754],\n",
       "       [ 0.53410694, 17.70460941],\n",
       "       [ 0.57767753, 22.99640013]])"
      ]
     },
     "execution_count": 454,
     "metadata": {},
     "output_type": "execute_result"
    }
   ],
   "source": [
    "x_train"
   ]
  },
  {
   "cell_type": "code",
   "execution_count": 392,
   "id": "angry-accreditation",
   "metadata": {},
   "outputs": [
    {
     "data": {
      "text/plain": [
       "(1000, 2)"
      ]
     },
     "execution_count": 392,
     "metadata": {},
     "output_type": "execute_result"
    }
   ],
   "source": [
    "x_train.shape"
   ]
  },
  {
   "cell_type": "code",
   "execution_count": 464,
   "id": "royal-perry",
   "metadata": {},
   "outputs": [
    {
     "data": {
      "text/plain": [
       "array([[0.34564488],\n",
       "       [8.30834856]])"
      ]
     },
     "execution_count": 464,
     "metadata": {},
     "output_type": "execute_result"
    }
   ],
   "source": [
    "x = x_train[1]\n",
    "x"
   ]
  },
  {
   "cell_type": "code",
   "execution_count": 445,
   "id": "pressed-renaissance",
   "metadata": {},
   "outputs": [
    {
     "data": {
      "text/plain": [
       "(2, 1)"
      ]
     },
     "execution_count": 445,
     "metadata": {},
     "output_type": "execute_result"
    }
   ],
   "source": [
    "x.shape"
   ]
  },
  {
   "cell_type": "code",
   "execution_count": 465,
   "id": "preliminary-evidence",
   "metadata": {},
   "outputs": [],
   "source": [
    "weights = np.random.rand(1, 2)\n"
   ]
  },
  {
   "cell_type": "code",
   "execution_count": 466,
   "id": "knowing-evans",
   "metadata": {},
   "outputs": [
    {
     "data": {
      "text/plain": [
       "(1, 2)"
      ]
     },
     "execution_count": 466,
     "metadata": {},
     "output_type": "execute_result"
    }
   ],
   "source": [
    "weights.shape"
   ]
  },
  {
   "cell_type": "code",
   "execution_count": 467,
   "id": "billion-nursing",
   "metadata": {},
   "outputs": [
    {
     "data": {
      "text/plain": [
       "array([[0.21645978, 0.05495869]])"
      ]
     },
     "execution_count": 467,
     "metadata": {},
     "output_type": "execute_result"
    }
   ],
   "source": [
    "weights"
   ]
  },
  {
   "cell_type": "code",
   "execution_count": 476,
   "id": "japanese-armenia",
   "metadata": {},
   "outputs": [
    {
     "data": {
      "text/plain": [
       "0.531434157722148"
      ]
     },
     "execution_count": 476,
     "metadata": {},
     "output_type": "execute_result"
    }
   ],
   "source": [
    "np.dot(weights, x)[0][0]"
   ]
  },
  {
   "cell_type": "code",
   "execution_count": 433,
   "id": "sophisticated-retail",
   "metadata": {},
   "outputs": [],
   "source": [
    "weights = weights.reshape(1,2)"
   ]
  },
  {
   "cell_type": "code",
   "execution_count": 435,
   "id": "hearing-tractor",
   "metadata": {},
   "outputs": [
    {
     "data": {
      "text/plain": [
       "(1, 2)"
      ]
     },
     "execution_count": 435,
     "metadata": {},
     "output_type": "execute_result"
    }
   ],
   "source": [
    "weights.shape"
   ]
  },
  {
   "cell_type": "code",
   "execution_count": 440,
   "id": "focal-click",
   "metadata": {},
   "outputs": [
    {
     "data": {
      "text/plain": [
       "array([45.76190532])"
      ]
     },
     "execution_count": 440,
     "metadata": {},
     "output_type": "execute_result"
    }
   ],
   "source": [
    "np.dot(x, weights)"
   ]
  },
  {
   "cell_type": "code",
   "execution_count": null,
   "id": "administrative-middle",
   "metadata": {},
   "outputs": [],
   "source": []
  },
  {
   "cell_type": "code",
   "execution_count": 487,
   "id": "floppy-exclusion",
   "metadata": {},
   "outputs": [
    {
     "data": {
      "text/plain": [
       "(1, 2)"
      ]
     },
     "execution_count": 487,
     "metadata": {},
     "output_type": "execute_result"
    }
   ],
   "source": [
    "np.zeros((1, 2)).shape"
   ]
  },
  {
   "cell_type": "code",
   "execution_count": 490,
   "id": "racial-czech",
   "metadata": {},
   "outputs": [],
   "source": [
    "class LogisticRegression:\n",
    "\n",
    "    def __init__(self, learning_rate=0.001, epoch=500):\n",
    "        self.lr = learning_rate\n",
    "        self.epoch = epoch\n",
    "        self.weights = None\n",
    "        self.bias = None\n",
    "        self.loss_train = None\n",
    "        self.loss_val = None\n",
    "\n",
    "        self.acc_train = None\n",
    "        self.train_correct = None\n",
    "        self.val_correct = None\n",
    "        \n",
    "        self.losslist_train = []\n",
    "        self.losslist_val = []\n",
    "        self.acclist_train = []\n",
    "        self.acclist_val = []\n",
    "    \n",
    "\n",
    "        \n",
    "    def fit(self, trainxs, trainys, trainxs_val, trainys_val):\n",
    "        n_samples, n_features, _ = trainxs.shape\n",
    "        n_samples_val = trainxs_val.shape[0]\n",
    "\n",
    "        # init parameters\n",
    "#         self.weights = np.zeros((n_features, 1))\n",
    "        self.weights = np.zeros((1, n_features))\n",
    "        self.bias = 0\n",
    "        \n",
    "        \n",
    "        \n",
    "        # gradient descent\n",
    "        for _ in range(self.epoch):\n",
    "            idx = self.shuffleIdx(trainxs.shape[0])\n",
    "            X = trainxs[idx]\n",
    "            Y = trainys[idx]\n",
    "            \n",
    "            \n",
    "            self.loss_train = 0\n",
    "            self.loss_val = 0\n",
    "\n",
    "            self.acc_train = 0\n",
    "            self.train_correct = 0\n",
    "            self.val_correct = 0\n",
    "            total_weight_gradient1 = 0\n",
    "            total_weight_gradient2 = 0\n",
    "            \n",
    "            total_bias_gradient = 0\n",
    "            \n",
    "            for i in range(trainxs.shape[0]):\n",
    "                x = X[i]\n",
    "                y = Y[i]\n",
    "                # approximate output variable (y) with linear combination of weights and x, plus bias\n",
    "                linear_equation = np.dot(self.weights, x)[0][0] + self.bias\n",
    "                # apply sigmoid function\n",
    "                prediction = self.sigmoid(linear_equation)\n",
    "                if prediction >= 0.5:\n",
    "                    yprime = 1\n",
    "                else:\n",
    "                    yprime = 0\n",
    "\n",
    "                if yprime == y:\n",
    "                    self.train_correct += 1\n",
    "\n",
    "                self.loss_train += self.loss_function(y, prediction)\n",
    "\n",
    "                # compute gradients\n",
    "                dw1 = (prediction - y) * x[0]  #derivative w.r.t weight1\n",
    "                dw2 = (prediction - y) * x[1] #derivative w.r.t weight2\n",
    "                db = prediction - y  #derivative w.r.t bias\n",
    "                    \n",
    "                    \n",
    "                total_weight_gradient1 += dw1\n",
    "                total_weight_gradient2 += dw2\n",
    "                total_bias_gradient += db\n",
    "               \n",
    "                 # COMPUTING LOSS AND ACCURACY OF VALIDATION SET\n",
    "                if (i < trainxs_val.shape[0]):\n",
    "                    val_x = trainxs_val[i]\n",
    "                    val_y = trainys_val[i]\n",
    "                    linear_equation = np.dot(self.weights, val_x)[0][0] + self.bias\n",
    "                    prediction = self.sigmoid(linear_equation)\n",
    "\n",
    "                    if prediction  >= 0.5:\n",
    "                        yprime = 1\n",
    "                    else:\n",
    "                        yprime = 0\n",
    "\n",
    "                    if yprime == val_y:\n",
    "                        self.val_correct += 1\n",
    "\n",
    "                    self.loss_val += ((val_y - prediction)**2)/2\n",
    "\n",
    "                    \n",
    "            # COMPUTING THE AVERAGE OF GRADIENTS FOR EACH EPOCH SINCE WE ARE DOING        \n",
    "            # FULL-BATCH GRADIENT DESCEND AND UPDATING THE PARAMETERS AFTER EACH EPOCH\n",
    "            total_weight_gradient1 = total_weight_gradient1 / n_samples\n",
    "            total_weight_gradient2 = total_weight_gradient2 / n_samples\n",
    "            total_bias_gradient = total_bias_gradient / n_samples\n",
    "\n",
    "            # update parameters\n",
    "            self.weights[0][0] -= self.lr * total_weight_gradient1\n",
    "            self.weights[0][1] -= self.lr * total_weight_gradient2\n",
    "            self.bias -= self.lr * total_bias_gradient\n",
    "            print(\"total_weight_gradient1:\", total_weight_gradient1)\n",
    "            print(\"total_weight_gradient2:\", total_weight_gradient2)\n",
    "            \n",
    "            self.loss_train = self.loss_train/n_samples\n",
    "            self.losslist_train.append(self.loss_train)\n",
    "\n",
    "            self.loss_val = self.loss_val/(n_samples_val)\n",
    "            self.losslist_val.append(self.loss_val)\n",
    "\n",
    "            self.train_correct = self.train_correct/n_samples\n",
    "            self.acclist_train.append(self.train_correct)\n",
    "\n",
    "            self.val_correct = self.val_correct/(n_samples_val)\n",
    "            self.acclist_val.append(self.val_correct)\n",
    "\n",
    "            \n",
    "    def shuffleIdx(self, n):\n",
    "        rng = default_rng()\n",
    "        rand_idx = rng.permutation(n)\n",
    "        return rand_idx\n",
    "\n",
    "    def predict(self, X):\n",
    "        linear_equation = np.dot(X, self.weights) + self.bias\n",
    "        y_predicted = self.sigmoid(linear_equation)\n",
    "        y_predicted_cls = [1 if i > 0.5 else 0 for i in y_predicted]\n",
    "        return np.array(y_predicted_cls)\n",
    "\n",
    "    def sigmoid(self, x):\n",
    "        return 1 / (1 + np.exp(-x))\n",
    "    \n",
    "    def loss_function(self, y, prediction):\n",
    "        return -log((1 - prediction)**(1 - y)) - log(prediction**y)\n",
    "    "
   ]
  },
  {
   "cell_type": "code",
   "execution_count": 491,
   "id": "dressed-aquatic",
   "metadata": {},
   "outputs": [
    {
     "name": "stdout",
     "output_type": "stream",
     "text": [
      "total_weight_gradient1: [0.30174978]\n",
      "total_weight_gradient2: [7.99752143]\n"
     ]
    }
   ],
   "source": [
    "lr = LogisticRegression(learning_rate=0.0001, epoch=1)\n",
    "lr.fit(x_train, y_train, x_val, y_val)\n",
    "# predictions = regressor.predict(xtest)\n"
   ]
  },
  {
   "cell_type": "code",
   "execution_count": 492,
   "id": "super-homeless",
   "metadata": {},
   "outputs": [
    {
     "data": {
      "text/plain": [
       "[0.6931471805599322]"
      ]
     },
     "execution_count": 492,
     "metadata": {},
     "output_type": "execute_result"
    }
   ],
   "source": [
    "lr.losslist_train"
   ]
  },
  {
   "cell_type": "code",
   "execution_count": 493,
   "id": "gross-interference",
   "metadata": {},
   "outputs": [
    {
     "data": {
      "text/plain": [
       "-5e-05"
      ]
     },
     "execution_count": 493,
     "metadata": {},
     "output_type": "execute_result"
    }
   ],
   "source": [
    "lr.bias"
   ]
  },
  {
   "cell_type": "code",
   "execution_count": 494,
   "id": "anticipated-pathology",
   "metadata": {},
   "outputs": [
    {
     "data": {
      "text/plain": [
       "-3.017497769225429e-05"
      ]
     },
     "execution_count": 494,
     "metadata": {},
     "output_type": "execute_result"
    }
   ],
   "source": [
    "lr.weights[0][0]"
   ]
  },
  {
   "cell_type": "markdown",
   "id": "arabic-orlando",
   "metadata": {},
   "source": [
    "# Subtask 3\n"
   ]
  },
  {
   "cell_type": "code",
   "execution_count": 167,
   "id": "handed-strength",
   "metadata": {},
   "outputs": [],
   "source": [
    "import pandas as pd\n",
    "import numpy as np\n",
    "from xgboost import DMatrix,train\n",
    "\n"
   ]
  },
  {
   "cell_type": "markdown",
   "id": "sound-pottery",
   "metadata": {},
   "source": [
    "## Preprocessing the data into the form which XGboost can take"
   ]
  },
  {
   "cell_type": "code",
   "execution_count": null,
   "id": "adjacent-papua",
   "metadata": {},
   "outputs": [],
   "source": [
    "num_of_features = 2"
   ]
  },
  {
   "cell_type": "markdown",
   "id": "chubby-worcester",
   "metadata": {},
   "source": [
    "## train data"
   ]
  },
  {
   "cell_type": "code",
   "execution_count": 496,
   "id": "demanding-canyon",
   "metadata": {},
   "outputs": [
    {
     "data": {
      "text/html": [
       "<div>\n",
       "<style scoped>\n",
       "    .dataframe tbody tr th:only-of-type {\n",
       "        vertical-align: middle;\n",
       "    }\n",
       "\n",
       "    .dataframe tbody tr th {\n",
       "        vertical-align: top;\n",
       "    }\n",
       "\n",
       "    .dataframe thead th {\n",
       "        text-align: right;\n",
       "    }\n",
       "</style>\n",
       "<table border=\"1\" class=\"dataframe\">\n",
       "  <thead>\n",
       "    <tr style=\"text-align: right;\">\n",
       "      <th></th>\n",
       "      <th>qid</th>\n",
       "      <th>pid</th>\n",
       "      <th>queries</th>\n",
       "      <th>passage</th>\n",
       "      <th>relevancy</th>\n",
       "      <th>passage_cleaned</th>\n",
       "      <th>query_cleaned</th>\n",
       "      <th>co_similarity</th>\n",
       "      <th>bm25</th>\n",
       "    </tr>\n",
       "  </thead>\n",
       "  <tbody>\n",
       "    <tr>\n",
       "      <th>376</th>\n",
       "      <td>1079831</td>\n",
       "      <td>1006123</td>\n",
       "      <td>world trade organization definition</td>\n",
       "      <td>Definition of free trade. : trade based on the...</td>\n",
       "      <td>0.0</td>\n",
       "      <td>[definition, free, trade, trade, base, unrestr...</td>\n",
       "      <td>[world, trade, organization, definition]</td>\n",
       "      <td>0.652645</td>\n",
       "      <td>20.733095</td>\n",
       "    </tr>\n",
       "    <tr>\n",
       "      <th>104</th>\n",
       "      <td>1078920</td>\n",
       "      <td>100198</td>\n",
       "      <td>women benefits from taking dim</td>\n",
       "      <td>Effects of Medications during Pregnancy. We kn...</td>\n",
       "      <td>0.0</td>\n",
       "      <td>[effect, medications, pregnancy, know, little,...</td>\n",
       "      <td>[women, benefit, take, dim]</td>\n",
       "      <td>0.478454</td>\n",
       "      <td>16.041879</td>\n",
       "    </tr>\n",
       "    <tr>\n",
       "      <th>676</th>\n",
       "      <td>1078752</td>\n",
       "      <td>1011079</td>\n",
       "      <td>withdrawal symptoms of amitriptyline</td>\n",
       "      <td>Amitriptyline for the treatment of depression....</td>\n",
       "      <td>0.0</td>\n",
       "      <td>[amitriptyline, treatment, depression, amitrip...</td>\n",
       "      <td>[withdrawal, symptoms, amitriptyline]</td>\n",
       "      <td>0.693089</td>\n",
       "      <td>14.635104</td>\n",
       "    </tr>\n",
       "    <tr>\n",
       "      <th>74</th>\n",
       "      <td>1101861</td>\n",
       "      <td>1001625</td>\n",
       "      <td>windstream troubleshooting phone number</td>\n",
       "      <td>Fisher Price Smart Cycle Manual Troubleshootin...</td>\n",
       "      <td>0.0</td>\n",
       "      <td>[fisher, price, smart, cycle, manual, troubles...</td>\n",
       "      <td>[windstream, troubleshoot, phone, number]</td>\n",
       "      <td>0.604961</td>\n",
       "      <td>11.993841</td>\n",
       "    </tr>\n",
       "    <tr>\n",
       "      <th>865</th>\n",
       "      <td>1068924</td>\n",
       "      <td>1014493</td>\n",
       "      <td>why hemorrhagic disease tests due to vitamin k...</td>\n",
       "      <td>Vitamin B12 is also said to help some sleep di...</td>\n",
       "      <td>0.0</td>\n",
       "      <td>[vitamin, b12, also, say, help, sleep, disorde...</td>\n",
       "      <td>[hemorrhagic, disease, test, due, vitamin, k, ...</td>\n",
       "      <td>0.785148</td>\n",
       "      <td>28.156938</td>\n",
       "    </tr>\n",
       "    <tr>\n",
       "      <th>...</th>\n",
       "      <td>...</td>\n",
       "      <td>...</td>\n",
       "      <td>...</td>\n",
       "      <td>...</td>\n",
       "      <td>...</td>\n",
       "      <td>...</td>\n",
       "      <td>...</td>\n",
       "      <td>...</td>\n",
       "      <td>...</td>\n",
       "    </tr>\n",
       "    <tr>\n",
       "      <th>720</th>\n",
       "      <td>15063</td>\n",
       "      <td>1011490</td>\n",
       "      <td>alabama central credit union routing number</td>\n",
       "      <td>Generations Federal Credit Union Routing Numbe...</td>\n",
       "      <td>0.0</td>\n",
       "      <td>[generations, federal, credit, union, rout, nu...</td>\n",
       "      <td>[alabama, central, credit, union, rout, number]</td>\n",
       "      <td>0.768005</td>\n",
       "      <td>41.377591</td>\n",
       "    </tr>\n",
       "    <tr>\n",
       "      <th>753</th>\n",
       "      <td>14151</td>\n",
       "      <td>1012028</td>\n",
       "      <td>age requirements for name change</td>\n",
       "      <td>For example, someone's age might be an indepen...</td>\n",
       "      <td>0.0</td>\n",
       "      <td>[example, someone, age, might, independent, va...</td>\n",
       "      <td>[age, requirements, name, change]</td>\n",
       "      <td>0.554912</td>\n",
       "      <td>18.958650</td>\n",
       "    </tr>\n",
       "    <tr>\n",
       "      <th>519</th>\n",
       "      <td>1086532</td>\n",
       "      <td>1008690</td>\n",
       "      <td>advanced weighing technology definition</td>\n",
       "      <td>La Crosse Technology brings you the most affor...</td>\n",
       "      <td>0.0</td>\n",
       "      <td>[la, crosse, technology, bring, affordable, re...</td>\n",
       "      <td>[advance, weigh, technology, definition]</td>\n",
       "      <td>0.527106</td>\n",
       "      <td>15.648874</td>\n",
       "    </tr>\n",
       "    <tr>\n",
       "      <th>731</th>\n",
       "      <td>8854</td>\n",
       "      <td>1011732</td>\n",
       "      <td>________ disparity refers to the slightly diff...</td>\n",
       "      <td>Salaries for women in residency are lower than...</td>\n",
       "      <td>0.0</td>\n",
       "      <td>[salaries, women, residency, lower, men, respe...</td>\n",
       "      <td>[________, disparity, refer, slightly, differe...</td>\n",
       "      <td>0.508428</td>\n",
       "      <td>10.672300</td>\n",
       "    </tr>\n",
       "    <tr>\n",
       "      <th>98</th>\n",
       "      <td>2</td>\n",
       "      <td>1001876</td>\n",
       "      <td>Androgen receptor define</td>\n",
       "      <td>Like all steroid hormones, androgens produce e...</td>\n",
       "      <td>0.0</td>\n",
       "      <td>[like, steroid, hormones, androgens, produce, ...</td>\n",
       "      <td>[androgen, receptor, define]</td>\n",
       "      <td>0.782608</td>\n",
       "      <td>13.887665</td>\n",
       "    </tr>\n",
       "  </tbody>\n",
       "</table>\n",
       "<p>1000 rows × 9 columns</p>\n",
       "</div>"
      ],
      "text/plain": [
       "         qid      pid                                            queries  \\\n",
       "376  1079831  1006123                world trade organization definition   \n",
       "104  1078920   100198                     women benefits from taking dim   \n",
       "676  1078752  1011079               withdrawal symptoms of amitriptyline   \n",
       "74   1101861  1001625            windstream troubleshooting phone number   \n",
       "865  1068924  1014493  why hemorrhagic disease tests due to vitamin k...   \n",
       "..       ...      ...                                                ...   \n",
       "720    15063  1011490        alabama central credit union routing number   \n",
       "753    14151  1012028                   age requirements for name change   \n",
       "519  1086532  1008690            advanced weighing technology definition   \n",
       "731     8854  1011732  ________ disparity refers to the slightly diff...   \n",
       "98         2  1001876                           Androgen receptor define   \n",
       "\n",
       "                                               passage  relevancy  \\\n",
       "376  Definition of free trade. : trade based on the...        0.0   \n",
       "104  Effects of Medications during Pregnancy. We kn...        0.0   \n",
       "676  Amitriptyline for the treatment of depression....        0.0   \n",
       "74   Fisher Price Smart Cycle Manual Troubleshootin...        0.0   \n",
       "865  Vitamin B12 is also said to help some sleep di...        0.0   \n",
       "..                                                 ...        ...   \n",
       "720  Generations Federal Credit Union Routing Numbe...        0.0   \n",
       "753  For example, someone's age might be an indepen...        0.0   \n",
       "519  La Crosse Technology brings you the most affor...        0.0   \n",
       "731  Salaries for women in residency are lower than...        0.0   \n",
       "98   Like all steroid hormones, androgens produce e...        0.0   \n",
       "\n",
       "                                       passage_cleaned  \\\n",
       "376  [definition, free, trade, trade, base, unrestr...   \n",
       "104  [effect, medications, pregnancy, know, little,...   \n",
       "676  [amitriptyline, treatment, depression, amitrip...   \n",
       "74   [fisher, price, smart, cycle, manual, troubles...   \n",
       "865  [vitamin, b12, also, say, help, sleep, disorde...   \n",
       "..                                                 ...   \n",
       "720  [generations, federal, credit, union, rout, nu...   \n",
       "753  [example, someone, age, might, independent, va...   \n",
       "519  [la, crosse, technology, bring, affordable, re...   \n",
       "731  [salaries, women, residency, lower, men, respe...   \n",
       "98   [like, steroid, hormones, androgens, produce, ...   \n",
       "\n",
       "                                         query_cleaned  co_similarity  \\\n",
       "376           [world, trade, organization, definition]       0.652645   \n",
       "104                        [women, benefit, take, dim]       0.478454   \n",
       "676              [withdrawal, symptoms, amitriptyline]       0.693089   \n",
       "74           [windstream, troubleshoot, phone, number]       0.604961   \n",
       "865  [hemorrhagic, disease, test, due, vitamin, k, ...       0.785148   \n",
       "..                                                 ...            ...   \n",
       "720    [alabama, central, credit, union, rout, number]       0.768005   \n",
       "753                  [age, requirements, name, change]       0.554912   \n",
       "519           [advance, weigh, technology, definition]       0.527106   \n",
       "731  [________, disparity, refer, slightly, differe...       0.508428   \n",
       "98                        [androgen, receptor, define]       0.782608   \n",
       "\n",
       "          bm25  \n",
       "376  20.733095  \n",
       "104  16.041879  \n",
       "676  14.635104  \n",
       "74   11.993841  \n",
       "865  28.156938  \n",
       "..         ...  \n",
       "720  41.377591  \n",
       "753  18.958650  \n",
       "519  15.648874  \n",
       "731  10.672300  \n",
       "98   13.887665  \n",
       "\n",
       "[1000 rows x 9 columns]"
      ]
     },
     "execution_count": 496,
     "metadata": {},
     "output_type": "execute_result"
    }
   ],
   "source": [
    "train_data = train_data.sort_values(by=['queries'], ascending=False)\n",
    "train_data\n"
   ]
  },
  {
   "cell_type": "code",
   "execution_count": 540,
   "id": "dress-education",
   "metadata": {},
   "outputs": [],
   "source": [
    "lambdaMart_x_train = np.zeros((train_data.shape[0], num_of_features))"
   ]
  },
  {
   "cell_type": "code",
   "execution_count": 541,
   "id": "cloudy-hawaii",
   "metadata": {},
   "outputs": [
    {
     "data": {
      "text/plain": [
       "array([[0., 0.],\n",
       "       [0., 0.],\n",
       "       [0., 0.],\n",
       "       ...,\n",
       "       [0., 0.],\n",
       "       [0., 0.],\n",
       "       [0., 0.]])"
      ]
     },
     "execution_count": 541,
     "metadata": {},
     "output_type": "execute_result"
    }
   ],
   "source": [
    "lambdaMart_x_train"
   ]
  },
  {
   "cell_type": "code",
   "execution_count": 542,
   "id": "foreign-discipline",
   "metadata": {},
   "outputs": [
    {
     "data": {
      "text/plain": [
       "array([[ 0.65264477, 20.73309484],\n",
       "       [ 0.47845439, 16.04187895],\n",
       "       [ 0.6930888 , 14.63510436],\n",
       "       ...,\n",
       "       [ 0.52710561, 15.64887427],\n",
       "       [ 0.50842772, 10.67230032],\n",
       "       [ 0.78260784, 13.88766498]])"
      ]
     },
     "execution_count": 542,
     "metadata": {},
     "output_type": "execute_result"
    }
   ],
   "source": [
    "lambdaMart_x_train = train_data[['co_similarity', 'bm25']].values\n",
    "lambdaMart_x_train"
   ]
  },
  {
   "cell_type": "code",
   "execution_count": 543,
   "id": "spectacular-glucose",
   "metadata": {},
   "outputs": [],
   "source": [
    "lambdaMart_y_train = train_data.relevancy.values"
   ]
  },
  {
   "cell_type": "code",
   "execution_count": 544,
   "id": "handled-somalia",
   "metadata": {},
   "outputs": [],
   "source": [
    "query_count_dict_train = train_data['queries'].value_counts().to_dict()"
   ]
  },
  {
   "cell_type": "code",
   "execution_count": 545,
   "id": "meaning-corpus",
   "metadata": {},
   "outputs": [
    {
     "data": {
      "text/plain": [
       "[]"
      ]
     },
     "execution_count": 545,
     "metadata": {},
     "output_type": "execute_result"
    }
   ],
   "source": [
    "dgroup_train = []\n",
    "dgroup_train"
   ]
  },
  {
   "cell_type": "code",
   "execution_count": 546,
   "id": "finnish-nitrogen",
   "metadata": {},
   "outputs": [],
   "source": [
    "for idx, row in train_data.iterrows():\n",
    "    query = row['queries']\n",
    "    group_entry_count = query_count_dict_train[query]\n",
    "    dgroup_train.append(group_entry_count)"
   ]
  },
  {
   "cell_type": "code",
   "execution_count": 547,
   "id": "pacific-pipeline",
   "metadata": {},
   "outputs": [],
   "source": [
    "dgroup_train = np.array(dgroup_train)"
   ]
  },
  {
   "cell_type": "code",
   "execution_count": 548,
   "id": "fitted-skiing",
   "metadata": {},
   "outputs": [
    {
     "data": {
      "text/plain": [
       "array([1, 1, 1, 1, 1, 1, 1, 1, 1, 1, 1, 1, 2, 2, 1, 1, 1, 1, 1, 1, 1, 2,\n",
       "       2, 1, 1, 1, 1, 3, 3, 3, 1, 1, 1, 1, 2, 2, 1, 1, 1, 1, 1, 1, 2, 2,\n",
       "       1, 1, 1, 1, 1, 2, 2, 1, 1, 2, 2, 1, 1, 1, 1, 1, 1, 2, 2, 1, 2, 2,\n",
       "       1, 2, 2, 1, 2, 2, 1, 1, 1, 1, 1, 1, 1, 1, 2, 2, 1, 1, 1, 1, 1, 1,\n",
       "       2, 2, 1, 1, 3, 3, 3, 1, 1, 1, 1, 2, 2, 1, 1, 3, 3, 3, 1, 1, 1, 1,\n",
       "       1, 1, 1, 1, 2, 2, 2, 2, 1, 1, 1, 1, 1, 1, 1, 1, 1, 2, 2, 2, 2, 1,\n",
       "       1, 1, 1, 1, 1, 1, 1, 1, 1, 1, 1, 2, 2, 1, 1, 1, 1, 2, 2, 1, 1, 1,\n",
       "       1, 1, 1, 1, 1, 1, 1, 1, 1, 1, 1, 2, 2, 1, 1, 1, 2, 2, 1, 1, 1, 1,\n",
       "       1, 1, 1, 1, 1, 1, 2, 2, 1, 1, 3, 3, 3, 1, 1, 1, 1, 1, 1, 1, 1, 1,\n",
       "       1, 1, 2, 2, 1, 1, 2, 2, 2, 2, 1, 2, 2, 2, 2, 1, 1, 1, 1, 1, 1, 2,\n",
       "       2, 1, 1, 1, 1, 1, 1, 1, 1, 1, 1, 2, 2, 1, 1, 1, 1, 1, 1, 1, 1, 1,\n",
       "       1, 1, 3, 3, 3, 1, 1, 1, 1, 1, 1, 1, 1, 1, 1, 3, 3, 3, 1, 1, 1, 1,\n",
       "       1, 1, 1, 3, 3, 3, 1, 1, 1, 1, 1, 1, 2, 2, 1, 3, 3, 3, 1, 1, 1, 1,\n",
       "       1, 1, 1, 1, 1, 1, 1, 2, 2, 1, 1, 1, 2, 2, 1, 1, 1, 1, 1, 2, 2, 1,\n",
       "       2, 2, 1, 1, 1, 1, 2, 2, 2, 2, 3, 3, 3, 1, 1, 1, 1, 1, 1, 1, 1, 1,\n",
       "       2, 2, 1, 1, 1, 1, 1, 1, 1, 1, 1, 2, 2, 2, 2, 1, 1, 1, 1, 1, 1, 2,\n",
       "       2, 1, 1, 1, 1, 1, 1, 1, 1, 1, 2, 2, 1, 1, 1, 2, 2, 1, 1, 1, 2, 2,\n",
       "       2, 2, 2, 2, 1, 2, 2, 1, 2, 2, 1, 1, 1, 1, 1, 1, 1, 1, 1, 4, 4, 4,\n",
       "       4, 1, 1, 5, 5, 5, 5, 5, 1, 1, 1, 1, 1, 2, 2, 1, 1, 1, 1, 1, 1, 1,\n",
       "       1, 1, 1, 1, 1, 1, 1, 1, 1, 1, 1, 1, 2, 2, 1, 2, 2, 1, 1, 1, 2, 2,\n",
       "       1, 1, 1, 1, 1, 1, 1, 1, 1, 1, 1, 1, 1, 3, 3, 3, 1, 1, 1, 1, 1, 5,\n",
       "       5, 5, 5, 5, 1, 1, 1, 1, 1, 1, 1, 1, 1, 1, 1, 1, 1, 1, 2, 2, 1, 4,\n",
       "       4, 4, 4, 1, 3, 3, 3, 1, 1, 1, 1, 1, 2, 2, 1, 1, 1, 1, 2, 2, 1, 2,\n",
       "       2, 1, 1, 1, 1, 1, 1, 1, 2, 2, 1, 1, 1, 1, 1, 1, 1, 1, 1, 1, 2, 2,\n",
       "       1, 1, 1, 1, 1, 1, 1, 1, 2, 2, 1, 1, 1, 1, 1, 2, 2, 1, 1, 1, 1, 1,\n",
       "       1, 1, 1, 1, 1, 1, 2, 2, 1, 1, 1, 1, 1, 1, 2, 2, 2, 2, 1, 2, 2, 1,\n",
       "       1, 1, 1, 1, 1, 1, 1, 1, 1, 1, 1, 1, 3, 3, 3, 4, 4, 4, 4, 1, 2, 2,\n",
       "       1, 1, 1, 1, 1, 1, 1, 1, 1, 1, 1, 2, 2, 1, 2, 2, 1, 1, 1, 1, 1, 1,\n",
       "       1, 1, 1, 1, 1, 1, 1, 1, 1, 1, 1, 1, 1, 1, 1, 2, 2, 1, 1, 1, 1, 1,\n",
       "       1, 1, 2, 2, 2, 2, 2, 2, 1, 2, 2, 1, 1, 2, 2, 1, 1, 1, 1, 1, 1, 5,\n",
       "       5, 5, 5, 5, 1, 1, 1, 1, 1, 2, 2, 2, 2, 2, 2, 1, 1, 1, 1, 1, 2, 2,\n",
       "       1, 1, 2, 2, 1, 1, 1, 1, 1, 1, 1, 1, 1, 1, 1, 1, 1, 1, 2, 2, 2, 2,\n",
       "       1, 2, 2, 1, 1, 1, 1, 1, 3, 3, 3, 1, 1, 1, 1, 1, 1, 1, 1, 1, 5, 5,\n",
       "       5, 5, 5, 2, 2, 1, 1, 1, 1, 2, 2, 2, 2, 2, 2, 1, 1, 1, 2, 2, 1, 1,\n",
       "       2, 2, 1, 2, 2, 2, 2, 1, 1, 2, 2, 2, 2, 1, 1, 1, 1, 1, 2, 2, 1, 1,\n",
       "       1, 1, 2, 2, 1, 1, 1, 3, 3, 3, 1, 1, 1, 1, 1, 1, 2, 2, 1, 2, 2, 1,\n",
       "       1, 1, 1, 2, 2, 1, 2, 2, 1, 1, 1, 1, 2, 2, 2, 2, 1, 3, 3, 3, 3, 3,\n",
       "       3, 1, 1, 1, 1, 2, 2, 1, 1, 1, 1, 1, 4, 4, 4, 4, 1, 1, 1, 1, 1, 1,\n",
       "       1, 1, 2, 2, 3, 3, 3, 1, 2, 2, 1, 1, 1, 1, 1, 1, 2, 2, 1, 1, 2, 2,\n",
       "       1, 1, 1, 1, 1, 1, 2, 2, 1, 1, 2, 2, 1, 1, 1, 1, 1, 1, 1, 1, 1, 1,\n",
       "       1, 1, 1, 1, 1, 1, 1, 1, 1, 1, 1, 1, 1, 1, 1, 1, 1, 1, 1, 1, 1, 1,\n",
       "       2, 2, 1, 1, 1, 1, 1, 2, 2, 1, 1, 1, 1, 2, 2, 1, 2, 2, 1, 1, 1, 1,\n",
       "       1, 1, 1, 1, 1, 1, 1, 1, 1, 1, 1, 1, 1, 1, 2, 2, 1, 1, 2, 2, 1, 2,\n",
       "       2, 1, 2, 2, 1, 1, 1, 1, 1, 1, 1, 1, 1, 2, 2, 3, 3, 3, 1, 1, 1, 1,\n",
       "       1, 1, 2, 2, 1, 1, 1, 1, 3, 3, 3, 1, 1, 1, 3, 3, 3, 1, 2, 2, 1, 1,\n",
       "       1, 1, 1, 1, 1, 1, 1, 1, 1, 1])"
      ]
     },
     "execution_count": 548,
     "metadata": {},
     "output_type": "execute_result"
    }
   ],
   "source": [
    "dgroup_train"
   ]
  },
  {
   "cell_type": "markdown",
   "id": "graphic-biotechnology",
   "metadata": {},
   "source": [
    "## validation data"
   ]
  },
  {
   "cell_type": "code",
   "execution_count": 503,
   "id": "occasional-signature",
   "metadata": {},
   "outputs": [
    {
     "data": {
      "text/html": [
       "<div>\n",
       "<style scoped>\n",
       "    .dataframe tbody tr th:only-of-type {\n",
       "        vertical-align: middle;\n",
       "    }\n",
       "\n",
       "    .dataframe tbody tr th {\n",
       "        vertical-align: top;\n",
       "    }\n",
       "\n",
       "    .dataframe thead th {\n",
       "        text-align: right;\n",
       "    }\n",
       "</style>\n",
       "<table border=\"1\" class=\"dataframe\">\n",
       "  <thead>\n",
       "    <tr style=\"text-align: right;\">\n",
       "      <th></th>\n",
       "      <th>qid</th>\n",
       "      <th>pid</th>\n",
       "      <th>queries</th>\n",
       "      <th>passage</th>\n",
       "      <th>relevancy</th>\n",
       "      <th>passage_cleaned</th>\n",
       "      <th>query_cleaned</th>\n",
       "      <th>co_similarity</th>\n",
       "      <th>bm25</th>\n",
       "    </tr>\n",
       "  </thead>\n",
       "  <tbody>\n",
       "    <tr>\n",
       "      <th>719</th>\n",
       "      <td>1101806</td>\n",
       "      <td>1046669</td>\n",
       "      <td>wow essential oil</td>\n",
       "      <td>Use approximately six drops of essential oil f...</td>\n",
       "      <td>0.0</td>\n",
       "      <td>[use, approximately, six, drop, essential, oil...</td>\n",
       "      <td>[wow, essential, oil]</td>\n",
       "      <td>0.644733</td>\n",
       "      <td>24.310915</td>\n",
       "    </tr>\n",
       "    <tr>\n",
       "      <th>774</th>\n",
       "      <td>1078446</td>\n",
       "      <td>1050857</td>\n",
       "      <td>wine cabinets definition</td>\n",
       "      <td>Terroir definition, the environmental conditio...</td>\n",
       "      <td>0.0</td>\n",
       "      <td>[terroir, definition, environmental, condition...</td>\n",
       "      <td>[wine, cabinets, definition]</td>\n",
       "      <td>0.550765</td>\n",
       "      <td>17.995400</td>\n",
       "    </tr>\n",
       "    <tr>\n",
       "      <th>567</th>\n",
       "      <td>1101868</td>\n",
       "      <td>1037249</td>\n",
       "      <td>willie weeks net worth</td>\n",
       "      <td>Kirk Frost net worth: $600 Thousand. Kirk Fros...</td>\n",
       "      <td>0.0</td>\n",
       "      <td>[kirk, frost, net, worth, thousand, kirk, fros...</td>\n",
       "      <td>[willie, weeks, net, worth]</td>\n",
       "      <td>0.661165</td>\n",
       "      <td>25.569472</td>\n",
       "    </tr>\n",
       "    <tr>\n",
       "      <th>907</th>\n",
       "      <td>1101868</td>\n",
       "      <td>1059211</td>\n",
       "      <td>willie weeks net worth</td>\n",
       "      <td>Updated Constance McCashin Net Worth in 2017. ...</td>\n",
       "      <td>0.0</td>\n",
       "      <td>[update, constance, mccashin, net, worth, wiki...</td>\n",
       "      <td>[willie, weeks, net, worth]</td>\n",
       "      <td>0.684801</td>\n",
       "      <td>25.771400</td>\n",
       "    </tr>\n",
       "    <tr>\n",
       "      <th>915</th>\n",
       "      <td>1101868</td>\n",
       "      <td>1059337</td>\n",
       "      <td>willie weeks net worth</td>\n",
       "      <td>The Leonardo DiCaprio net worth total of $217 ...</td>\n",
       "      <td>0.0</td>\n",
       "      <td>[leonardo, dicaprio, net, worth, total, millio...</td>\n",
       "      <td>[willie, weeks, net, worth]</td>\n",
       "      <td>0.812987</td>\n",
       "      <td>27.338163</td>\n",
       "    </tr>\n",
       "    <tr>\n",
       "      <th>...</th>\n",
       "      <td>...</td>\n",
       "      <td>...</td>\n",
       "      <td>...</td>\n",
       "      <td>...</td>\n",
       "      <td>...</td>\n",
       "      <td>...</td>\n",
       "      <td>...</td>\n",
       "      <td>...</td>\n",
       "      <td>...</td>\n",
       "    </tr>\n",
       "    <tr>\n",
       "      <th>996</th>\n",
       "      <td>14947</td>\n",
       "      <td>1063503</td>\n",
       "      <td>airport code mont tremblant</td>\n",
       "      <td>Cities &gt; Norway &gt; Airports near Ølen. The clos...</td>\n",
       "      <td>0.0</td>\n",
       "      <td>[cities, norway, airports, near, ølen, closest...</td>\n",
       "      <td>[airport, code, mont, tremblant]</td>\n",
       "      <td>0.559477</td>\n",
       "      <td>20.494116</td>\n",
       "    </tr>\n",
       "    <tr>\n",
       "      <th>627</th>\n",
       "      <td>10264</td>\n",
       "      <td>1040388</td>\n",
       "      <td>access parallels cost</td>\n",
       "      <td>Some are available every day of the year. At t...</td>\n",
       "      <td>0.0</td>\n",
       "      <td>[available, every, day, year, beach, surf, wat...</td>\n",
       "      <td>[access, parallel, cost]</td>\n",
       "      <td>0.341840</td>\n",
       "      <td>8.133568</td>\n",
       "    </tr>\n",
       "    <tr>\n",
       "      <th>968</th>\n",
       "      <td>1099488</td>\n",
       "      <td>1062356</td>\n",
       "      <td>a scar meaning</td>\n",
       "      <td>Last Week's Popular Questions for Celebrities ...</td>\n",
       "      <td>0.0</td>\n",
       "      <td>[last, week, popular, question, celebrities, a...</td>\n",
       "      <td>[scar, mean]</td>\n",
       "      <td>0.646320</td>\n",
       "      <td>11.629403</td>\n",
       "    </tr>\n",
       "    <tr>\n",
       "      <th>969</th>\n",
       "      <td>1099488</td>\n",
       "      <td>1062358</td>\n",
       "      <td>a scar meaning</td>\n",
       "      <td>Last Week's Popular Questions for Celebrities....</td>\n",
       "      <td>0.0</td>\n",
       "      <td>[last, week, popular, question, celebrities, a...</td>\n",
       "      <td>[scar, mean]</td>\n",
       "      <td>0.590652</td>\n",
       "      <td>10.590634</td>\n",
       "    </tr>\n",
       "    <tr>\n",
       "      <th>237</th>\n",
       "      <td>4696</td>\n",
       "      <td>1015723</td>\n",
       "      <td>Is the Louisiana sales tax 4.75</td>\n",
       "      <td>The Livingston Sales Tax is collected by the m...</td>\n",
       "      <td>0.0</td>\n",
       "      <td>[livingston, sales, tax, collect, merchant, qu...</td>\n",
       "      <td>[louisiana, sales, tax]</td>\n",
       "      <td>0.843126</td>\n",
       "      <td>27.049819</td>\n",
       "    </tr>\n",
       "  </tbody>\n",
       "</table>\n",
       "<p>1000 rows × 9 columns</p>\n",
       "</div>"
      ],
      "text/plain": [
       "         qid      pid                          queries  \\\n",
       "719  1101806  1046669                wow essential oil   \n",
       "774  1078446  1050857         wine cabinets definition   \n",
       "567  1101868  1037249           willie weeks net worth   \n",
       "907  1101868  1059211           willie weeks net worth   \n",
       "915  1101868  1059337           willie weeks net worth   \n",
       "..       ...      ...                              ...   \n",
       "996    14947  1063503      airport code mont tremblant   \n",
       "627    10264  1040388            access parallels cost   \n",
       "968  1099488  1062356                   a scar meaning   \n",
       "969  1099488  1062358                   a scar meaning   \n",
       "237     4696  1015723  Is the Louisiana sales tax 4.75   \n",
       "\n",
       "                                               passage  relevancy  \\\n",
       "719  Use approximately six drops of essential oil f...        0.0   \n",
       "774  Terroir definition, the environmental conditio...        0.0   \n",
       "567  Kirk Frost net worth: $600 Thousand. Kirk Fros...        0.0   \n",
       "907  Updated Constance McCashin Net Worth in 2017. ...        0.0   \n",
       "915  The Leonardo DiCaprio net worth total of $217 ...        0.0   \n",
       "..                                                 ...        ...   \n",
       "996  Cities > Norway > Airports near Ølen. The clos...        0.0   \n",
       "627  Some are available every day of the year. At t...        0.0   \n",
       "968  Last Week's Popular Questions for Celebrities ...        0.0   \n",
       "969  Last Week's Popular Questions for Celebrities....        0.0   \n",
       "237  The Livingston Sales Tax is collected by the m...        0.0   \n",
       "\n",
       "                                       passage_cleaned  \\\n",
       "719  [use, approximately, six, drop, essential, oil...   \n",
       "774  [terroir, definition, environmental, condition...   \n",
       "567  [kirk, frost, net, worth, thousand, kirk, fros...   \n",
       "907  [update, constance, mccashin, net, worth, wiki...   \n",
       "915  [leonardo, dicaprio, net, worth, total, millio...   \n",
       "..                                                 ...   \n",
       "996  [cities, norway, airports, near, ølen, closest...   \n",
       "627  [available, every, day, year, beach, surf, wat...   \n",
       "968  [last, week, popular, question, celebrities, a...   \n",
       "969  [last, week, popular, question, celebrities, a...   \n",
       "237  [livingston, sales, tax, collect, merchant, qu...   \n",
       "\n",
       "                        query_cleaned  co_similarity       bm25  \n",
       "719             [wow, essential, oil]       0.644733  24.310915  \n",
       "774      [wine, cabinets, definition]       0.550765  17.995400  \n",
       "567       [willie, weeks, net, worth]       0.661165  25.569472  \n",
       "907       [willie, weeks, net, worth]       0.684801  25.771400  \n",
       "915       [willie, weeks, net, worth]       0.812987  27.338163  \n",
       "..                                ...            ...        ...  \n",
       "996  [airport, code, mont, tremblant]       0.559477  20.494116  \n",
       "627          [access, parallel, cost]       0.341840   8.133568  \n",
       "968                      [scar, mean]       0.646320  11.629403  \n",
       "969                      [scar, mean]       0.590652  10.590634  \n",
       "237           [louisiana, sales, tax]       0.843126  27.049819  \n",
       "\n",
       "[1000 rows x 9 columns]"
      ]
     },
     "execution_count": 503,
     "metadata": {},
     "output_type": "execute_result"
    }
   ],
   "source": [
    "validation_data = validation_data.sort_values(by=['queries'], ascending=False)\n",
    "validation_data"
   ]
  },
  {
   "cell_type": "code",
   "execution_count": 550,
   "id": "intellectual-blues",
   "metadata": {},
   "outputs": [],
   "source": [
    "lambdaMart_x_val = np.zeros((validation_data.shape[0], num_of_features))"
   ]
  },
  {
   "cell_type": "code",
   "execution_count": 551,
   "id": "twenty-music",
   "metadata": {},
   "outputs": [
    {
     "data": {
      "text/plain": [
       "array([[ 0.64473255, 24.31091456],\n",
       "       [ 0.55076461, 17.99540048],\n",
       "       [ 0.66116479, 25.56947225],\n",
       "       ...,\n",
       "       [ 0.64632024, 11.62940342],\n",
       "       [ 0.59065184, 10.59063425],\n",
       "       [ 0.84312551, 27.049819  ]])"
      ]
     },
     "execution_count": 551,
     "metadata": {},
     "output_type": "execute_result"
    }
   ],
   "source": [
    "lambdaMart_x_val = validation_data[['co_similarity', 'bm25']].values\n",
    "lambdaMart_x_val"
   ]
  },
  {
   "cell_type": "code",
   "execution_count": 552,
   "id": "amazing-saver",
   "metadata": {},
   "outputs": [],
   "source": [
    "lambdaMart_y_val = validation_data.relevancy.values"
   ]
  },
  {
   "cell_type": "code",
   "execution_count": 553,
   "id": "judicial-chest",
   "metadata": {},
   "outputs": [],
   "source": [
    "query_count_dict_val = validation_data['queries'].value_counts().to_dict()"
   ]
  },
  {
   "cell_type": "code",
   "execution_count": 554,
   "id": "immune-corpus",
   "metadata": {},
   "outputs": [
    {
     "data": {
      "text/plain": [
       "[]"
      ]
     },
     "execution_count": 554,
     "metadata": {},
     "output_type": "execute_result"
    }
   ],
   "source": [
    "dgroup_val = []\n",
    "dgroup_val"
   ]
  },
  {
   "cell_type": "code",
   "execution_count": 555,
   "id": "efficient-avenue",
   "metadata": {},
   "outputs": [],
   "source": [
    "for idx, row in validation_data.iterrows():\n",
    "    query = row['queries']\n",
    "    group_entry_count = query_count_dict_val[query]\n",
    "    dgroup_val.append(group_entry_count)"
   ]
  },
  {
   "cell_type": "code",
   "execution_count": 556,
   "id": "stupid-liberty",
   "metadata": {},
   "outputs": [],
   "source": [
    "dgroup_val = np.array(dgroup_val)"
   ]
  },
  {
   "cell_type": "code",
   "execution_count": 557,
   "id": "solved-suggestion",
   "metadata": {},
   "outputs": [
    {
     "data": {
      "text/plain": [
       "array([1, 1, 4, 4, 4, 4, 2, 2, 2, 2, 1, 1, 2, 2, 1, 3, 3, 3, 3, 3, 3, 1,\n",
       "       1, 3, 3, 3, 1, 2, 2, 1, 2, 2, 1, 1, 1, 1, 1, 2, 2, 2, 2, 2, 2, 2,\n",
       "       2, 2, 2, 1, 1, 1, 4, 4, 4, 4, 1, 1, 1, 2, 2, 1, 1, 1, 1, 3, 3, 3,\n",
       "       2, 2, 2, 2, 2, 2, 1, 2, 2, 5, 5, 5, 5, 5, 3, 3, 3, 1, 1, 1, 1, 1,\n",
       "       1, 1, 2, 2, 2, 2, 1, 1, 1, 1, 4, 4, 4, 4, 1, 2, 2, 2, 2, 2, 2, 2,\n",
       "       2, 2, 2, 1, 2, 2, 1, 1, 2, 2, 2, 2, 2, 2, 3, 3, 3, 2, 2, 1, 2, 2,\n",
       "       1, 2, 2, 1, 3, 3, 3, 1, 1, 1, 1, 2, 2, 1, 2, 2, 2, 2, 1, 2, 2, 1,\n",
       "       1, 1, 1, 2, 2, 1, 1, 1, 1, 1, 1, 1, 2, 2, 3, 3, 3, 2, 2, 2, 2, 1,\n",
       "       1, 4, 4, 4, 4, 1, 3, 3, 3, 1, 2, 2, 3, 3, 3, 1, 1, 1, 3, 3, 3, 3,\n",
       "       3, 3, 1, 1, 1, 2, 2, 1, 2, 2, 1, 2, 2, 1, 1, 1, 2, 2, 3, 3, 3, 1,\n",
       "       2, 2, 1, 3, 3, 3, 1, 2, 2, 1, 2, 2, 1, 2, 2, 3, 3, 3, 1, 1, 1, 1,\n",
       "       3, 3, 3, 1, 2, 2, 2, 2, 1, 5, 5, 5, 5, 5, 2, 2, 2, 2, 2, 2, 3, 3,\n",
       "       3, 3, 3, 3, 3, 3, 3, 2, 2, 2, 2, 5, 5, 5, 5, 5, 1, 2, 2, 1, 1, 2,\n",
       "       2, 2, 2, 1, 2, 2, 3, 3, 3, 2, 2, 5, 5, 5, 5, 5, 1, 1, 1, 1, 1, 1,\n",
       "       6, 6, 6, 6, 6, 6, 2, 2, 1, 4, 4, 4, 4, 4, 4, 4, 4, 2, 2, 1, 5, 5,\n",
       "       5, 5, 5, 2, 2, 1, 2, 2, 4, 4, 4, 4, 2, 2, 1, 1, 2, 2, 1, 5, 5, 5,\n",
       "       5, 5, 3, 3, 3, 1, 3, 3, 3, 1, 1, 3, 3, 3, 1, 1, 3, 3, 3, 2, 2, 1,\n",
       "       2, 2, 2, 2, 2, 2, 2, 2, 1, 1, 1, 1, 1, 3, 3, 3, 1, 1, 1, 2, 2, 1,\n",
       "       1, 2, 2, 2, 2, 2, 2, 1, 1, 2, 2, 1, 1, 4, 4, 4, 4, 3, 3, 3, 2, 2,\n",
       "       1, 1, 1, 1, 1, 1, 1, 1, 2, 2, 1, 2, 2, 1, 1, 2, 2, 1, 1, 3, 3, 3,\n",
       "       1, 1, 1, 2, 2, 3, 3, 3, 1, 1, 2, 2, 1, 1, 1, 1, 2, 2, 1, 2, 2, 1,\n",
       "       2, 2, 2, 2, 1, 2, 2, 1, 1, 1, 3, 3, 3, 2, 2, 1, 1, 1, 1, 2, 2, 1,\n",
       "       3, 3, 3, 1, 1, 1, 3, 3, 3, 1, 2, 2, 2, 2, 1, 1, 1, 4, 4, 4, 4, 2,\n",
       "       2, 2, 2, 2, 2, 1, 1, 2, 2, 1, 1, 1, 3, 3, 3, 1, 2, 2, 2, 2, 1, 2,\n",
       "       2, 2, 2, 1, 1, 1, 4, 4, 4, 4, 2, 2, 1, 2, 2, 1, 1, 2, 2, 1, 1, 1,\n",
       "       3, 3, 3, 1, 1, 1, 1, 2, 2, 2, 2, 2, 2, 1, 2, 2, 1, 2, 2, 1, 4, 4,\n",
       "       4, 4, 1, 2, 2, 1, 1, 2, 2, 1, 2, 2, 1, 1, 1, 1, 1, 1, 1, 1, 3, 3,\n",
       "       3, 2, 2, 1, 1, 1, 2, 2, 1, 4, 4, 4, 4, 2, 2, 2, 2, 1, 1, 2, 2, 2,\n",
       "       2, 1, 1, 3, 3, 3, 1, 2, 2, 1, 2, 2, 3, 3, 3, 1, 2, 2, 1, 3, 3, 3,\n",
       "       1, 1, 1, 4, 4, 4, 4, 1, 2, 2, 2, 2, 1, 3, 3, 3, 7, 7, 7, 7, 7, 7,\n",
       "       7, 1, 1, 1, 1, 5, 5, 5, 5, 5, 2, 2, 2, 2, 1, 1, 2, 2, 3, 3, 3, 1,\n",
       "       1, 2, 2, 1, 2, 2, 1, 1, 2, 2, 1, 1, 2, 2, 1, 4, 4, 4, 4, 2, 2, 2,\n",
       "       2, 1, 1, 1, 4, 4, 4, 4, 4, 4, 4, 4, 1, 3, 3, 3, 2, 2, 1, 1, 3, 3,\n",
       "       3, 1, 1, 1, 1, 1, 1, 3, 3, 3, 1, 1, 2, 2, 1, 1, 2, 2, 1, 3, 3, 3,\n",
       "       1, 3, 3, 3, 1, 1, 1, 1, 1, 2, 2, 1, 1, 1, 1, 2, 2, 2, 2, 2, 2, 2,\n",
       "       2, 1, 1, 2, 2, 3, 3, 3, 1, 2, 2, 1, 1, 1, 3, 3, 3, 1, 2, 2, 1, 3,\n",
       "       3, 3, 1, 1, 1, 2, 2, 2, 2, 2, 2, 2, 2, 2, 2, 1, 2, 2, 1, 3, 3, 3,\n",
       "       1, 1, 2, 2, 2, 2, 1, 2, 2, 1, 2, 2, 1, 1, 2, 2, 1, 2, 2, 1, 2, 2,\n",
       "       1, 3, 3, 3, 2, 2, 1, 2, 2, 4, 4, 4, 4, 1, 1, 1, 4, 4, 4, 4, 1, 2,\n",
       "       2, 2, 2, 2, 2, 4, 4, 4, 4, 2, 2, 1, 1, 1, 3, 3, 3, 2, 2, 1, 4, 4,\n",
       "       4, 4, 2, 2, 2, 2, 1, 4, 4, 4, 4, 2, 2, 1, 3, 3, 3, 2, 2, 1, 2, 2,\n",
       "       1, 2, 2, 1, 2, 2, 3, 3, 3, 1, 1, 2, 2, 4, 4, 4, 4, 2, 2, 1, 1, 1,\n",
       "       1, 1, 1, 1, 1, 1, 1, 2, 2, 2, 2, 2, 2, 1, 2, 2, 1, 2, 2, 1, 2, 2,\n",
       "       1, 4, 4, 4, 4, 2, 2, 2, 2, 1, 3, 3, 3, 2, 2, 2, 2, 1, 1, 2, 2, 1,\n",
       "       1, 1, 1, 6, 6, 6, 6, 6, 6, 3, 3, 3, 2, 2, 2, 2, 1, 1, 1, 1, 2, 2,\n",
       "       1, 1, 1, 1, 2, 2, 1, 2, 2, 1])"
      ]
     },
     "execution_count": 557,
     "metadata": {},
     "output_type": "execute_result"
    }
   ],
   "source": [
    "dgroup_val"
   ]
  },
  {
   "cell_type": "markdown",
   "id": "maritime-apparel",
   "metadata": {},
   "source": [
    "## LambdaMart Implementation"
   ]
  },
  {
   "cell_type": "code",
   "execution_count": 587,
   "id": "christian-windsor",
   "metadata": {},
   "outputs": [],
   "source": [
    "# xgb_rank_params1 ={    \n",
    "#     'booster' : 'gbtree',\n",
    "#     'eta': 0.1,\n",
    "#     'gamma' : 1.0 ,\n",
    "#     'min_child_weight' : 0.1,\n",
    "#     'objective' : 'rank:pairwise',\n",
    "#     'eval_metric' : 'merror',\n",
    "#     'max_depth' : 6,\n",
    "#     'num_boost_round':10,\n",
    "#     'save_period' : 0 \n",
    "# }\n",
    "\n",
    "params = {\n",
    "    'bst:max_depth':2, \n",
    "    'bst:eta':1, 'silent':1, \n",
    "    'objective':'rank:pairwise',\n",
    "    'nthread':4,\n",
    "    'eval_metric':'ndcg'\n",
    "}\n",
    "  \n",
    "\n"
   ]
  },
  {
   "cell_type": "code",
   "execution_count": 588,
   "id": "supported-welsh",
   "metadata": {},
   "outputs": [
    {
     "data": {
      "text/plain": [
       "(1000, 2)"
      ]
     },
     "execution_count": 588,
     "metadata": {},
     "output_type": "execute_result"
    },
    {
     "data": {
      "text/plain": [
       "(1000,)"
      ]
     },
     "execution_count": 588,
     "metadata": {},
     "output_type": "execute_result"
    }
   ],
   "source": [
    "#generate training dataset\n",
    "dtrain= lambdaMart_x_train\n",
    "dtarget= lambdaMart_y_train\n",
    "dgroup_train = dgroup_train\n",
    "# dtrain= lambdaMart_x_train[:2]\n",
    "# dtarget= lambdaMart_y_train[:2]\n",
    "# dgroup_train = dgroup_train[:2]\n",
    "dtrain.shape\n",
    "dtarget.shape"
   ]
  },
  {
   "cell_type": "code",
   "execution_count": 589,
   "id": "agricultural-music",
   "metadata": {},
   "outputs": [],
   "source": [
    "# concate Train data, very import here !\n",
    "xgbTrain = DMatrix(dtrain, label = dtarget)\n",
    "# xgbTrain.set_group(dgroup_train)\n",
    "\n",
    "\n"
   ]
  },
  {
   "cell_type": "code",
   "execution_count": 574,
   "id": "according-birmingham",
   "metadata": {},
   "outputs": [],
   "source": [
    "# generate eval data -> validation data\n",
    "dtrain_eval= lambdaMart_x_val   \n",
    "xgbTrain_eval = DMatrix(dtrain_eval, label = dtarget)\n",
    "xgbTrain_eval .set_group(dgroup)\n",
    "evallist  = [(xgbTrain,'train'),(xgbTrain_eval, 'eval')]\n"
   ]
  },
  {
   "cell_type": "code",
   "execution_count": 590,
   "id": "professional-charles",
   "metadata": {},
   "outputs": [
    {
     "ename": "XGBoostError",
     "evalue": "[21:32:11] src/metric/rank_metric.cc:246: Check failed: gptr.back() == preds.Size() (2 vs. 1000) : EvalRanklist: group structure must match number of prediction",
     "output_type": "error",
     "traceback": [
      "\u001b[1;31m---------------------------------------------------------------------------\u001b[0m",
      "\u001b[1;31mXGBoostError\u001b[0m                              Traceback (most recent call last)",
      "\u001b[1;32m<ipython-input-590-11009ba447f1>\u001b[0m in \u001b[0;36m<module>\u001b[1;34m\u001b[0m\n\u001b[0;32m      2\u001b[0m \u001b[1;31m# xgb_rank_params1加上 evals 这个参数会报错，还没找到原因\u001b[0m\u001b[1;33m\u001b[0m\u001b[1;33m\u001b[0m\u001b[1;33m\u001b[0m\u001b[0m\n\u001b[0;32m      3\u001b[0m \u001b[1;31m# rankModel = train(xgb_rank_params1,xgbTrain,num_boost_round=10)\u001b[0m\u001b[1;33m\u001b[0m\u001b[1;33m\u001b[0m\u001b[1;33m\u001b[0m\u001b[0m\n\u001b[1;32m----> 4\u001b[1;33m \u001b[0mrankModel\u001b[0m \u001b[1;33m=\u001b[0m \u001b[0mtrain\u001b[0m\u001b[1;33m(\u001b[0m\u001b[0mparams\u001b[0m\u001b[1;33m,\u001b[0m\u001b[0mxgbTrain\u001b[0m\u001b[1;33m,\u001b[0m\u001b[0mnum_boost_round\u001b[0m\u001b[1;33m=\u001b[0m\u001b[1;36m20\u001b[0m\u001b[1;33m,\u001b[0m\u001b[0mevals\u001b[0m\u001b[1;33m=\u001b[0m\u001b[0mevallist\u001b[0m\u001b[1;33m)\u001b[0m\u001b[1;33m\u001b[0m\u001b[1;33m\u001b[0m\u001b[0m\n\u001b[0m\u001b[0;32m      5\u001b[0m \u001b[1;33m\u001b[0m\u001b[0m\n",
      "\u001b[1;32m~\\miniconda3\\envs\\tensorflow\\lib\\site-packages\\xgboost\\training.py\u001b[0m in \u001b[0;36mtrain\u001b[1;34m(params, dtrain, num_boost_round, evals, obj, feval, maximize, early_stopping_rounds, evals_result, verbose_eval, xgb_model, callbacks, learning_rates)\u001b[0m\n\u001b[0;32m    214\u001b[0m                            \u001b[0mevals\u001b[0m\u001b[1;33m=\u001b[0m\u001b[0mevals\u001b[0m\u001b[1;33m,\u001b[0m\u001b[1;33m\u001b[0m\u001b[1;33m\u001b[0m\u001b[0m\n\u001b[0;32m    215\u001b[0m                            \u001b[0mobj\u001b[0m\u001b[1;33m=\u001b[0m\u001b[0mobj\u001b[0m\u001b[1;33m,\u001b[0m \u001b[0mfeval\u001b[0m\u001b[1;33m=\u001b[0m\u001b[0mfeval\u001b[0m\u001b[1;33m,\u001b[0m\u001b[1;33m\u001b[0m\u001b[1;33m\u001b[0m\u001b[0m\n\u001b[1;32m--> 216\u001b[1;33m                            xgb_model=xgb_model, callbacks=callbacks)\n\u001b[0m\u001b[0;32m    217\u001b[0m \u001b[1;33m\u001b[0m\u001b[0m\n\u001b[0;32m    218\u001b[0m \u001b[1;33m\u001b[0m\u001b[0m\n",
      "\u001b[1;32m~\\miniconda3\\envs\\tensorflow\\lib\\site-packages\\xgboost\\training.py\u001b[0m in \u001b[0;36m_train_internal\u001b[1;34m(params, dtrain, num_boost_round, evals, obj, feval, xgb_model, callbacks)\u001b[0m\n\u001b[0;32m     82\u001b[0m         \u001b[1;31m# check evaluation result.\u001b[0m\u001b[1;33m\u001b[0m\u001b[1;33m\u001b[0m\u001b[1;33m\u001b[0m\u001b[0m\n\u001b[0;32m     83\u001b[0m         \u001b[1;32mif\u001b[0m \u001b[0mevals\u001b[0m\u001b[1;33m:\u001b[0m\u001b[1;33m\u001b[0m\u001b[1;33m\u001b[0m\u001b[0m\n\u001b[1;32m---> 84\u001b[1;33m             \u001b[0mbst_eval_set\u001b[0m \u001b[1;33m=\u001b[0m \u001b[0mbst\u001b[0m\u001b[1;33m.\u001b[0m\u001b[0meval_set\u001b[0m\u001b[1;33m(\u001b[0m\u001b[0mevals\u001b[0m\u001b[1;33m,\u001b[0m \u001b[0mi\u001b[0m\u001b[1;33m,\u001b[0m \u001b[0mfeval\u001b[0m\u001b[1;33m)\u001b[0m\u001b[1;33m\u001b[0m\u001b[1;33m\u001b[0m\u001b[0m\n\u001b[0m\u001b[0;32m     85\u001b[0m             \u001b[1;32mif\u001b[0m \u001b[0misinstance\u001b[0m\u001b[1;33m(\u001b[0m\u001b[0mbst_eval_set\u001b[0m\u001b[1;33m,\u001b[0m \u001b[0mSTRING_TYPES\u001b[0m\u001b[1;33m)\u001b[0m\u001b[1;33m:\u001b[0m\u001b[1;33m\u001b[0m\u001b[1;33m\u001b[0m\u001b[0m\n\u001b[0;32m     86\u001b[0m                 \u001b[0mmsg\u001b[0m \u001b[1;33m=\u001b[0m \u001b[0mbst_eval_set\u001b[0m\u001b[1;33m\u001b[0m\u001b[1;33m\u001b[0m\u001b[0m\n",
      "\u001b[1;32m~\\miniconda3\\envs\\tensorflow\\lib\\site-packages\\xgboost\\core.py\u001b[0m in \u001b[0;36meval_set\u001b[1;34m(self, evals, iteration, feval)\u001b[0m\n\u001b[0;32m   1170\u001b[0m                                               \u001b[0mdmats\u001b[0m\u001b[1;33m,\u001b[0m \u001b[0mevnames\u001b[0m\u001b[1;33m,\u001b[0m\u001b[1;33m\u001b[0m\u001b[1;33m\u001b[0m\u001b[0m\n\u001b[0;32m   1171\u001b[0m                                               \u001b[0mc_bst_ulong\u001b[0m\u001b[1;33m(\u001b[0m\u001b[0mlen\u001b[0m\u001b[1;33m(\u001b[0m\u001b[0mevals\u001b[0m\u001b[1;33m)\u001b[0m\u001b[1;33m)\u001b[0m\u001b[1;33m,\u001b[0m\u001b[1;33m\u001b[0m\u001b[1;33m\u001b[0m\u001b[0m\n\u001b[1;32m-> 1172\u001b[1;33m                                               ctypes.byref(msg)))\n\u001b[0m\u001b[0;32m   1173\u001b[0m         \u001b[0mres\u001b[0m \u001b[1;33m=\u001b[0m \u001b[0mmsg\u001b[0m\u001b[1;33m.\u001b[0m\u001b[0mvalue\u001b[0m\u001b[1;33m.\u001b[0m\u001b[0mdecode\u001b[0m\u001b[1;33m(\u001b[0m\u001b[1;33m)\u001b[0m\u001b[1;33m\u001b[0m\u001b[1;33m\u001b[0m\u001b[0m\n\u001b[0;32m   1174\u001b[0m         \u001b[1;32mif\u001b[0m \u001b[0mfeval\u001b[0m \u001b[1;32mis\u001b[0m \u001b[1;32mnot\u001b[0m \u001b[1;32mNone\u001b[0m\u001b[1;33m:\u001b[0m\u001b[1;33m\u001b[0m\u001b[1;33m\u001b[0m\u001b[0m\n",
      "\u001b[1;32m~\\miniconda3\\envs\\tensorflow\\lib\\site-packages\\xgboost\\core.py\u001b[0m in \u001b[0;36m_check_call\u001b[1;34m(ret)\u001b[0m\n\u001b[0;32m    174\u001b[0m     \"\"\"\n\u001b[0;32m    175\u001b[0m     \u001b[1;32mif\u001b[0m \u001b[0mret\u001b[0m \u001b[1;33m!=\u001b[0m \u001b[1;36m0\u001b[0m\u001b[1;33m:\u001b[0m\u001b[1;33m\u001b[0m\u001b[1;33m\u001b[0m\u001b[0m\n\u001b[1;32m--> 176\u001b[1;33m         \u001b[1;32mraise\u001b[0m \u001b[0mXGBoostError\u001b[0m\u001b[1;33m(\u001b[0m\u001b[0mpy_str\u001b[0m\u001b[1;33m(\u001b[0m\u001b[0m_LIB\u001b[0m\u001b[1;33m.\u001b[0m\u001b[0mXGBGetLastError\u001b[0m\u001b[1;33m(\u001b[0m\u001b[1;33m)\u001b[0m\u001b[1;33m)\u001b[0m\u001b[1;33m)\u001b[0m\u001b[1;33m\u001b[0m\u001b[1;33m\u001b[0m\u001b[0m\n\u001b[0m\u001b[0;32m    177\u001b[0m \u001b[1;33m\u001b[0m\u001b[0m\n\u001b[0;32m    178\u001b[0m \u001b[1;33m\u001b[0m\u001b[0m\n",
      "\u001b[1;31mXGBoostError\u001b[0m: [21:32:11] src/metric/rank_metric.cc:246: Check failed: gptr.back() == preds.Size() (2 vs. 1000) : EvalRanklist: group structure must match number of prediction"
     ]
    }
   ],
   "source": [
    "# train model\n",
    "# xgb_rank_params1加上 evals 这个参数会报错，还没找到原因\n",
    "# rankModel = train(xgb_rank_params1,xgbTrain,num_boost_round=10)\n",
    "rankModel = train(params,xgbTrain,num_boost_round=20,evals=evallist)\n",
    "\n"
   ]
  },
  {
   "cell_type": "code",
   "execution_count": 27,
   "id": "needed-christopher",
   "metadata": {},
   "outputs": [
    {
     "data": {
      "text/plain": [
       "[0, 1]"
      ]
     },
     "execution_count": 27,
     "metadata": {},
     "output_type": "execute_result"
    }
   ],
   "source": []
  },
  {
   "cell_type": "code",
   "execution_count": null,
   "id": "pregnant-apollo",
   "metadata": {},
   "outputs": [],
   "source": []
  },
  {
   "cell_type": "code",
   "execution_count": null,
   "id": "internal-queensland",
   "metadata": {},
   "outputs": [],
   "source": []
  },
  {
   "cell_type": "code",
   "execution_count": null,
   "id": "great-mentor",
   "metadata": {},
   "outputs": [],
   "source": []
  },
  {
   "cell_type": "markdown",
   "id": "relative-technical",
   "metadata": {},
   "source": [
    "# Subtask 3 Example"
   ]
  },
  {
   "cell_type": "code",
   "execution_count": 606,
   "id": "coastal-carter",
   "metadata": {},
   "outputs": [],
   "source": [
    "xgb_rank_params1 ={    \n",
    "    'booster' : 'gbtree',\n",
    "    'eta': 0.1,\n",
    "    'gamma' : 1.0 ,\n",
    "    'min_child_weight' : 0.1,\n",
    "    'objective' : 'rank:pairwise',\n",
    "    'eval_metric' : 'merror',\n",
    "    'max_depth' : 6,\n",
    "    'num_boost_round':10,\n",
    "    'save_period' : 0 \n",
    "}\n",
    "\n",
    "xgb_rank_params2 = {\n",
    "    'bst:max_depth':2, \n",
    "    'bst:eta':1, 'silent':1, \n",
    "    'objective':'rank:pairwise',\n",
    "    'nthread':4,\n",
    "    'eval_metric':'ndcg'\n",
    "}"
   ]
  },
  {
   "cell_type": "code",
   "execution_count": 613,
   "id": "informal-animal",
   "metadata": {},
   "outputs": [],
   "source": [
    "#generate training dataset\n",
    "#一共2组*每组3条，6条样本，特征维数是2\n",
    "n_group=2\n",
    "n_choice=3  \n",
    "dtrain=np.random.uniform(0,100,[n_group*n_choice,2])    \n",
    "#numpy.random.choice(a, size=None, replace=True, p=None)\n",
    "dtarget=np.array([np.random.choice([0,1,2],3,False) for i in range(n_group)]).flatten()\n",
    "#n_group用于表示从前到后每组各自有多少样本，前提是样本中各组是连续的，[3，3]表示一共6条样本中前3条是第一组，后3条是第二组\n",
    "dgroup= np.array([1,2,3]).flatten()\n",
    "# dgroup= np.array([n_choice for i in range(n_group)]).flatten()\n",
    "# dgroup = np.arange(0, n_group).repeat((n_group * n_choice)/n_group)\n",
    "\n"
   ]
  },
  {
   "cell_type": "code",
   "execution_count": 614,
   "id": "unauthorized-jacksonville",
   "metadata": {},
   "outputs": [],
   "source": [
    "\n",
    "# concate Train data, very import here !\n",
    "xgbTrain = DMatrix(dtrain, label = dtarget)\n",
    "xgbTrain.set_group(dgroup)"
   ]
  },
  {
   "cell_type": "code",
   "execution_count": 615,
   "id": "functional-asset",
   "metadata": {},
   "outputs": [
    {
     "name": "stdout",
     "output_type": "stream",
     "text": [
      "[0]\ttrain-ndcg:0.98798\teval-ndcg:0.98798\n",
      "[1]\ttrain-ndcg:1\teval-ndcg:0.98798\n",
      "[2]\ttrain-ndcg:1\teval-ndcg:0.98798\n",
      "[3]\ttrain-ndcg:1\teval-ndcg:0.98798\n",
      "[4]\ttrain-ndcg:0.98798\teval-ndcg:0.98798\n",
      "[5]\ttrain-ndcg:1\teval-ndcg:0.98798\n",
      "[6]\ttrain-ndcg:0.98798\teval-ndcg:0.98798\n",
      "[7]\ttrain-ndcg:0.98798\teval-ndcg:0.98798\n",
      "[8]\ttrain-ndcg:0.98798\teval-ndcg:0.98798\n",
      "[9]\ttrain-ndcg:0.98798\teval-ndcg:0.98798\n",
      "[10]\ttrain-ndcg:0.98798\teval-ndcg:0.98798\n",
      "[11]\ttrain-ndcg:0.98798\teval-ndcg:0.98798\n",
      "[12]\ttrain-ndcg:1\teval-ndcg:0.98798\n",
      "[13]\ttrain-ndcg:1\teval-ndcg:0.98798\n",
      "[14]\ttrain-ndcg:1\teval-ndcg:0.98798\n",
      "[15]\ttrain-ndcg:1\teval-ndcg:0.98798\n",
      "[16]\ttrain-ndcg:1\teval-ndcg:0.98798\n",
      "[17]\ttrain-ndcg:1\teval-ndcg:0.98798\n",
      "[18]\ttrain-ndcg:1\teval-ndcg:0.98798\n",
      "[19]\ttrain-ndcg:1\teval-ndcg:0.98798\n",
      "[ 1.8875102   1.3705748  -1.0823352   1.2588202   1.8875102  -0.07603365]\n"
     ]
    }
   ],
   "source": [
    "# generate eval data\n",
    "dtrain_eval=np.random.uniform(0,100,[n_group*n_choice,2])        \n",
    "xgbTrain_eval = DMatrix(dtrain_eval, label = dtarget)\n",
    "xgbTrain_eval .set_group(dgroup)\n",
    "evallist  = [(xgbTrain,'train'),(xgbTrain_eval, 'eval')]\n",
    "\n",
    "# train model\n",
    "# xgb_rank_params1加上 evals 这个参数会报错，还没找到原因\n",
    "# rankModel = train(xgb_rank_params1,xgbTrain,num_boost_round=10)\n",
    "rankModel = train(xgb_rank_params2,xgbTrain,num_boost_round=20,evals=evallist)\n",
    "\n",
    "#test dataset\n",
    "dtest=np.random.uniform(0,100,[n_group*n_choice,2])    \n",
    "dtestgroup=np.array([n_choice for i in range(n_group)]).flatten()\n",
    "xgbTest = DMatrix(dtest)\n",
    "xgbTest.set_group(dgroup)\n",
    "\n",
    "# test\n",
    "print(rankModel.predict( xgbTest))"
   ]
  },
  {
   "cell_type": "code",
   "execution_count": null,
   "id": "important-pendant",
   "metadata": {},
   "outputs": [],
   "source": []
  },
  {
   "cell_type": "code",
   "execution_count": 593,
   "id": "different-certification",
   "metadata": {},
   "outputs": [],
   "source": [
    "import numpy as np\n",
    "from sklearn.utils import check_X_y, check_array\n",
    "from xgboost import DMatrix, train\n",
    "from xgboost import XGBModel\n",
    "from xgboost.sklearn import _objective_decorator\n",
    "from scipy import sparse\n",
    "\n",
    "\n",
    "class XGBRanker(XGBModel):\n",
    "    __doc__ = \"\"\"Implementation of sklearn API for XGBoost Ranking\n",
    "           \"\"\" + '\\n'.join(XGBModel.__doc__.split('\\n')[2:])\n",
    "    \n",
    "    def __init__(self, max_depth=3, learning_rate=0.1, n_estimators=100, \n",
    "                 silent=True, objective=\"rank:pairwise\", booster='gbtree',\n",
    "                 n_jobs=-1, nthread=None, gamma=0, min_child_weight=1, max_delta_step=0,\n",
    "                 subsample=1, colsample_bytree=1, colsample_bylevel=1,\n",
    "                 reg_alpha=0, reg_lambda=1, scale_pos_weight=1,\n",
    "                 base_score=0.5, random_state=0, seed=None, missing=None, **kwargs): \n",
    "        \n",
    "        super(XGBRanker, self).__init__(max_depth, learning_rate,\n",
    "                                        n_estimators, silent, objective, booster,\n",
    "                                        n_jobs, nthread, gamma, min_child_weight, max_delta_step, \n",
    "                                        subsample, colsample_bytree, colsample_bylevel,\n",
    "                                        reg_alpha, reg_lambda, scale_pos_weight,\n",
    "                                        base_score, random_state, seed, missing)\n",
    "\n",
    "    def _preprare_data_in_groups(self,X, y=None, sample_weights=None):\n",
    "        \"\"\"\n",
    "        Takes the first column of the feature Matrix X given and\n",
    "        transforms the data into groups accordingly.\n",
    "        Parameters\n",
    "        ----------\n",
    "        X : (2d-array like) Feature matrix with the first column the group label\n",
    "        y : (optional, 1d-array like) target values\n",
    "        sample_weights : (optional, 1d-array like) sample weights\n",
    "        Returns\n",
    "        -------\n",
    "        sizes: (1d-array) group sizes\n",
    "        X_features : (2d-array) features sorted per group\n",
    "        y : (None or 1d-array) Target sorted per group\n",
    "        sample_weights: (None or 1d-array) sample weights sorted per group\n",
    "        \"\"\"\n",
    "        if sparse.issparse(X):\n",
    "            group_labels = X.getcol(0).toarray()[:,0]\n",
    "        else:\n",
    "            group_labels = X[:,0]\n",
    "\n",
    "        group_indices = group_labels.argsort()\n",
    "\n",
    "        group_labels = group_labels[group_indices]\n",
    "        _, sizes = np.unique(group_labels, return_counts=True)\n",
    "        X_sorted = X[group_indices]\n",
    "        X_features = X_sorted[:, 1:]\n",
    "\n",
    "        if y is not None:\n",
    "            y = y[group_indices]\n",
    "\n",
    "        if sample_weights is not None:\n",
    "            sample_weights = sample_weights[group_indices]\n",
    "\n",
    "        return sizes, X_sorted, X_features, y, sample_weights\n",
    "\n",
    "\n",
    "    def fit(self, X, y, sample_weight=None, eval_set=None, eval_metric=None,\n",
    "            early_stopping_rounds=None, verbose=True, xgb_model=None):\n",
    "        \"\"\"\n",
    "        Fit the gradient boosting model\n",
    "        Parameters\n",
    "        ----------\n",
    "        X : array_like\n",
    "            Feature matrix with the first feature containing a group indicator\n",
    "        y : array_like\n",
    "            Labels\n",
    "        sample_weight : array_like\n",
    "            instance weights\n",
    "        eval_set : list, optional\n",
    "            A list of (X, y) tuple pairs to use as a validation set for\n",
    "            early-stopping\n",
    "        eval_metric : str, callable, optional\n",
    "            If a str, should be a built-in evaluation metric to use. See\n",
    "            doc/parameter.md. If callable, a custom evaluation metric. The call\n",
    "            signature is func(y_predicted, y_true) where y_true will be a\n",
    "            DMatrix object such that you may need to call the get_label\n",
    "            method. It must return a str, value pair where the str is a name\n",
    "            for the evaluation and value is the value of the evaluation\n",
    "            function. This objective is always minimized.\n",
    "        early_stopping_rounds : int\n",
    "            Activates early stopping. Validation error needs to decrease at\n",
    "            least every <early_stopping_rounds> round(s) to continue training.\n",
    "            Requires at least one item in evals.  If there's more than one,\n",
    "            will use the last. Returns the model from the last iteration\n",
    "            (not the best one). If early stopping occurs, the model will\n",
    "            have three additional fields: bst.best_score, bst.best_iteration\n",
    "            and bst.best_ntree_limit.\n",
    "            (Use bst.best_ntree_limit to get the correct value if num_parallel_tree\n",
    "            and/or num_class appears in the parameters)\n",
    "        verbose : bool\n",
    "            If `verbose` and an evaluation set is used, writes the evaluation\n",
    "            metric measured on the validation set to stderr.\n",
    "        xgb_model : str\n",
    "            file name of stored xgb model or 'Booster' instance Xgb model to be\n",
    "            loaded before training (allows training continuation).\n",
    "        \"\"\"\n",
    "\n",
    "        X, y = check_X_y(X, y, accept_sparse=False, y_numeric=True)\n",
    "\n",
    "        sizes, _, X_features, y, _ = self._preprare_data_in_groups(X, y)\n",
    "\n",
    "        params = self.get_xgb_params()\n",
    "\n",
    "        if callable(self.objective):\n",
    "            obj = _objective_decorator(self.objective)\n",
    "            # Dummy, Not used when custom objective is given\n",
    "            params[\"objective\"] = \"binary:logistic\"\n",
    "        else:\n",
    "            obj = None\n",
    "\n",
    "        evals_result = {}\n",
    "        feval = eval_metric if callable(eval_metric) else None\n",
    "        if eval_metric is not None:\n",
    "            if callable(eval_metric):\n",
    "                eval_metric = None\n",
    "            else:\n",
    "                params.update({'eval_metric': eval_metric})\n",
    "\n",
    "        if sample_weight is not None:\n",
    "            train_dmatrix = DMatrix(X_features, label=y, weight=sample_weight,\n",
    "                                    missing=self.missing)\n",
    "        else:\n",
    "            train_dmatrix = DMatrix(X_features, label=y,\n",
    "                                    missing=self.missing)\n",
    "\n",
    "        train_dmatrix.set_group(sizes)\n",
    "\n",
    "        self._Booster = train(params, train_dmatrix, \n",
    "                              self.n_estimators,\n",
    "                              early_stopping_rounds=early_stopping_rounds,\n",
    "                              evals_result=evals_result, obj=obj, feval=feval,\n",
    "                              verbose_eval=verbose, xgb_model=xgb_model)\n",
    "\n",
    "        if evals_result:\n",
    "            for val in evals_result.items():\n",
    "                evals_result_key = list(val[1].keys())[0]\n",
    "                evals_result[val[0]][evals_result_key] = val[1][evals_result_key]\n",
    "            self.evals_result = evals_result\n",
    "\n",
    "        if early_stopping_rounds is not None:\n",
    "            self.best_score = self._Booster.best_score\n",
    "            self.best_iteration = self._Booster.best_iteration\n",
    "            self.best_ntree_limit = self._Booster.best_ntree_limit\n",
    "\n",
    "        return self\n",
    "\n",
    "    def predict(self, X, output_margin=False, ntree_limit=0):\n",
    "        sizes, _, X_features, _, _ = self._preprare_data_in_groups(X)\n",
    "\n",
    "        test_dmatrix = DMatrix(X_features, missing=self.missing)\n",
    "        test_dmatrix.set_group(sizes)\n",
    "        rank_values = self.get_booster().predict(test_dmatrix,\n",
    "                                                 output_margin=output_margin,\n",
    "                                                 ntree_limit=ntree_limit)\n",
    "        return rank_values"
   ]
  },
  {
   "cell_type": "code",
   "execution_count": 594,
   "id": "copyrighted-legislature",
   "metadata": {},
   "outputs": [
    {
     "name": "stdout",
     "output_type": "stream",
     "text": [
      "X=[[0.52694855 0.55599332 0.79233445 0.62143916]\n",
      " [0.89137505 0.53878776 0.95005293 0.18312927]\n",
      " [0.74647446 0.09576803 0.92569805 0.70499097]\n",
      " [0.90304666 0.2335285  0.63090186 0.28223889]\n",
      " [0.98353068 0.59669479 0.94914538 0.69363179]\n",
      " [0.61220342 0.99706551 0.80588603 0.42374265]\n",
      " [0.29414073 0.69899161 0.70017234 0.14988117]\n",
      " [0.0218093  0.14781889 0.48153728 0.95265911]\n",
      " [0.49022293 0.95545561 0.84758163 0.56447049]\n",
      " [0.23762924 0.97150334 0.03702313 0.05180869]\n",
      " [0.60061378 0.85121533 0.09990945 0.73783347]\n",
      " [0.33425966 0.61209814 0.11467577 0.67275794]\n",
      " [0.90202274 0.92537296 0.10379673 0.42709924]\n",
      " [0.24243719 0.28215081 0.38296262 0.6494243 ]\n",
      " [0.33486871 0.42815145 0.36645838 0.02257067]\n",
      " [0.14376708 0.46902934 0.04382237 0.66063232]\n",
      " [0.41090062 0.29372593 0.54193359 0.4205951 ]\n",
      " [0.80509859 0.8394173  0.69693895 0.35305127]\n",
      " [0.85223386 0.29556272 0.13364234 0.06814204]\n",
      " [0.35831876 0.85627055 0.53473458 0.08574989]]\n",
      "y=[0 3 4 2 2 2 2 2 2 0 4 4 2 0 2 1 1 1 3 3]\n"
     ]
    },
    {
     "ename": "XGBoostError",
     "evalue": "Invalid Parameter format for seed expect int but value='None'",
     "output_type": "error",
     "traceback": [
      "\u001b[1;31m---------------------------------------------------------------------------\u001b[0m",
      "\u001b[1;31mXGBoostError\u001b[0m                              Traceback (most recent call last)",
      "\u001b[1;32m<ipython-input-594-b0389179fd93>\u001b[0m in \u001b[0;36m<module>\u001b[1;34m\u001b[0m\n\u001b[0;32m     25\u001b[0m \u001b[1;33m\u001b[0m\u001b[0m\n\u001b[0;32m     26\u001b[0m \u001b[1;33m\u001b[0m\u001b[0m\n\u001b[1;32m---> 27\u001b[1;33m \u001b[0mranker\u001b[0m\u001b[1;33m.\u001b[0m\u001b[0mfit\u001b[0m\u001b[1;33m(\u001b[0m\u001b[0mX\u001b[0m\u001b[1;33m,\u001b[0m \u001b[0my\u001b[0m\u001b[1;33m,\u001b[0m \u001b[0meval_metric\u001b[0m\u001b[1;33m=\u001b[0m\u001b[1;33m[\u001b[0m\u001b[1;34m'ndcg'\u001b[0m\u001b[1;33m,\u001b[0m \u001b[1;34m'map@5-'\u001b[0m\u001b[1;33m]\u001b[0m\u001b[1;33m)\u001b[0m\u001b[1;33m\u001b[0m\u001b[1;33m\u001b[0m\u001b[0m\n\u001b[0m\u001b[0;32m     28\u001b[0m \u001b[0my_predict\u001b[0m \u001b[1;33m=\u001b[0m \u001b[0mranker\u001b[0m\u001b[1;33m.\u001b[0m\u001b[0mpredict\u001b[0m\u001b[1;33m(\u001b[0m\u001b[0mX\u001b[0m\u001b[1;33m)\u001b[0m\u001b[1;33m\u001b[0m\u001b[1;33m\u001b[0m\u001b[0m\n\u001b[0;32m     29\u001b[0m \u001b[1;33m\u001b[0m\u001b[0m\n",
      "\u001b[1;32m<ipython-input-593-f6a4734121aa>\u001b[0m in \u001b[0;36mfit\u001b[1;34m(self, X, y, sample_weight, eval_set, eval_metric, early_stopping_rounds, verbose, xgb_model)\u001b[0m\n\u001b[0;32m    137\u001b[0m                               \u001b[0mearly_stopping_rounds\u001b[0m\u001b[1;33m=\u001b[0m\u001b[0mearly_stopping_rounds\u001b[0m\u001b[1;33m,\u001b[0m\u001b[1;33m\u001b[0m\u001b[1;33m\u001b[0m\u001b[0m\n\u001b[0;32m    138\u001b[0m                               \u001b[0mevals_result\u001b[0m\u001b[1;33m=\u001b[0m\u001b[0mevals_result\u001b[0m\u001b[1;33m,\u001b[0m \u001b[0mobj\u001b[0m\u001b[1;33m=\u001b[0m\u001b[0mobj\u001b[0m\u001b[1;33m,\u001b[0m \u001b[0mfeval\u001b[0m\u001b[1;33m=\u001b[0m\u001b[0mfeval\u001b[0m\u001b[1;33m,\u001b[0m\u001b[1;33m\u001b[0m\u001b[1;33m\u001b[0m\u001b[0m\n\u001b[1;32m--> 139\u001b[1;33m                               verbose_eval=verbose, xgb_model=xgb_model)\n\u001b[0m\u001b[0;32m    140\u001b[0m \u001b[1;33m\u001b[0m\u001b[0m\n\u001b[0;32m    141\u001b[0m         \u001b[1;32mif\u001b[0m \u001b[0mevals_result\u001b[0m\u001b[1;33m:\u001b[0m\u001b[1;33m\u001b[0m\u001b[1;33m\u001b[0m\u001b[0m\n",
      "\u001b[1;32m~\\miniconda3\\envs\\tensorflow\\lib\\site-packages\\xgboost\\training.py\u001b[0m in \u001b[0;36mtrain\u001b[1;34m(params, dtrain, num_boost_round, evals, obj, feval, maximize, early_stopping_rounds, evals_result, verbose_eval, xgb_model, callbacks, learning_rates)\u001b[0m\n\u001b[0;32m    214\u001b[0m                            \u001b[0mevals\u001b[0m\u001b[1;33m=\u001b[0m\u001b[0mevals\u001b[0m\u001b[1;33m,\u001b[0m\u001b[1;33m\u001b[0m\u001b[1;33m\u001b[0m\u001b[0m\n\u001b[0;32m    215\u001b[0m                            \u001b[0mobj\u001b[0m\u001b[1;33m=\u001b[0m\u001b[0mobj\u001b[0m\u001b[1;33m,\u001b[0m \u001b[0mfeval\u001b[0m\u001b[1;33m=\u001b[0m\u001b[0mfeval\u001b[0m\u001b[1;33m,\u001b[0m\u001b[1;33m\u001b[0m\u001b[1;33m\u001b[0m\u001b[0m\n\u001b[1;32m--> 216\u001b[1;33m                            xgb_model=xgb_model, callbacks=callbacks)\n\u001b[0m\u001b[0;32m    217\u001b[0m \u001b[1;33m\u001b[0m\u001b[0m\n\u001b[0;32m    218\u001b[0m \u001b[1;33m\u001b[0m\u001b[0m\n",
      "\u001b[1;32m~\\miniconda3\\envs\\tensorflow\\lib\\site-packages\\xgboost\\training.py\u001b[0m in \u001b[0;36m_train_internal\u001b[1;34m(params, dtrain, num_boost_round, evals, obj, feval, xgb_model, callbacks)\u001b[0m\n\u001b[0;32m     72\u001b[0m         \u001b[1;31m# Skip the first update if it is a recovery step.\u001b[0m\u001b[1;33m\u001b[0m\u001b[1;33m\u001b[0m\u001b[1;33m\u001b[0m\u001b[0m\n\u001b[0;32m     73\u001b[0m         \u001b[1;32mif\u001b[0m \u001b[0mversion\u001b[0m \u001b[1;33m%\u001b[0m \u001b[1;36m2\u001b[0m \u001b[1;33m==\u001b[0m \u001b[1;36m0\u001b[0m\u001b[1;33m:\u001b[0m\u001b[1;33m\u001b[0m\u001b[1;33m\u001b[0m\u001b[0m\n\u001b[1;32m---> 74\u001b[1;33m             \u001b[0mbst\u001b[0m\u001b[1;33m.\u001b[0m\u001b[0mupdate\u001b[0m\u001b[1;33m(\u001b[0m\u001b[0mdtrain\u001b[0m\u001b[1;33m,\u001b[0m \u001b[0mi\u001b[0m\u001b[1;33m,\u001b[0m \u001b[0mobj\u001b[0m\u001b[1;33m)\u001b[0m\u001b[1;33m\u001b[0m\u001b[1;33m\u001b[0m\u001b[0m\n\u001b[0m\u001b[0;32m     75\u001b[0m             \u001b[0mbst\u001b[0m\u001b[1;33m.\u001b[0m\u001b[0msave_rabit_checkpoint\u001b[0m\u001b[1;33m(\u001b[0m\u001b[1;33m)\u001b[0m\u001b[1;33m\u001b[0m\u001b[1;33m\u001b[0m\u001b[0m\n\u001b[0;32m     76\u001b[0m             \u001b[0mversion\u001b[0m \u001b[1;33m+=\u001b[0m \u001b[1;36m1\u001b[0m\u001b[1;33m\u001b[0m\u001b[1;33m\u001b[0m\u001b[0m\n",
      "\u001b[1;32m~\\miniconda3\\envs\\tensorflow\\lib\\site-packages\\xgboost\\core.py\u001b[0m in \u001b[0;36mupdate\u001b[1;34m(self, dtrain, iteration, fobj)\u001b[0m\n\u001b[0;32m   1107\u001b[0m         \u001b[1;32mif\u001b[0m \u001b[0mfobj\u001b[0m \u001b[1;32mis\u001b[0m \u001b[1;32mNone\u001b[0m\u001b[1;33m:\u001b[0m\u001b[1;33m\u001b[0m\u001b[1;33m\u001b[0m\u001b[0m\n\u001b[0;32m   1108\u001b[0m             _check_call(_LIB.XGBoosterUpdateOneIter(self.handle, ctypes.c_int(iteration),\n\u001b[1;32m-> 1109\u001b[1;33m                                                     dtrain.handle))\n\u001b[0m\u001b[0;32m   1110\u001b[0m         \u001b[1;32melse\u001b[0m\u001b[1;33m:\u001b[0m\u001b[1;33m\u001b[0m\u001b[1;33m\u001b[0m\u001b[0m\n\u001b[0;32m   1111\u001b[0m             \u001b[0mpred\u001b[0m \u001b[1;33m=\u001b[0m \u001b[0mself\u001b[0m\u001b[1;33m.\u001b[0m\u001b[0mpredict\u001b[0m\u001b[1;33m(\u001b[0m\u001b[0mdtrain\u001b[0m\u001b[1;33m)\u001b[0m\u001b[1;33m\u001b[0m\u001b[1;33m\u001b[0m\u001b[0m\n",
      "\u001b[1;32m~\\miniconda3\\envs\\tensorflow\\lib\\site-packages\\xgboost\\core.py\u001b[0m in \u001b[0;36m_check_call\u001b[1;34m(ret)\u001b[0m\n\u001b[0;32m    174\u001b[0m     \"\"\"\n\u001b[0;32m    175\u001b[0m     \u001b[1;32mif\u001b[0m \u001b[0mret\u001b[0m \u001b[1;33m!=\u001b[0m \u001b[1;36m0\u001b[0m\u001b[1;33m:\u001b[0m\u001b[1;33m\u001b[0m\u001b[1;33m\u001b[0m\u001b[0m\n\u001b[1;32m--> 176\u001b[1;33m         \u001b[1;32mraise\u001b[0m \u001b[0mXGBoostError\u001b[0m\u001b[1;33m(\u001b[0m\u001b[0mpy_str\u001b[0m\u001b[1;33m(\u001b[0m\u001b[0m_LIB\u001b[0m\u001b[1;33m.\u001b[0m\u001b[0mXGBGetLastError\u001b[0m\u001b[1;33m(\u001b[0m\u001b[1;33m)\u001b[0m\u001b[1;33m)\u001b[0m\u001b[1;33m)\u001b[0m\u001b[1;33m\u001b[0m\u001b[1;33m\u001b[0m\u001b[0m\n\u001b[0m\u001b[0;32m    177\u001b[0m \u001b[1;33m\u001b[0m\u001b[0m\n\u001b[0;32m    178\u001b[0m \u001b[1;33m\u001b[0m\u001b[0m\n",
      "\u001b[1;31mXGBoostError\u001b[0m: Invalid Parameter format for seed expect int but value='None'"
     ]
    }
   ],
   "source": [
    "CASE_NUM = 20\n",
    "GROUPS_NUM = 4\n",
    "\n",
    "if CASE_NUM % GROUPS_NUM != 0:\n",
    "    raise ValueError('Cases should be splittable into equal groups.')\n",
    "\n",
    "# Generate some sample data to illustrate ranking\n",
    "X_features = np.random.rand(CASE_NUM, 4)\n",
    "y = np.random.randint(5, size=CASE_NUM)\n",
    "X_groups = np.arange(0, GROUPS_NUM).repeat(CASE_NUM/GROUPS_NUM)\n",
    "\n",
    "print(\"X=\"+str(X_features))\n",
    "print(\"y=\"+str(y))\n",
    "\n",
    "# Append the group labels as a first axis to the features matrix\n",
    "# this is how the algorithm can distinguish between the different\n",
    "# groups\n",
    "X = np.concatenate([X_groups[:,None], X_features], axis=1)\n",
    "\n",
    "\n",
    "# objective = rank:pairwise(default).\n",
    "# Although rank:ndcg is also available,  rank:ndcg(listwise) is much worse than pairwise.\n",
    "# So ojective is always rank:pairwise whatever you write. \n",
    "ranker = XGBRanker(n_estimators=150, learning_rate=0.1, subsample=0.9)\n",
    "\n",
    "\n",
    "ranker.fit(X, y, eval_metric=['ndcg', 'map@5-'])\n",
    "y_predict = ranker.predict(X)\n",
    "\n",
    "print(\"predict:\"+str(y_predict))\n",
    "print(\"type(y_predict):\"+str(type(y_predict)))"
   ]
  },
  {
   "cell_type": "code",
   "execution_count": null,
   "id": "boring-brass",
   "metadata": {},
   "outputs": [],
   "source": []
  }
 ],
 "metadata": {
  "kernelspec": {
   "display_name": "Python 3.7 (tensorflow)",
   "language": "python",
   "name": "tensorflow"
  },
  "language_info": {
   "codemirror_mode": {
    "name": "ipython",
    "version": 3
   },
   "file_extension": ".py",
   "mimetype": "text/x-python",
   "name": "python",
   "nbconvert_exporter": "python",
   "pygments_lexer": "ipython3",
   "version": "3.7.10"
  }
 },
 "nbformat": 4,
 "nbformat_minor": 5
}
