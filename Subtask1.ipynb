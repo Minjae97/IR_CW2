{
 "cells": [
  {
   "cell_type": "code",
   "execution_count": 2,
   "id": "fitting-toddler",
   "metadata": {},
   "outputs": [],
   "source": [
    "from IPython.core.interactiveshell import InteractiveShell\n",
    "InteractiveShell.ast_node_interactivity = \"all\""
   ]
  },
  {
   "cell_type": "code",
   "execution_count": 3,
   "id": "color-coral",
   "metadata": {},
   "outputs": [],
   "source": [
    "import re, string, unicodedata\n",
    "import nltk\n",
    "from nltk.corpus import stopwords\n",
    "from nltk.stem import WordNetLemmatizer\n",
    "import pandas as pd\n",
    "import numpy as np"
   ]
  },
  {
   "cell_type": "code",
   "execution_count": 4,
   "id": "latter-judges",
   "metadata": {},
   "outputs": [],
   "source": [
    "f = open(\"dataset/passage_collection_new.txt\", 'r', encoding = 'utf-8') \n",
    "document = f.read()"
   ]
  },
  {
   "cell_type": "code",
   "execution_count": 5,
   "id": "disturbed-cholesterol",
   "metadata": {},
   "outputs": [],
   "source": [
    "header_list = [\"qid\", \"pid\", \"query\", \"passage\"]\n",
    "candidate_passages_top1000 = pd.read_csv(\"dataset/candidate_passages_top1000.tsv\", sep='\\t', names=header_list)"
   ]
  },
  {
   "cell_type": "code",
   "execution_count": 6,
   "id": "ordinary-jumping",
   "metadata": {},
   "outputs": [],
   "source": [
    "header_list = [\"qid\", \"query\"]\n",
    "test_queries = pd.read_csv(\"dataset/test-queries.tsv\", sep='\\t', names=header_list)"
   ]
  },
  {
   "cell_type": "code",
   "execution_count": 7,
   "id": "reserved-advice",
   "metadata": {},
   "outputs": [],
   "source": [
    "train_data = pd.read_csv(\"part2/train_data.tsv\", sep='\\t')\n",
    "validation_data = pd.read_csv(\"part2/validation_data.tsv\", sep='\\t')\n"
   ]
  },
  {
   "cell_type": "code",
   "execution_count": 8,
   "id": "absent-colorado",
   "metadata": {},
   "outputs": [
    {
     "data": {
      "text/html": [
       "<div>\n",
       "<style scoped>\n",
       "    .dataframe tbody tr th:only-of-type {\n",
       "        vertical-align: middle;\n",
       "    }\n",
       "\n",
       "    .dataframe tbody tr th {\n",
       "        vertical-align: top;\n",
       "    }\n",
       "\n",
       "    .dataframe thead th {\n",
       "        text-align: right;\n",
       "    }\n",
       "</style>\n",
       "<table border=\"1\" class=\"dataframe\">\n",
       "  <thead>\n",
       "    <tr style=\"text-align: right;\">\n",
       "      <th></th>\n",
       "      <th>qid</th>\n",
       "      <th>pid</th>\n",
       "      <th>queries</th>\n",
       "      <th>passage</th>\n",
       "      <th>relevancy</th>\n",
       "    </tr>\n",
       "  </thead>\n",
       "  <tbody>\n",
       "    <tr>\n",
       "      <th>0</th>\n",
       "      <td>188714</td>\n",
       "      <td>1000052</td>\n",
       "      <td>foods and supplements to lower blood sugar</td>\n",
       "      <td>Watch portion sizes: ■ Even healthy foods will...</td>\n",
       "      <td>0.0</td>\n",
       "    </tr>\n",
       "    <tr>\n",
       "      <th>1</th>\n",
       "      <td>995526</td>\n",
       "      <td>1000094</td>\n",
       "      <td>where is the federal penitentiary in ind</td>\n",
       "      <td>It takes THOUSANDS of Macy's associates to bri...</td>\n",
       "      <td>0.0</td>\n",
       "    </tr>\n",
       "    <tr>\n",
       "      <th>2</th>\n",
       "      <td>660957</td>\n",
       "      <td>1000115</td>\n",
       "      <td>what foods are good if you have gout?</td>\n",
       "      <td>The good news is that you will discover what g...</td>\n",
       "      <td>0.0</td>\n",
       "    </tr>\n",
       "    <tr>\n",
       "      <th>3</th>\n",
       "      <td>837202</td>\n",
       "      <td>1000252</td>\n",
       "      <td>what is the nutritional value of oatmeal</td>\n",
       "      <td>Oats make an easy, balanced breakfast. One cup...</td>\n",
       "      <td>0.0</td>\n",
       "    </tr>\n",
       "    <tr>\n",
       "      <th>4</th>\n",
       "      <td>130825</td>\n",
       "      <td>1000268</td>\n",
       "      <td>definition for daring</td>\n",
       "      <td>Such a requirement would have three desirable ...</td>\n",
       "      <td>0.0</td>\n",
       "    </tr>\n",
       "    <tr>\n",
       "      <th>5</th>\n",
       "      <td>408149</td>\n",
       "      <td>1000288</td>\n",
       "      <td>is dhgate a scam</td>\n",
       "      <td>If you think you ve been targeted by a counter...</td>\n",
       "      <td>0.0</td>\n",
       "    </tr>\n",
       "    <tr>\n",
       "      <th>6</th>\n",
       "      <td>1019649</td>\n",
       "      <td>1000419</td>\n",
       "      <td>what study for mets to brain</td>\n",
       "      <td>Sorry he's having so much pain. The reason tha...</td>\n",
       "      <td>0.0</td>\n",
       "    </tr>\n",
       "    <tr>\n",
       "      <th>7</th>\n",
       "      <td>1099065</td>\n",
       "      <td>1000436</td>\n",
       "      <td>how far deep to plant beet early wonder</td>\n",
       "      <td>The simplest way, and my preference, is to roa...</td>\n",
       "      <td>0.0</td>\n",
       "    </tr>\n",
       "    <tr>\n",
       "      <th>8</th>\n",
       "      <td>1084910</td>\n",
       "      <td>1000466</td>\n",
       "      <td>what disease do roof rats cause</td>\n",
       "      <td>1 A cage trap baited with peanut butter or a s...</td>\n",
       "      <td>0.0</td>\n",
       "    </tr>\n",
       "    <tr>\n",
       "      <th>9</th>\n",
       "      <td>959083</td>\n",
       "      <td>1000479</td>\n",
       "      <td>when was niagara falls created</td>\n",
       "      <td>Bulbar Onset – ALS. ALS is like Niagara Falls,...</td>\n",
       "      <td>0.0</td>\n",
       "    </tr>\n",
       "  </tbody>\n",
       "</table>\n",
       "</div>"
      ],
      "text/plain": [
       "       qid      pid                                     queries  \\\n",
       "0   188714  1000052  foods and supplements to lower blood sugar   \n",
       "1   995526  1000094    where is the federal penitentiary in ind   \n",
       "2   660957  1000115       what foods are good if you have gout?   \n",
       "3   837202  1000252    what is the nutritional value of oatmeal   \n",
       "4   130825  1000268                       definition for daring   \n",
       "5   408149  1000288                            is dhgate a scam   \n",
       "6  1019649  1000419                what study for mets to brain   \n",
       "7  1099065  1000436     how far deep to plant beet early wonder   \n",
       "8  1084910  1000466             what disease do roof rats cause   \n",
       "9   959083  1000479              when was niagara falls created   \n",
       "\n",
       "                                             passage  relevancy  \n",
       "0  Watch portion sizes: ■ Even healthy foods will...        0.0  \n",
       "1  It takes THOUSANDS of Macy's associates to bri...        0.0  \n",
       "2  The good news is that you will discover what g...        0.0  \n",
       "3  Oats make an easy, balanced breakfast. One cup...        0.0  \n",
       "4  Such a requirement would have three desirable ...        0.0  \n",
       "5  If you think you ve been targeted by a counter...        0.0  \n",
       "6  Sorry he's having so much pain. The reason tha...        0.0  \n",
       "7  The simplest way, and my preference, is to roa...        0.0  \n",
       "8  1 A cage trap baited with peanut butter or a s...        0.0  \n",
       "9  Bulbar Onset – ALS. ALS is like Niagara Falls,...        0.0  "
      ]
     },
     "execution_count": 8,
     "metadata": {},
     "output_type": "execute_result"
    }
   ],
   "source": [
    "train_data.head(10)"
   ]
  },
  {
   "cell_type": "code",
   "execution_count": 9,
   "id": "olive-breathing",
   "metadata": {},
   "outputs": [
    {
     "data": {
      "text/html": [
       "<div>\n",
       "<style scoped>\n",
       "    .dataframe tbody tr th:only-of-type {\n",
       "        vertical-align: middle;\n",
       "    }\n",
       "\n",
       "    .dataframe tbody tr th {\n",
       "        vertical-align: top;\n",
       "    }\n",
       "\n",
       "    .dataframe thead th {\n",
       "        text-align: right;\n",
       "    }\n",
       "</style>\n",
       "<table border=\"1\" class=\"dataframe\">\n",
       "  <thead>\n",
       "    <tr style=\"text-align: right;\">\n",
       "      <th></th>\n",
       "      <th>qid</th>\n",
       "      <th>pid</th>\n",
       "      <th>queries</th>\n",
       "      <th>passage</th>\n",
       "      <th>relevancy</th>\n",
       "    </tr>\n",
       "  </thead>\n",
       "  <tbody>\n",
       "    <tr>\n",
       "      <th>0</th>\n",
       "      <td>1082792</td>\n",
       "      <td>1000084</td>\n",
       "      <td>what does the golgi apparatus do to the protei...</td>\n",
       "      <td>Start studying Bonding, Carbs, Proteins, Lipid...</td>\n",
       "      <td>0.0</td>\n",
       "    </tr>\n",
       "    <tr>\n",
       "      <th>1</th>\n",
       "      <td>995825</td>\n",
       "      <td>1000492</td>\n",
       "      <td>where is the graphic card located in the cpu</td>\n",
       "      <td>For example, a “PC Expansion Card” maybe the j...</td>\n",
       "      <td>0.0</td>\n",
       "    </tr>\n",
       "    <tr>\n",
       "      <th>2</th>\n",
       "      <td>995825</td>\n",
       "      <td>1000494</td>\n",
       "      <td>where is the graphic card located in the cpu</td>\n",
       "      <td>The Common Cards &amp; Buses. The most common type...</td>\n",
       "      <td>0.0</td>\n",
       "    </tr>\n",
       "    <tr>\n",
       "      <th>3</th>\n",
       "      <td>1091246</td>\n",
       "      <td>1000522</td>\n",
       "      <td>property premises meaning</td>\n",
       "      <td>The occurrence of since tells us that the firs...</td>\n",
       "      <td>0.0</td>\n",
       "    </tr>\n",
       "    <tr>\n",
       "      <th>4</th>\n",
       "      <td>1047854</td>\n",
       "      <td>1000585</td>\n",
       "      <td>what is printing mechanism</td>\n",
       "      <td>Windows desktop applications Develop Desktop t...</td>\n",
       "      <td>0.0</td>\n",
       "    </tr>\n",
       "    <tr>\n",
       "      <th>5</th>\n",
       "      <td>991832</td>\n",
       "      <td>1000599</td>\n",
       "      <td>who discovered the element carbon</td>\n",
       "      <td>1. 1  a nonmetallic element existing in the th...</td>\n",
       "      <td>0.0</td>\n",
       "    </tr>\n",
       "    <tr>\n",
       "      <th>6</th>\n",
       "      <td>185299</td>\n",
       "      <td>1000647</td>\n",
       "      <td>fastest cell phone processor</td>\n",
       "      <td>Tips for calling a cell phone in Greece: To ca...</td>\n",
       "      <td>0.0</td>\n",
       "    </tr>\n",
       "    <tr>\n",
       "      <th>7</th>\n",
       "      <td>574730</td>\n",
       "      <td>1000663</td>\n",
       "      <td>what are the three monetary policy tools of th...</td>\n",
       "      <td>Federal Reserve updates including rates, news ...</td>\n",
       "      <td>0.0</td>\n",
       "    </tr>\n",
       "    <tr>\n",
       "      <th>8</th>\n",
       "      <td>1085008</td>\n",
       "      <td>1000675</td>\n",
       "      <td>what did maria theresa do for the serfs</td>\n",
       "      <td>In this feudal system, the king awarded land g...</td>\n",
       "      <td>0.0</td>\n",
       "    </tr>\n",
       "    <tr>\n",
       "      <th>9</th>\n",
       "      <td>609628</td>\n",
       "      <td>1000771</td>\n",
       "      <td>what county is mitchell south dakota in</td>\n",
       "      <td>South Dakota: According to our research of Sou...</td>\n",
       "      <td>0.0</td>\n",
       "    </tr>\n",
       "  </tbody>\n",
       "</table>\n",
       "</div>"
      ],
      "text/plain": [
       "       qid      pid                                            queries  \\\n",
       "0  1082792  1000084  what does the golgi apparatus do to the protei...   \n",
       "1   995825  1000492       where is the graphic card located in the cpu   \n",
       "2   995825  1000494       where is the graphic card located in the cpu   \n",
       "3  1091246  1000522                          property premises meaning   \n",
       "4  1047854  1000585                         what is printing mechanism   \n",
       "5   991832  1000599                  who discovered the element carbon   \n",
       "6   185299  1000647                       fastest cell phone processor   \n",
       "7   574730  1000663  what are the three monetary policy tools of th...   \n",
       "8  1085008  1000675            what did maria theresa do for the serfs   \n",
       "9   609628  1000771            what county is mitchell south dakota in   \n",
       "\n",
       "                                             passage  relevancy  \n",
       "0  Start studying Bonding, Carbs, Proteins, Lipid...        0.0  \n",
       "1  For example, a “PC Expansion Card” maybe the j...        0.0  \n",
       "2  The Common Cards & Buses. The most common type...        0.0  \n",
       "3  The occurrence of since tells us that the firs...        0.0  \n",
       "4  Windows desktop applications Develop Desktop t...        0.0  \n",
       "5  1. 1  a nonmetallic element existing in the th...        0.0  \n",
       "6  Tips for calling a cell phone in Greece: To ca...        0.0  \n",
       "7  Federal Reserve updates including rates, news ...        0.0  \n",
       "8  In this feudal system, the king awarded land g...        0.0  \n",
       "9  South Dakota: According to our research of Sou...        0.0  "
      ]
     },
     "execution_count": 9,
     "metadata": {},
     "output_type": "execute_result"
    }
   ],
   "source": [
    "validation_data.head(10)"
   ]
  },
  {
   "cell_type": "code",
   "execution_count": 10,
   "id": "minute-ballet",
   "metadata": {},
   "outputs": [
    {
     "data": {
      "text/plain": [
       "(4364339, 5)"
      ]
     },
     "execution_count": 10,
     "metadata": {},
     "output_type": "execute_result"
    },
    {
     "data": {
      "text/plain": [
       "(1103039, 5)"
      ]
     },
     "execution_count": 10,
     "metadata": {},
     "output_type": "execute_result"
    }
   ],
   "source": [
    "train_data.shape\n",
    "validation_data.shape"
   ]
  },
  {
   "cell_type": "markdown",
   "id": "simple-lodging",
   "metadata": {},
   "source": [
    "# Preprocessing"
   ]
  },
  {
   "cell_type": "code",
   "execution_count": 11,
   "id": "negative-thinking",
   "metadata": {},
   "outputs": [],
   "source": [
    "def remove_punctuation(tokens):\n",
    "    new_tokens = []\n",
    "    for token in tokens:\n",
    "        new_token = re.sub(r'[^\\w\\s]', '', token)\n",
    "        if new_token != '':\n",
    "            new_tokens.append(new_token)\n",
    "    return new_tokens\n",
    "\n",
    "def remove_stopwords(tokens):\n",
    "    new_tokens = []\n",
    "    stopword_set = set(stopwords.words('english'))\n",
    "    for token in tokens:\n",
    "        if token not in stopword_set:\n",
    "            new_tokens.append(token)\n",
    "    return new_tokens\n",
    "\n",
    "def lemmatize_verbs(tokens):\n",
    "    lemmatizer = WordNetLemmatizer()\n",
    "    root_words = []\n",
    "    for token in tokens:\n",
    "        root_word = lemmatizer.lemmatize(token, pos='v')\n",
    "#         root_word = lemmatizer.lemmatize(token, pos='n')\n",
    "#         root_word = lemmatizer.lemmatize(token, pos='a')\n",
    "        root_words.append(root_word)\n",
    "    return root_words\n",
    "\n",
    "def remove_numbers(tokens):\n",
    "    \"\"\"Replace all interger occurrences in list of tokenized words with textual representation\"\"\"\n",
    "    new_tokens = []\n",
    "    for token in tokens:\n",
    "        if token.isdigit():\n",
    "            pass\n",
    "        else:\n",
    "            new_tokens.append(token)\n",
    "    return new_tokens\n",
    "\n",
    "def preprocessing(passage):\n",
    "    passage = passage.lower()\n",
    "    tokens = nltk.word_tokenize(passage)\n",
    "    tokens = remove_punctuation(tokens)\n",
    "    tokens = remove_stopwords(tokens)\n",
    "    tokens = lemmatize_verbs(tokens)\n",
    "    tokens = remove_numbers(tokens)\n",
    "    return tokens"
   ]
  },
  {
   "cell_type": "markdown",
   "id": "blind-grenada",
   "metadata": {},
   "source": [
    "# Subtask 1"
   ]
  },
  {
   "cell_type": "markdown",
   "id": "young-peeing",
   "metadata": {},
   "source": [
    "## BM25"
   ]
  },
  {
   "cell_type": "code",
   "execution_count": 31,
   "id": "dominant-mobile",
   "metadata": {},
   "outputs": [],
   "source": [
    "validation_data_no_dup_passages = validation_data.drop_duplicates(subset=['pid'], inplace=False)\n"
   ]
  },
  {
   "cell_type": "code",
   "execution_count": 34,
   "id": "atlantic-sussex",
   "metadata": {},
   "outputs": [
    {
     "data": {
      "text/plain": [
       "(955211, 5)"
      ]
     },
     "execution_count": 34,
     "metadata": {},
     "output_type": "execute_result"
    }
   ],
   "source": [
    "# validation_data_no_dup_passages.head(20)\n",
    "validation_data_no_dup_passages.shape"
   ]
  },
  {
   "cell_type": "code",
   "execution_count": 38,
   "id": "rural-mission",
   "metadata": {},
   "outputs": [],
   "source": [
    "def get_passage_average_length_and_total_word_occurences_corpus():\n",
    "    number_of_passages = len(validation_data_no_dup_passages)\n",
    "    count_total_length = 0\n",
    "    for idx, row in validation_data_no_dup_passages.iterrows():\n",
    "        count_total_length += len(preprocessing(row['passage']))\n",
    "    return count_total_length, count_total_length/number_of_passages \n"
   ]
  },
  {
   "cell_type": "code",
   "execution_count": 39,
   "id": "thorough-pension",
   "metadata": {},
   "outputs": [],
   "source": [
    "total_word_occurences, avdl = get_passage_average_length_and_total_word_occurences_corpus()"
   ]
  },
  {
   "cell_type": "code",
   "execution_count": 41,
   "id": "lightweight-concert",
   "metadata": {},
   "outputs": [],
   "source": [
    "from math import log\n",
    "\n",
    "k1 = 1.2\n",
    "k2 = 100\n",
    "b = 0.75\n",
    "R = 0\n",
    "r = 0\n",
    "N = len(validation_data_no_dup_passages)\n",
    "\n",
    "def K_cal(dl):\n",
    "    return k1 * ((1-b) + b * (float(dl)/float(avdl)) )\n",
    "\n",
    "\n",
    "def BM25_cal(query, passage):\n",
    "    query_tokens = preprocessing(query)\n",
    "    passage_tokens = preprocessing(passage)\n",
    "    query_length = len(query_tokens)\n",
    "    query_token_freq_dict = nltk.FreqDist(query_tokens)\n",
    "    passage_token_freq_dict = nltk.FreqDist(passage_tokens)\n",
    "    dl = len(passage_tokens)\n",
    "    K = K_cal(dl)\n",
    "    score = 0\n",
    "    for token in query_tokens:\n",
    "        try:\n",
    "            n = len(inverted_index[token])\n",
    "        except:\n",
    "            n = 0\n",
    "        f = passage_token_freq_dict[token]\n",
    "        qf = query_token_freq_dict[token]\n",
    "        first_term = log( ( (r + 0.5) / (R - r + 0.5) ) / ( (n - r + 0.5) / (N - n - R + r + 0.5)) )\n",
    "        second_term = ((k1 + 1) * f) / (K + f)\n",
    "        third_term = ((k2+1) * qf) / (k2 + qf)\n",
    "        score += first_term * second_term * third_term\n",
    "    return score\n",
    "    "
   ]
  },
  {
   "cell_type": "code",
   "execution_count": 43,
   "id": "accompanied-monster",
   "metadata": {},
   "outputs": [],
   "source": [
    "bm25_rankings = []\n",
    "for idx, row in validation_data.iterrows():\n",
    "#     print('count:', idx+1)\n",
    "    query = row['queries']\n",
    "    passage = row['passage']\n",
    "    bm25_rankings.append(BM25_cal(query, passage))\n",
    "\n",
    "    "
   ]
  },
  {
   "cell_type": "code",
   "execution_count": 50,
   "id": "coastal-winter",
   "metadata": {},
   "outputs": [
    {
     "data": {
      "text/plain": [
       "array([ 218534, 1076853,   95986,   95987,  831065,  725920,  504442,\n",
       "        654647,  341262,  281695,  950916,  586050,  871938,  793356,\n",
       "        944762,  714508,  900185,  206973,  629358,  701682,  248618,\n",
       "        259324,  702792,  286327,  205094,   98221,  519566,  242694,\n",
       "        705667,  922032,  197484,  431189,  419681,  237993,  502543,\n",
       "        793493,  646679,  559150,  303774,  638714,  778563,  155707,\n",
       "         45281,  132857,  213755,  299424,  252540,    9338, 1075869,\n",
       "        139233,  733889,  401291,  373812,  784890, 1008311,  911301,\n",
       "        909449,  558879,  857483,  602553,  171827,  217514,  857646,\n",
       "        539660,  195886, 1078616,  554316,  872234,  346989,   28250,\n",
       "       1026344,  330458, 1026153,  612051,  395691,  530538,  313678,\n",
       "        693646,  175037,  751525,  216400,  663797,   99840,  928996,\n",
       "          5558,  428329,  546185,   46827,  112665,  118094,  752555,\n",
       "       1017110,  455444,  910607,  648719,  793681, 1063650,  212436,\n",
       "        415429,  654277], dtype=int64)"
      ]
     },
     "execution_count": 50,
     "metadata": {},
     "output_type": "execute_result"
    }
   ],
   "source": [
    "ranking_k = 100\n",
    "results_bm25 = np.array(bm25_rankings).argsort()[-ranking_k:][::-1]\n",
    "results_bm25"
   ]
  },
  {
   "cell_type": "code",
   "execution_count": 52,
   "id": "beautiful-joyce",
   "metadata": {},
   "outputs": [
    {
     "data": {
      "text/html": [
       "<div>\n",
       "<style scoped>\n",
       "    .dataframe tbody tr th:only-of-type {\n",
       "        vertical-align: middle;\n",
       "    }\n",
       "\n",
       "    .dataframe tbody tr th {\n",
       "        vertical-align: top;\n",
       "    }\n",
       "\n",
       "    .dataframe thead th {\n",
       "        text-align: right;\n",
       "    }\n",
       "</style>\n",
       "<table border=\"1\" class=\"dataframe\">\n",
       "  <thead>\n",
       "    <tr style=\"text-align: right;\">\n",
       "      <th></th>\n",
       "      <th>qid</th>\n",
       "      <th>pid</th>\n",
       "      <th>queries</th>\n",
       "      <th>passage</th>\n",
       "      <th>relevancy</th>\n",
       "    </tr>\n",
       "  </thead>\n",
       "  <tbody>\n",
       "    <tr>\n",
       "      <th>218534</th>\n",
       "      <td>1007691</td>\n",
       "      <td>7251254</td>\n",
       "      <td>when allocating service department costs, the ...</td>\n",
       "      <td>Direct method allocates each service departmen...</td>\n",
       "      <td>1.0</td>\n",
       "    </tr>\n",
       "    <tr>\n",
       "      <th>1076853</th>\n",
       "      <td>1007691</td>\n",
       "      <td>7251259</td>\n",
       "      <td>when allocating service department costs, the ...</td>\n",
       "      <td>The direct method is the most widely-used meth...</td>\n",
       "      <td>0.0</td>\n",
       "    </tr>\n",
       "    <tr>\n",
       "      <th>95986</th>\n",
       "      <td>1007691</td>\n",
       "      <td>7251251</td>\n",
       "      <td>when allocating service department costs, the ...</td>\n",
       "      <td>service department provides a large amount of ...</td>\n",
       "      <td>0.0</td>\n",
       "    </tr>\n",
       "    <tr>\n",
       "      <th>95987</th>\n",
       "      <td>1007691</td>\n",
       "      <td>7251253</td>\n",
       "      <td>when allocating service department costs, the ...</td>\n",
       "      <td>The rows sum to 100%, so that all services pro...</td>\n",
       "      <td>0.0</td>\n",
       "    </tr>\n",
       "    <tr>\n",
       "      <th>831065</th>\n",
       "      <td>1007691</td>\n",
       "      <td>7251255</td>\n",
       "      <td>when allocating service department costs, the ...</td>\n",
       "      <td>The most defensible sequence is to start with ...</td>\n",
       "      <td>0.0</td>\n",
       "    </tr>\n",
       "    <tr>\n",
       "      <th>...</th>\n",
       "      <td>...</td>\n",
       "      <td>...</td>\n",
       "      <td>...</td>\n",
       "      <td>...</td>\n",
       "      <td>...</td>\n",
       "    </tr>\n",
       "    <tr>\n",
       "      <th>793681</th>\n",
       "      <td>1007691</td>\n",
       "      <td>4814576</td>\n",
       "      <td>when allocating service department costs, the ...</td>\n",
       "      <td>Service Members | Veterans | Both. Military On...</td>\n",
       "      <td>0.0</td>\n",
       "    </tr>\n",
       "    <tr>\n",
       "      <th>1063650</th>\n",
       "      <td>1007691</td>\n",
       "      <td>6395207</td>\n",
       "      <td>when allocating service department costs, the ...</td>\n",
       "      <td>that hospital emergency department services ar...</td>\n",
       "      <td>0.0</td>\n",
       "    </tr>\n",
       "    <tr>\n",
       "      <th>212436</th>\n",
       "      <td>1007691</td>\n",
       "      <td>6872353</td>\n",
       "      <td>when allocating service department costs, the ...</td>\n",
       "      <td>Yelp Customer Service customer service phone n...</td>\n",
       "      <td>0.0</td>\n",
       "    </tr>\n",
       "    <tr>\n",
       "      <th>415429</th>\n",
       "      <td>1007691</td>\n",
       "      <td>4114248</td>\n",
       "      <td>when allocating service department costs, the ...</td>\n",
       "      <td>A service fee, service charge, or surcharge is...</td>\n",
       "      <td>0.0</td>\n",
       "    </tr>\n",
       "    <tr>\n",
       "      <th>654277</th>\n",
       "      <td>1007691</td>\n",
       "      <td>3743546</td>\n",
       "      <td>when allocating service department costs, the ...</td>\n",
       "      <td>A Sub-contractor is liable to pay Service Tax ...</td>\n",
       "      <td>0.0</td>\n",
       "    </tr>\n",
       "  </tbody>\n",
       "</table>\n",
       "<p>100 rows × 5 columns</p>\n",
       "</div>"
      ],
      "text/plain": [
       "             qid      pid                                            queries  \\\n",
       "218534   1007691  7251254  when allocating service department costs, the ...   \n",
       "1076853  1007691  7251259  when allocating service department costs, the ...   \n",
       "95986    1007691  7251251  when allocating service department costs, the ...   \n",
       "95987    1007691  7251253  when allocating service department costs, the ...   \n",
       "831065   1007691  7251255  when allocating service department costs, the ...   \n",
       "...          ...      ...                                                ...   \n",
       "793681   1007691  4814576  when allocating service department costs, the ...   \n",
       "1063650  1007691  6395207  when allocating service department costs, the ...   \n",
       "212436   1007691  6872353  when allocating service department costs, the ...   \n",
       "415429   1007691  4114248  when allocating service department costs, the ...   \n",
       "654277   1007691  3743546  when allocating service department costs, the ...   \n",
       "\n",
       "                                                   passage  relevancy  \n",
       "218534   Direct method allocates each service departmen...        1.0  \n",
       "1076853  The direct method is the most widely-used meth...        0.0  \n",
       "95986    service department provides a large amount of ...        0.0  \n",
       "95987    The rows sum to 100%, so that all services pro...        0.0  \n",
       "831065   The most defensible sequence is to start with ...        0.0  \n",
       "...                                                    ...        ...  \n",
       "793681   Service Members | Veterans | Both. Military On...        0.0  \n",
       "1063650  that hospital emergency department services ar...        0.0  \n",
       "212436   Yelp Customer Service customer service phone n...        0.0  \n",
       "415429   A service fee, service charge, or surcharge is...        0.0  \n",
       "654277   A Sub-contractor is liable to pay Service Tax ...        0.0  \n",
       "\n",
       "[100 rows x 5 columns]"
      ]
     },
     "execution_count": 52,
     "metadata": {},
     "output_type": "execute_result"
    }
   ],
   "source": [
    "ranking_list_df = validation_data.loc[results_bm25]\n",
    "ranking_list_df"
   ]
  },
  {
   "cell_type": "code",
   "execution_count": 74,
   "id": "radical-foundation",
   "metadata": {},
   "outputs": [
    {
     "data": {
      "text/html": [
       "<div>\n",
       "<style scoped>\n",
       "    .dataframe tbody tr th:only-of-type {\n",
       "        vertical-align: middle;\n",
       "    }\n",
       "\n",
       "    .dataframe tbody tr th {\n",
       "        vertical-align: top;\n",
       "    }\n",
       "\n",
       "    .dataframe thead th {\n",
       "        text-align: right;\n",
       "    }\n",
       "</style>\n",
       "<table border=\"1\" class=\"dataframe\">\n",
       "  <thead>\n",
       "    <tr style=\"text-align: right;\">\n",
       "      <th></th>\n",
       "      <th>qid</th>\n",
       "      <th>pid</th>\n",
       "      <th>queries</th>\n",
       "      <th>passage</th>\n",
       "      <th>relevancy</th>\n",
       "    </tr>\n",
       "  </thead>\n",
       "  <tbody>\n",
       "  </tbody>\n",
       "</table>\n",
       "</div>"
      ],
      "text/plain": [
       "Empty DataFrame\n",
       "Columns: [qid, pid, queries, passage, relevancy]\n",
       "Index: []"
      ]
     },
     "execution_count": 74,
     "metadata": {},
     "output_type": "execute_result"
    }
   ],
   "source": [
    "validation_data[(validation_data['relevancy'] < 1.0) & (validation_data['relevancy'] > 0)]\n"
   ]
  },
  {
   "cell_type": "code",
   "execution_count": 68,
   "id": "established-greece",
   "metadata": {},
   "outputs": [],
   "source": [
    "def average_precision_cal(ranking_list_df):\n",
    "    ranking_list_df = ranking_list_df.reset_index(drop=True, inplace=False)\n",
    "    total_relevant_retrieved = 0\n",
    "    precision_sum = 0\n",
    "    for idx, row in ranking_list_df.iterrows():\n",
    "        relevancy = row['relevancy']\n",
    "        if (relevancy):\n",
    "            isRelevant = True\n",
    "            total_relevant_retrieved += 1\n",
    "        precision = total_relevant_retrieved / (idx + 1)\n",
    "        precision_sum += precision\n",
    "    result = precision_sum / len(ranking_list_df)\n",
    "    return result"
   ]
  },
  {
   "cell_type": "code",
   "execution_count": 69,
   "id": "adverse-myrtle",
   "metadata": {},
   "outputs": [
    {
     "data": {
      "text/plain": [
       "0.07445786781310981"
      ]
     },
     "execution_count": 69,
     "metadata": {},
     "output_type": "execute_result"
    }
   ],
   "source": [
    "average_precision_cal(ranking_list_df)"
   ]
  },
  {
   "cell_type": "code",
   "execution_count": null,
   "id": "hollywood-failure",
   "metadata": {},
   "outputs": [],
   "source": []
  },
  {
   "cell_type": "markdown",
   "id": "filled-freedom",
   "metadata": {},
   "source": [
    "# Subtask 2"
   ]
  },
  {
   "cell_type": "code",
   "execution_count": 1,
   "id": "similar-treaty",
   "metadata": {},
   "outputs": [
    {
     "ename": "NameError",
     "evalue": "name 'validation_data' is not defined",
     "output_type": "error",
     "traceback": [
      "\u001b[1;31m---------------------------------------------------------------------------\u001b[0m",
      "\u001b[1;31mNameError\u001b[0m                                 Traceback (most recent call last)",
      "\u001b[1;32m<ipython-input-1-0db899aac1e6>\u001b[0m in \u001b[0;36m<module>\u001b[1;34m\u001b[0m\n\u001b[1;32m----> 1\u001b[1;33m \u001b[0mvalidation_data\u001b[0m\u001b[1;33m\u001b[0m\u001b[1;33m\u001b[0m\u001b[0m\n\u001b[0m",
      "\u001b[1;31mNameError\u001b[0m: name 'validation_data' is not defined"
     ]
    }
   ],
   "source": []
  },
  {
   "cell_type": "code",
   "execution_count": null,
   "id": "obvious-cleanup",
   "metadata": {},
   "outputs": [],
   "source": []
  }
 ],
 "metadata": {
  "kernelspec": {
   "display_name": "Python 3.7 (tensorflow)",
   "language": "python",
   "name": "tensorflow"
  },
  "language_info": {
   "codemirror_mode": {
    "name": "ipython",
    "version": 3
   },
   "file_extension": ".py",
   "mimetype": "text/x-python",
   "name": "python",
   "nbconvert_exporter": "python",
   "pygments_lexer": "ipython3",
   "version": "3.7.10"
  }
 },
 "nbformat": 4,
 "nbformat_minor": 5
}
